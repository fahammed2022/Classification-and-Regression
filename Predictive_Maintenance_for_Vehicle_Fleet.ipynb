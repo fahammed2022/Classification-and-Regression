{
  "nbformat": 4,
  "nbformat_minor": 0,
  "metadata": {
    "colab": {
      "provenance": [],
      "authorship_tag": "ABX9TyNLsfk2c2Iwnv6ndYB0JGuw",
      "include_colab_link": true
    },
    "kernelspec": {
      "name": "python3",
      "display_name": "Python 3"
    },
    "language_info": {
      "name": "python"
    }
  },
  "cells": [
    {
      "cell_type": "markdown",
      "metadata": {
        "id": "view-in-github",
        "colab_type": "text"
      },
      "source": [
        "<a href=\"https://colab.research.google.com/github/fahammed2022/Classification-and-Regression/blob/main/Predictive_Maintenance_for_Vehicle_Fleet.ipynb\" target=\"_parent\"><img src=\"https://colab.research.google.com/assets/colab-badge.svg\" alt=\"Open In Colab\"/></a>"
      ]
    },
    {
      "cell_type": "code",
      "execution_count": null,
      "metadata": {
        "colab": {
          "base_uri": "https://localhost:8080/"
        },
        "id": "arWQibMaFxbQ",
        "outputId": "bff01528-2697-46c2-e407-499af9d1004b"
      },
      "outputs": [
        {
          "output_type": "stream",
          "name": "stdout",
          "text": [
            "   Mileage  EngineHours  FuelConsumption  TireWear  BrakeUsage  \\\n",
            "0    25795         1814        14.763161  0.517190   15.157111   \n",
            "1    10860         3398        12.994367  1.610707   38.080276   \n",
            "2    86820          577         9.865006  3.834068   79.975494   \n",
            "3    64886         3121         9.995029  1.923216   37.371682   \n",
            "4    16265         4727        15.042304  0.958516    9.614705   \n",
            "\n",
            "   EngineTemperature   OilLevel  MaintenanceNeeded  \n",
            "0          62.486265  70.368852                  1  \n",
            "1         147.234731  83.913348                  0  \n",
            "2          71.802723  32.018955                  0  \n",
            "3          99.707964  47.917079                  0  \n",
            "4         113.388524  85.495540                  1  \n",
            "Accuracy: 0.42\n",
            "\n",
            "Classification Report:\n",
            "               precision    recall  f1-score   support\n",
            "\n",
            "           0       0.43      0.37      0.40       104\n",
            "           1       0.41      0.48      0.44        96\n",
            "\n",
            "    accuracy                           0.42       200\n",
            "   macro avg       0.42      0.42      0.42       200\n",
            "weighted avg       0.42      0.42      0.42       200\n",
            "\n"
          ]
        }
      ],
      "source": [
        "import pandas as pd\n",
        "import numpy as np\n",
        "from sklearn.model_selection import train_test_split\n",
        "from sklearn.ensemble import RandomForestClassifier\n",
        "from sklearn.metrics import classification_report, accuracy_score\n",
        "\n",
        "# Generate dummy data\n",
        "np.random.seed(42)\n",
        "\n",
        "# Create 1000 records\n",
        "n_records = 1000\n",
        "\n",
        "# Generate random values for features\n",
        "mileage = np.random.randint(10000, 100000, n_records)  # in miles\n",
        "engine_hours = np.random.randint(500, 5000, n_records)  # in hours\n",
        "fuel_consumption = np.random.uniform(5, 20, n_records)  # in gallons per hour\n",
        "tire_wear = np.random.uniform(0.5, 5, n_records)  # in mm\n",
        "brake_usage = np.random.uniform(1, 100, n_records)  # in percentage\n",
        "engine_temperature = np.random.uniform(50, 250, n_records)  # in degrees Fahrenheit\n",
        "oil_level = np.random.uniform(10, 100, n_records)  # in percentage\n",
        "\n",
        "# Generate random labels (0: No Maintenance Needed, 1: Maintenance Needed)\n",
        "labels = np.random.randint(0, 2, n_records)\n",
        "\n",
        "# Create a DataFrame\n",
        "data = pd.DataFrame({\n",
        "    'Mileage': mileage,\n",
        "    'EngineHours': engine_hours,\n",
        "    'FuelConsumption': fuel_consumption,\n",
        "    'TireWear': tire_wear,\n",
        "    'BrakeUsage': brake_usage,\n",
        "    'EngineTemperature': engine_temperature,\n",
        "    'OilLevel': oil_level,\n",
        "    'MaintenanceNeeded': labels\n",
        "})\n",
        "\n",
        "print(data.head())\n",
        "\n",
        "# Split the data into training and test sets\n",
        "X = data.drop('MaintenanceNeeded', axis=1)\n",
        "y = data['MaintenanceNeeded']\n",
        "\n",
        "X_train, X_test, y_train, y_test = train_test_split(X, y, test_size=0.2, random_state=42)\n",
        "\n",
        "# Initialize and train the Random Forest classifier\n",
        "clf = RandomForestClassifier(random_state=42)\n",
        "clf.fit(X_train, y_train)\n",
        "\n",
        "# Make predictions\n",
        "y_pred = clf.predict(X_test)\n",
        "\n",
        "# Evaluate the model\n",
        "print(\"Accuracy:\", accuracy_score(y_test, y_pred))\n",
        "print(\"\\nClassification Report:\\n\", classification_report(y_test, y_pred))\n"
      ]
    }
  ]
}