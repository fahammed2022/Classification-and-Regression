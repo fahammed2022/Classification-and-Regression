{
 "cells": [
  {
   "cell_type": "code",
   "execution_count": 6,
   "id": "e4803551",
   "metadata": {},
   "outputs": [
    {
     "name": "stdout",
     "output_type": "stream",
     "text": [
      "$ 1115.7467183128902\n"
     ]
    }
   ],
   "source": [
    "import pandas as pd\n",
    "from sklearn.tree import DecisionTreeRegressor\n",
    "from sklearn.metrics import mean_absolute_error \n",
    "\n",
    "# Load the dataset\n",
    "data_csv = \"melb_data.csv\"\n",
    "\n",
    "# Read the dataset by using Pandas\n",
    "dataset = pd.read_csv(data_csv)\n",
    "\n",
    "# Display the first 5 lines of the dataset\n",
    "dataset.head()\n",
    "\n",
    "# Remove the missing values from the datasets\n",
    "dataset_final = dataset.dropna(axis = 0)\n",
    "\n",
    "# Select the Target Column which is Price in this case\n",
    "Target_Column = dataset_final.Price\n",
    "\n",
    "# Features column to train the model, we need to just drop the Target column\n",
    "X = ['Rooms', 'Bathroom', 'Landsize', 'Lattitude', 'Longtitude']\n",
    "Features_Columns = dataset_final[X]\n",
    "\n",
    "# Define Decesion Tree Regression model\n",
    "My_model = DecisionTreeRegressor()\n",
    "\n",
    "# Fit or train the model\n",
    "My_model.fit(Features_Columns, Target_Column)\n",
    "\n",
    "# Predict Price for houses\n",
    "Prediction = My_model.predict(Features_Columns)\n",
    "\n",
    "# Evaluate the model by using Mean Absolute Error\n",
    "Error = mean_absolute_error(Target_Column, Prediction)\n",
    "print(\"$\",Error)"
   ]
  },
  {
   "cell_type": "code",
   "execution_count": null,
   "id": "c595d155",
   "metadata": {},
   "outputs": [],
   "source": []
  }
 ],
 "metadata": {
  "kernelspec": {
   "display_name": "Python 3 (ipykernel)",
   "language": "python",
   "name": "python3"
  },
  "language_info": {
   "codemirror_mode": {
    "name": "ipython",
    "version": 3
   },
   "file_extension": ".py",
   "mimetype": "text/x-python",
   "name": "python",
   "nbconvert_exporter": "python",
   "pygments_lexer": "ipython3",
   "version": "3.9.1"
  }
 },
 "nbformat": 4,
 "nbformat_minor": 5
}
