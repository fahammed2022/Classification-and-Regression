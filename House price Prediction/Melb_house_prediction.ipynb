{
 "cells": [
  {
   "cell_type": "code",
   "execution_count": 86,
   "id": "e4803551",
   "metadata": {},
   "outputs": [
    {
     "name": "stdout",
     "output_type": "stream",
     "text": [
      "The MAE Error while using Decesion Tree Regression is:  $ 245261.0064557779\n",
      "The accuracy of DTR model is:  0.6389254941561183\n",
      "The MAE Error while using RF is:  $ 175757.0805093916\n",
      "The accuracy of RF model is:  0.8098842700442712\n"
     ]
    }
   ],
   "source": [
    "import pandas as pd\n",
    "from sklearn.tree import DecisionTreeRegressor\n",
    "from sklearn.metrics import mean_absolute_error \n",
    "from sklearn.model_selection import train_test_split\n",
    "from sklearn.ensemble import RandomForestRegressor\n",
    "\n",
    "\n",
    "# Load the dataset\n",
    "data_csv = \"melb_data.csv\"\n",
    "\n",
    "# Read the dataset by using Pandas\n",
    "dataset = pd.read_csv(data_csv)\n",
    "\n",
    "# Display the first 5 lines of the dataset\n",
    "dataset.head()\n",
    "\n",
    "# Remove the missing values from the datasets\n",
    "dataset_final = dataset.dropna(axis = 0)\n",
    "\n",
    "# Select the Target Column which is Price in this case\n",
    "Target_Column = dataset_final.Price\n",
    "\n",
    "# Features column to train the model\n",
    "X = ['Rooms', 'Bathroom', 'Landsize', 'Lattitude', 'Longtitude', 'Car', 'YearBuilt', 'BuildingArea']\n",
    "Features_Columns = dataset_final[X]\n",
    "\n",
    "Features_Train, Features_Test, Target_train, Target_Test = train_test_split(Features_Columns, Target_Column)\n",
    "\n",
    "# Define Decesion Tree Regression model\n",
    "My_model = DecisionTreeRegressor()\n",
    "\n",
    "# Define Random Forest model\n",
    "My_model2 = RandomForestRegressor()\n",
    "\n",
    "# Fit or train the model using Decesion Tree Regression\n",
    "My_model.fit(Features_Train, Target_train)\n",
    "\n",
    "# Fit or train the model using Random Forest\n",
    "My_model2.fit(Features_Train, Target_train)\n",
    "\n",
    "# Predict Price for houses by DTR\n",
    "Prediction = My_model.predict(Features_Test)\n",
    "\n",
    "# Predict Price for houses by RF\n",
    "Prediction2 = My_model2.predict(Features_Test)\n",
    "\n",
    "# Evaluate the model by using Mean Absolute Error -- DTR\n",
    "Error = mean_absolute_error(Target_Test, Prediction)\n",
    "print(\"The MAE Error while using Decesion Tree Regression is: \",\"$\",Error)\n",
    "print(\"The accuracy of DTR model is: \", My_model.score(Features_Test, Target_Test))\n",
    "\n",
    "\n",
    "# Evaluate the model by using Mean Absolute Error -- RF\n",
    "Error2 = mean_absolute_error(Target_Test, Prediction2)\n",
    "print(\"The MAE Error while using RF is: \",\"$\",Error2)\n",
    "print(\"The accuracy of RF model is: \", My_model2.score(Features_Test, Target_Test))\n"
   ]
  }
 ],
 "metadata": {
  "kernelspec": {
   "display_name": "Python 3 (ipykernel)",
   "language": "python",
   "name": "python3"
  },
  "language_info": {
   "codemirror_mode": {
    "name": "ipython",
    "version": 3
   },
   "file_extension": ".py",
   "mimetype": "text/x-python",
   "name": "python",
   "nbconvert_exporter": "python",
   "pygments_lexer": "ipython3",
   "version": "3.9.1"
  }
 },
 "nbformat": 4,
 "nbformat_minor": 5
}
