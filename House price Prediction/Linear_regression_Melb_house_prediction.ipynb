{
 "cells": [
  {
   "cell_type": "code",
   "execution_count": 24,
   "id": "e4803551",
   "metadata": {},
   "outputs": [
    {
     "name": "stdout",
     "output_type": "stream",
     "text": [
      "The accuracy of LinearRegression model is:  0.5054738769238287\n"
     ]
    }
   ],
   "source": [
    "import pandas as pd\n",
    "\n",
    "from sklearn.model_selection import train_test_split\n",
    "from sklearn.linear_model import LinearRegression\n",
    "\n",
    "\n",
    "\n",
    "# Load the dataset\n",
    "data_csv = \"melb_data.csv\"\n",
    "\n",
    "# Read the dataset by using Pandas\n",
    "dataset = pd.read_csv(data_csv)\n",
    "\n",
    "# Display the first 5 lines of the dataset\n",
    "dataset.head()\n",
    "\n",
    "# Remove the missing values from the datasets\n",
    "dataset_final = dataset.dropna(axis = 0)\n",
    "\n",
    "# Select the Target Column which is Price in this case\n",
    "Target_Column = dataset_final.Price\n",
    "\n",
    "# Features column to train the model\n",
    "X = ['Rooms', 'Bathroom', 'Landsize', 'Lattitude', 'Longtitude', 'Car', 'YearBuilt', 'BuildingArea']\n",
    "Features_Columns = dataset_final[X]\n",
    "\n",
    "Features_Train, Features_Test, Target_train, Target_Test = train_test_split(Features_Columns, Target_Column)\n",
    "\n",
    "# Define Linear Regression model\n",
    "My_model = LinearRegression()\n",
    "\n",
    "# Fit or train the model using Decesion Tree Regression\n",
    "My_model.fit(Features_Train, Target_train)\n",
    "\n",
    "# Predict Price for houses by DTR\n",
    "Prediction = My_model.predict(Features_Test)\n",
    "\n",
    "\n",
    "\n",
    "# Evaluate the model by using Root mean squared error -- DTR\n",
    "\n",
    "print(\"The accuracy of LinearRegression model is: \", My_model.score(Features_Test, Target_Test))\n",
    "\n",
    "\n"
   ]
  }
 ],
 "metadata": {
  "kernelspec": {
   "display_name": "Python 3 (ipykernel)",
   "language": "python",
   "name": "python3"
  },
  "language_info": {
   "codemirror_mode": {
    "name": "ipython",
    "version": 3
   },
   "file_extension": ".py",
   "mimetype": "text/x-python",
   "name": "python",
   "nbconvert_exporter": "python",
   "pygments_lexer": "ipython3",
   "version": "3.9.1"
  }
 },
 "nbformat": 4,
 "nbformat_minor": 5
}
