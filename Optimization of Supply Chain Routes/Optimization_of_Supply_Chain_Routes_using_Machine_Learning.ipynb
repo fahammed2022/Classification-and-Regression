{
  "nbformat": 4,
  "nbformat_minor": 0,
  "metadata": {
    "colab": {
      "provenance": [],
      "authorship_tag": "ABX9TyNWFIiC2dMajhoEbxq8AFFd",
      "include_colab_link": true
    },
    "kernelspec": {
      "name": "python3",
      "display_name": "Python 3"
    },
    "language_info": {
      "name": "python"
    }
  },
  "cells": [
    {
      "cell_type": "markdown",
      "metadata": {
        "id": "view-in-github",
        "colab_type": "text"
      },
      "source": [
        "<a href=\"https://colab.research.google.com/github/fahammed2022/Classification-and-Regression/blob/main/Optimization%20of%20Supply%20Chain%20Routes/Optimization_of_Supply_Chain_Routes_using_Machine_Learning.ipynb\" target=\"_parent\"><img src=\"https://colab.research.google.com/assets/colab-badge.svg\" alt=\"Open In Colab\"/></a>"
      ]
    },
    {
      "cell_type": "markdown",
      "source": [
        "# Project: Optimization of Supply Chain Routes using Machine Learning and Deep Learning Algorithm"
      ],
      "metadata": {
        "id": "Oijsj32OAlsV"
      }
    },
    {
      "cell_type": "code",
      "source": [
        "# Importing required libraries\n",
        "import pandas as pd\n",
        "import numpy as np\n",
        "import matplotlib.pyplot as plt\n",
        "import seaborn as sns\n",
        "from sklearn.model_selection import train_test_split\n",
        "from sklearn.linear_model import LinearRegression\n",
        "from sklearn.metrics import mean_absolute_error, mean_squared_error"
      ],
      "metadata": {
        "id": "XTq34kjc_O8T"
      },
      "execution_count": 3,
      "outputs": []
    },
    {
      "cell_type": "code",
      "source": [
        "# Read the dataset\n",
        "dataset_path = \"/content/Transportation_data_updated.csv\"\n",
        "Dataset = pd.read_csv(dataset_path)"
      ],
      "metadata": {
        "id": "yJn1euGxJNsh"
      },
      "execution_count": 4,
      "outputs": []
    }
  ]
}