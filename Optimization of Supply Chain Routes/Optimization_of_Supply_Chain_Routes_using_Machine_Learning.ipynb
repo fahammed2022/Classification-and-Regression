{
  "nbformat": 4,
  "nbformat_minor": 0,
  "metadata": {
    "colab": {
      "provenance": [],
      "authorship_tag": "ABX9TyOgRTrdQRp9KP9kuxhqgJa4",
      "include_colab_link": true
    },
    "kernelspec": {
      "name": "python3",
      "display_name": "Python 3"
    },
    "language_info": {
      "name": "python"
    }
  },
  "cells": [
    {
      "cell_type": "markdown",
      "metadata": {
        "id": "view-in-github",
        "colab_type": "text"
      },
      "source": [
        "<a href=\"https://colab.research.google.com/github/fahammed2022/Classification-and-Regression/blob/main/Optimization%20of%20Supply%20Chain%20Routes/Optimization_of_Supply_Chain_Routes_using_Machine_Learning.ipynb\" target=\"_parent\"><img src=\"https://colab.research.google.com/assets/colab-badge.svg\" alt=\"Open In Colab\"/></a>"
      ]
    },
    {
      "cell_type": "markdown",
      "source": [
        "# Project: Optimization of Supply Chain Routes using Machine Learning and Deep Learning Algorithm"
      ],
      "metadata": {
        "id": "Oijsj32OAlsV"
      }
    },
    {
      "cell_type": "code",
      "source": [],
      "metadata": {
        "id": "XTq34kjc_O8T"
      },
      "execution_count": 2,
      "outputs": []
    }
  ]
}