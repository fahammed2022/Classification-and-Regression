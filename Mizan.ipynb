{
  "nbformat": 4,
  "nbformat_minor": 0,
  "metadata": {
    "colab": {
      "provenance": []
    },
    "kernelspec": {
      "name": "python3",
      "display_name": "Python 3"
    },
    "language_info": {
      "name": "python"
    }
  },
  "cells": [
    {
      "cell_type": "code",
      "execution_count": null,
      "metadata": {
        "id": "Ml453sS4pNMn"
      },
      "outputs": [],
      "source": [
        "import pandas as pd\n",
        "from sklearn.model_selection import train_test_split\n",
        "from sklearn.metrics import confusion_matrix\n",
        "from sklearn import metrics\n",
        "import numpy as np"
      ]
    },
    {
      "cell_type": "code",
      "source": [
        "# Read the dataset\n",
        "dataset_path = \"/TrainingData.csv\"\n",
        "read_dataset = pd.read_csv(dataset_path)\n",
        "\n",
        "# Display first 5 rows of the dataset\n",
        "read_dataset.head()\n",
        "print(read_dataset.head())\n",
        "\n",
        "Target = read_dataset.Class # Target Column\n",
        "Features = read_dataset.drop('Class', axis=1) # Features Column\n",
        "\n",
        "Target = np.array(Target)\n",
        "Features = np.array(Features)\n",
        "\n",
        "print(Features.shape)\n",
        "print(Target.shape)\n",
        "\n",
        "# split the dataset into training and test\n",
        "X_train, X_test, y_train, y_test = train_test_split(Features, Target, random_state = 0)"
      ],
      "metadata": {
        "id": "gb9eRsAxuEhe"
      },
      "execution_count": null,
      "outputs": []
    },
    {
      "cell_type": "code",
      "source": [
        "# Create a DescisionTree model\n",
        "from sklearn.tree import DecisionTreeClassifier\n",
        "dtree_model = DecisionTreeClassifier(max_depth = 2).fit(X_train, y_train)\n",
        "dtree_predictions = dtree_model.predict(X_test)\n",
        "print(\"The DT model accuracy is:\",metrics.accuracy_score(dtree_predictions, y_test))"
      ],
      "metadata": {
        "colab": {
          "base_uri": "https://localhost:8080/"
        },
        "id": "Nq628I9LP3Yb",
        "outputId": "181394e1-413a-4695-82e1-6e4b072ad140"
      },
      "execution_count": null,
      "outputs": [
        {
          "output_type": "stream",
          "name": "stdout",
          "text": [
            "The DT model accuracy is: 0.5782312925170068\n"
          ]
        }
      ]
    },
    {
      "cell_type": "code",
      "source": [
        "# Create a SVM model\n",
        "from sklearn.svm import SVC\n",
        "\n",
        "SVM_model = SVC(kernel = 'linear', C = 1).fit(X_train, y_train)\n",
        "svm_predictions = SVM_model.predict(X_test)\n",
        "\n",
        "# model accuracy for X_test\n",
        "svm_accuracy = SVM_model.score(X_test, y_test)\n",
        "\n",
        "print(\"The SVM model accuracy is:\",svm_accuracy)"
      ],
      "metadata": {
        "colab": {
          "base_uri": "https://localhost:8080/"
        },
        "id": "xCz-2LWwE7hX",
        "outputId": "d06b5776-13d0-422d-b858-2efe41c3b6fe"
      },
      "execution_count": null,
      "outputs": [
        {
          "output_type": "stream",
          "name": "stdout",
          "text": [
            "The SVM model accuracy is: 0.8367346938775511\n"
          ]
        }
      ]
    },
    {
      "cell_type": "code",
      "source": [
        "# Create a KNN model\n",
        "from sklearn.neighbors import KNeighborsClassifier\n",
        "K_Nearest_Neighbors = KNeighborsClassifier(n_neighbors = 4).fit(X_train, y_train)\n",
        "\n",
        "# accuracy on X_test\n",
        "KNN_accuracy = K_Nearest_Neighbors.score(X_test, y_test)\n",
        "print(\"The KNN model accuracy is:\",KNN_accuracy)\n"
      ],
      "metadata": {
        "colab": {
          "base_uri": "https://localhost:8080/"
        },
        "id": "VeBzsfIuQBSV",
        "outputId": "cd8fb2a0-a823-43f8-e8a9-e4af2359103e"
      },
      "execution_count": null,
      "outputs": [
        {
          "output_type": "stream",
          "name": "stdout",
          "text": [
            "The KNN model accuracy is: 0.6122448979591837\n"
          ]
        }
      ]
    },
    {
      "cell_type": "code",
      "source": [
        "# Create a RF model\n",
        "from sklearn.ensemble import RandomForestClassifier\n",
        "RF = RandomForestClassifier(n_estimators = 12, criterion = 'entropy', random_state = 41)\n",
        "RF.fit(X_train, y_train)\n",
        "\n",
        "# Predicting the Test set results\n",
        "y_pred = RF.predict(X_test)\n",
        "\n",
        "print(\"The RF model accuracy is: \", metrics.accuracy_score(y_test, y_pred))\n"
      ],
      "metadata": {
        "colab": {
          "base_uri": "https://localhost:8080/"
        },
        "id": "QFgmeHvGSviM",
        "outputId": "c0482eea-eec9-4d1d-9e7a-fb37fa43fd41"
      },
      "execution_count": null,
      "outputs": [
        {
          "output_type": "stream",
          "name": "stdout",
          "text": [
            "The RF model accuracy is:  0.7891156462585034\n"
          ]
        }
      ]
    }
  ]
}