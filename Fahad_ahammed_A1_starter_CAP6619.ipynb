{
  "cells": [
    {
      "cell_type": "markdown",
      "metadata": {
        "id": "view-in-github",
        "colab_type": "text"
      },
      "source": [
        "<a href=\"https://colab.research.google.com/github/fahammed2022/Classification-and-Regression/blob/main/Fahad_ahammed_A1_starter_CAP6619.ipynb\" target=\"_parent\"><img src=\"https://colab.research.google.com/assets/colab-badge.svg\" alt=\"Open In Colab\"/></a>"
      ]
    },
    {
      "cell_type": "markdown",
      "metadata": {
        "id": "Whf_8TEO-6qX"
      },
      "source": [
        "## CAP 6619 - Deep Learning - Dr Marques\n",
        "## Project 1\n",
        "## Handwritten Digit Classifier Using the MNIST Dataset\n",
        "## Name: Fahad Ahammed\n",
        "##Z number: Z23685691\n",
        "\n",
        "##Notebook : https://colab.research.google.com/drive/1K07XlNO-i-NhBtjNJyPAz7ezolnanhx1?usp=sharing\n"
      ]
    },
    {
      "cell_type": "markdown",
      "metadata": {
        "id": "32AXUOrLxvoD"
      },
      "source": [
        "Useful references and sources:\n",
        "\n",
        "- https://www.tensorflow.org/datasets/catalog/mnist\n",
        "\n",
        "- https://en.wikipedia.org/wiki/MNIST_database\n",
        "\n",
        "- https://keras.io/examples/vision/mnist_convnet/\n",
        "\n",
        "- https://github.com/the-deep-learners/deep-learning-illustrated/blob/master/notebooks/shallow_net_in_keras.ipynb"
      ]
    },
    {
      "cell_type": "markdown",
      "source": [
        "**QUESTION 1: Explain the meaning and contents of each of the variables above.**\n",
        "\n",
        "**Answer:**\n",
        "\n",
        "**X_training :** X_training is the portion of the dataset that was used to train the model by using the features.\n",
        "\n",
        "**y_training:** y_training is the target portion of our traning data. We train this portion of data for what we should receive or expect.\n",
        "\n",
        "**X_validation:** X_validation is used for test or validate the model we built. The features are what we use to evaluate how accurate the model is.\n",
        "\n",
        "**y_validation:** y_validation is the portion of the data from the test or validation set that is used to test the results of our model\n"
      ],
      "metadata": {
        "id": "b0lei6bUEnFl"
      }
    },
    {
      "cell_type": "markdown",
      "source": [
        "**QUESTION** **2: Explain the meaning of the results you get when you run**\n",
        "**bold textmodel.summary() (see figure below).**\n",
        "\n",
        "**Answer:** So basically it's a sequential model that is imported from keras. It works from one layer on the top to another layer. In this model, we have 2 layers. One is the input layer and another is the output layer. The input layer has 64 neurons, a sigmoid function, and an input vector with the shape of 784. The output layer is dense with 10 neurons and a softmax activator. If we multiply 64 by 784 and add 64 biases, we get 50,240. If we multiply 64 by 10 and add the 10 bias terms, we get 650 and after adding these 2 up we get 50,890. So we got total of 50,890 trainable parameters."
      ],
      "metadata": {
        "id": "ug1c7_ODK4uZ"
      }
    },
    {
      "cell_type": "markdown",
      "source": [
        "**QUESTION 3: Does the model show any indication of overfitting? Why (not)?**\n",
        "\n",
        "**Answer:** We know overfitting is a term when the model remembers the data and perform poorly for the new data. In our model I can see that the network has achieved good accuracy on both train and test sets and low values of loss in both train and test sets. That means it performed well when the validation data was given and the accuracy was nearly 0.90249. As both of the traning and validation went through the same direction for loss and accuracy curves, we can also observer that no overfitting or underfitting happened. So **NO** indication of overfitting here."
      ],
      "metadata": {
        "id": "KqZnxIzbU06b"
      }
    },
    {
      "cell_type": "markdown",
      "metadata": {
        "id": "o_i0NIxeykr0"
      },
      "source": [
        "### (OPTIONAL) TODO 1\n",
        "\n",
        "To understand which **loss function** have to use for which purpose, this blog helped to work on Optional TODO 2 : https://neptune.ai/blog/keras-loss-functions\n",
        "\n",
        "For **confusion matrix** this URL helped:\n",
        "\n",
        "https://www.milindsoorya.com/blog/handwritten-digits-classification\n",
        "\n",
        "https://conx.readthedocs.io/en/latest/MNIST.html\n",
        "\n",
        "\n",
        "\n",
        "\n"
      ]
    },
    {
      "cell_type": "markdown",
      "metadata": {
        "id": "2u-hfaHC-6qb"
      },
      "source": [
        "## Setup"
      ]
    },
    {
      "cell_type": "code",
      "execution_count": null,
      "metadata": {
        "id": "1H7CSr4a-6qb"
      },
      "outputs": [],
      "source": [
        "from tensorflow import keras\n",
        "from keras.datasets import mnist\n",
        "from keras.models import Sequential\n",
        "from keras.layers import Dense\n",
        "from tensorflow.keras.optimizers import SGD\n",
        "\n",
        "from tensorflow.keras import layers\n",
        "\n",
        "from matplotlib import pyplot as plt\n",
        "\n",
        "import numpy as np"
      ]
    },
    {
      "cell_type": "markdown",
      "metadata": {
        "id": "dxNd2jV5-6qg"
      },
      "source": [
        "## Load and prepare the data"
      ]
    },
    {
      "cell_type": "code",
      "execution_count": null,
      "metadata": {
        "id": "AL5uSsG5EoEw"
      },
      "outputs": [],
      "source": [
        "# Model / data parameters\n",
        "num_classes = 10\n",
        "input_shape = (28, 28, 1)\n",
        "\n",
        "# the data, split between train and validation sets\n",
        "(X_train, y_train), (X_valid, y_valid) = mnist.load_data()"
      ]
    },
    {
      "cell_type": "code",
      "execution_count": null,
      "metadata": {
        "colab": {
          "base_uri": "https://localhost:8080/"
        },
        "id": "x2jsR31jEqYn",
        "outputId": "3f3f8bb2-3d1f-4044-f9d2-dc2d0960a8d6"
      },
      "outputs": [
        {
          "output_type": "execute_result",
          "data": {
            "text/plain": [
              "(60000, 28, 28)"
            ]
          },
          "metadata": {},
          "execution_count": 6
        }
      ],
      "source": [
        "X_train.shape"
      ]
    },
    {
      "cell_type": "code",
      "execution_count": null,
      "metadata": {
        "colab": {
          "base_uri": "https://localhost:8080/"
        },
        "id": "EOXe9zdD-6qp",
        "outputId": "272e2c13-801e-4915-e79f-0ae2a81ddf55"
      },
      "outputs": [
        {
          "output_type": "execute_result",
          "data": {
            "text/plain": [
              "(60000,)"
            ]
          },
          "metadata": {},
          "execution_count": 7
        }
      ],
      "source": [
        "y_train.shape"
      ]
    },
    {
      "cell_type": "code",
      "execution_count": null,
      "metadata": {
        "colab": {
          "base_uri": "https://localhost:8080/"
        },
        "id": "99XuEIZf-6qr",
        "outputId": "29f45169-f195-4808-921b-c760f4bf669a"
      },
      "outputs": [
        {
          "output_type": "execute_result",
          "data": {
            "text/plain": [
              "array([5, 0, 4, 1, 9, 2, 1, 3, 1, 4, 3, 5], dtype=uint8)"
            ]
          },
          "metadata": {},
          "execution_count": 8
        }
      ],
      "source": [
        "y_train[0:12]"
      ]
    },
    {
      "cell_type": "code",
      "execution_count": null,
      "metadata": {
        "colab": {
          "base_uri": "https://localhost:8080/",
          "height": 54
        },
        "id": "Rcidoo4X-6qt",
        "outputId": "c6278bc1-1541-4985-8426-417f58f147eb"
      },
      "outputs": [
        {
          "output_type": "display_data",
          "data": {
            "text/plain": [
              "<Figure size 360x360 with 12 Axes>"
            ],
            "image/png": "[encoded data removed]"
          },
          "metadata": {
            "needs_background": "light"
          }
        }
      ],
      "source": [
        "plt.figure(figsize=(5,5))\n",
        "for k in range(12):\n",
        "    plt.subplot(3, 4, k+1)\n",
        "    plt.imshow(X_train[k], cmap='Greys')\n",
        "    plt.axis('off')\n",
        "plt.tight_layout()\n",
        "plt.show()"
      ]
    },
    {
      "cell_type": "code",
      "execution_count": null,
      "metadata": {
        "colab": {
          "base_uri": "https://localhost:8080/"
        },
        "id": "xL2vkR3jO2md",
        "outputId": "21b881b6-3f06-4424-9b97-cc3c04295986"
      },
      "outputs": [
        {
          "output_type": "execute_result",
          "data": {
            "text/plain": [
              "(10000, 28, 28)"
            ]
          },
          "metadata": {},
          "execution_count": 10
        }
      ],
      "source": [
        "X_valid.shape"
      ]
    },
    {
      "cell_type": "code",
      "execution_count": null,
      "metadata": {
        "colab": {
          "base_uri": "https://localhost:8080/"
        },
        "id": "GKtAwVhYO34o",
        "outputId": "d1205366-d232-482e-b002-6e20bcf4d26c"
      },
      "outputs": [
        {
          "output_type": "execute_result",
          "data": {
            "text/plain": [
              "(10000,)"
            ]
          },
          "metadata": {},
          "execution_count": 11
        }
      ],
      "source": [
        "y_valid.shape"
      ]
    },
    {
      "cell_type": "code",
      "execution_count": null,
      "metadata": {
        "colab": {
          "base_uri": "https://localhost:8080/"
        },
        "id": "rITLTiol7eZH",
        "outputId": "79133d37-2869-494a-fcf7-cf1c65c86d30"
      },
      "outputs": [
        {
          "output_type": "execute_result",
          "data": {
            "text/plain": [
              "7"
            ]
          },
          "metadata": {},
          "execution_count": 12
        }
      ],
      "source": [
        "y_valid[0]"
      ]
    },
    {
      "cell_type": "code",
      "execution_count": null,
      "metadata": {
        "colab": {
          "base_uri": "https://localhost:8080/",
          "height": 54
        },
        "id": "v7wsvxTt7iZO",
        "outputId": "5f237b4c-072f-4651-b68c-18b10f56eb22"
      },
      "outputs": [
        {
          "output_type": "display_data",
          "data": {
            "text/plain": [
              "<Figure size 432x288 with 1 Axes>"
            ],
            "image/png": "[encoded data removed]"
          },
          "metadata": {
            "needs_background": "light"
          }
        }
      ],
      "source": [
        "plt.imshow(X_valid[0], cmap='Greys')\n",
        "plt.axis('off')\n",
        "plt.show()"
      ]
    },
    {
      "cell_type": "code",
      "execution_count": null,
      "metadata": {
        "colab": {
          "base_uri": "https://localhost:8080/"
        },
        "id": "lKSraXzh-6qw",
        "outputId": "f9b8f0be-c2d6-420d-983b-c648103c42d5"
      },
      "outputs": [
        {
          "output_type": "stream",
          "name": "stdout",
          "text": [
            "X_training shape (after reshaping + scaling): (60000, 784)\n",
            "60000 train samples\n",
            "X_validation shape (after reshaping + scaling): (10000, 784)\n",
            "10000 validation samples\n"
          ]
        }
      ],
      "source": [
        "# Reshape (flatten) images\n",
        "X_train_reshaped = X_train.reshape(60000, 784).astype('float32')\n",
        "X_valid_reshaped = X_valid.reshape(10000, 784).astype('float32')\n",
        "\n",
        "# Scale images to the [0, 1] range\n",
        "X_train_scaled_reshaped = X_train_reshaped / 255\n",
        "X_valid_scaled_reshaped = X_valid_reshaped / 255\n",
        "\n",
        "# Renaming for conciseness\n",
        "X_training = X_train_scaled_reshaped\n",
        "X_validation = X_valid_scaled_reshaped\n",
        "\n",
        "print(\"X_training shape (after reshaping + scaling):\", X_training.shape)\n",
        "print(X_training.shape[0], \"train samples\")\n",
        "print(\"X_validation shape (after reshaping + scaling):\", X_validation.shape)\n",
        "print(X_validation.shape[0], \"validation samples\")"
      ]
    },
    {
      "cell_type": "code",
      "execution_count": null,
      "metadata": {
        "id": "amUBlLnG-6qz"
      },
      "outputs": [],
      "source": [
        "# convert class vectors to binary class matrices\n",
        "y_training = keras.utils.to_categorical(y_train, num_classes)\n",
        "y_validation = keras.utils.to_categorical(y_valid, num_classes)"
      ]
    },
    {
      "cell_type": "code",
      "execution_count": null,
      "metadata": {
        "colab": {
          "base_uri": "https://localhost:8080/"
        },
        "id": "QRX6auItPqtX",
        "outputId": "2da11734-2a6a-4274-d145-3bd264b9963a"
      },
      "outputs": [
        {
          "output_type": "stream",
          "name": "stdout",
          "text": [
            "7\n",
            "[0. 0. 0. 0. 0. 0. 0. 1. 0. 0.]\n"
          ]
        }
      ],
      "source": [
        "print(y_valid[0])\n",
        "print(y_validation[0])"
      ]
    },
    {
      "cell_type": "markdown",
      "metadata": {
        "id": "BEn1cfWJ-6rH"
      },
      "source": [
        "## PART 1 - Shallow neural network architecture"
      ]
    },
    {
      "cell_type": "code",
      "execution_count": null,
      "metadata": {
        "id": "r7CsGuzIKvZd"
      },
      "outputs": [],
      "source": [
        "model = Sequential()\n",
        "model.add(Dense(64, activation='sigmoid', input_shape=(784,)))\n",
        "model.add(Dense(10, activation='softmax'))"
      ]
    },
    {
      "cell_type": "code",
      "execution_count": null,
      "metadata": {
        "colab": {
          "base_uri": "https://localhost:8080/"
        },
        "id": "wQTQzXvJ-6rJ",
        "outputId": "73a8ca88-eb65-467a-f845-a0631e845494"
      },
      "outputs": [
        {
          "output_type": "stream",
          "name": "stdout",
          "text": [
            "Model: \"sequential\"\n",
            "_________________________________________________________________\n",
            " Layer (type)                Output Shape              Param #   \n",
            "=================================================================\n",
            " dense (Dense)               (None, 64)                50240     \n",
            "                                                                 \n",
            " dense_1 (Dense)             (None, 10)                650       \n",
            "                                                                 \n",
            "=================================================================\n",
            "Total params: 50,890\n",
            "Trainable params: 50,890\n",
            "Non-trainable params: 0\n",
            "_________________________________________________________________\n"
          ]
        }
      ],
      "source": [
        "model.summary()"
      ]
    },
    {
      "cell_type": "code",
      "execution_count": null,
      "metadata": {
        "colab": {
          "base_uri": "https://localhost:8080/"
        },
        "id": "p0KPx8Di-6rO",
        "outputId": "caf69209-e762-417f-f41f-518588e30597"
      },
      "outputs": [
        {
          "output_type": "execute_result",
          "data": {
            "text/plain": [
              "50176"
            ]
          },
          "metadata": {},
          "execution_count": 19
        }
      ],
      "source": [
        "(64*784)"
      ]
    },
    {
      "cell_type": "code",
      "execution_count": null,
      "metadata": {
        "colab": {
          "base_uri": "https://localhost:8080/"
        },
        "id": "e7KDBMCS-6rQ",
        "outputId": "e6210d4b-fe3a-4c80-be86-3db6a5724ef2"
      },
      "outputs": [
        {
          "output_type": "execute_result",
          "data": {
            "text/plain": [
              "50240"
            ]
          },
          "metadata": {},
          "execution_count": 20
        }
      ],
      "source": [
        "(64*784)+64"
      ]
    },
    {
      "cell_type": "code",
      "execution_count": null,
      "metadata": {
        "colab": {
          "base_uri": "https://localhost:8080/"
        },
        "id": "ls_u6Lne-6rU",
        "outputId": "ed8fd1dd-bcc3-4301-cfd7-c11e1d4c5cd3"
      },
      "outputs": [
        {
          "output_type": "execute_result",
          "data": {
            "text/plain": [
              "650"
            ]
          },
          "metadata": {},
          "execution_count": 21
        }
      ],
      "source": [
        "(10*64)+10"
      ]
    },
    {
      "cell_type": "markdown",
      "metadata": {
        "id": "eflqPyf9-6rW"
      },
      "source": [
        "### Configure model"
      ]
    },
    {
      "cell_type": "code",
      "execution_count": null,
      "metadata": {
        "id": "ZxAxL41M-6rX"
      },
      "outputs": [],
      "source": [
        "model.compile(\n",
        "    loss='mean_squared_error',\n",
        "    optimizer=SGD(learning_rate=0.01),\n",
        "    metrics=['accuracy']\n",
        ")"
      ]
    },
    {
      "cell_type": "markdown",
      "metadata": {
        "id": "eK2qXanIRXee"
      },
      "source": [
        "### (OPTIONAL) TODO 2\n",
        "\n",
        "Try different options for `loss` and `optimizer`\n",
        "\n",
        "I have used different optimizer and loss function for the same model and got differet results. I used categorical_crossentropy as a loss function and Adam for the optimizer. After changing those parameters I trained the model again for 500 epoch and got 0.97 accuracy this time. But its clearly visible that the model achived a huge loss during traning. The traning set achived the accuracy of 1.00 after running only 76 epoch and then it started overfitting.\n",
        "\n",
        "\n",
        "```\n",
        "model.compile(\n",
        "  optimizer='adam',\n",
        "  loss='categorical_crossentropy',\n",
        "  metrics=['accuracy']\n",
        ")\n",
        "\n",
        "```\n",
        "\n",
        "\n",
        "![loss.png](data:image/png;base64,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)\n",
        "\n",
        "![accuracy.png](data:image/png;base64,iVBORw0KGgoAAAANSUhEUgAAAYgAAAEWCAYAAAB8LwAVAAAABHNCSVQICAgIfAhkiAAAAAlwSFlzAAALEgAACxIB0t1+/AAAADh0RVh0U29mdHdhcmUAbWF0cGxvdGxpYiB2ZXJzaW9uMy4yLjIsIGh0dHA6Ly9tYXRwbG90bGliLm9yZy+WH4yJAAAgAElEQVR4nO3deZhdVZnv8e+v5gyVOQxJyAACEgQZQoAWBaHV4AACNgqiYncb26nxPk7Q0qh0e/W2Ns4T2hERZTCK0hiBgEFUxjCPIQGBVAJJZU4lNdd7/1i7klMnJ8lJUqdOper3eZ56as/73adO7XevvfZeSxGBmZlZvopyB2BmZv2TE4SZmRXkBGFmZgU5QZiZWUFOEGZmVpAThJmZFeQEYQZIukrSfxa57AuS/r7UMZmVmxOEmZkV5ARhNoBIqip3DDZwOEHYXiO7tfMZSY9J2iTpfyTtK+kPkjZKul3S6Jzlz5D0pKR1ku6UdFjOvKMlPZStdz1Ql7evt0t6JFv3bklHFhnj2yQ9LGmDpKWSvpg3/6Rse+uy+Rdm04dI+m9JL0paL+kv2bRTJDUU+Bz+Phv+oqS5kq6RtAG4UNJMSfdk+3hZ0ncl1eSsf7ik+ZLWSFoh6d8k7Sdps6SxOcsdI6lRUnUxx24DjxOE7W3OAd4EHAK8A/gD8G/AeNL3+V8BJB0CXAt8Mps3D/hfSTXZyfK3wM+BMcCvsu2SrXs0MAf4MDAW+BFwk6TaIuLbBLwfGAW8DfiIpHdm252SxfudLKajgEey9b4OHAv8XRbTZ4GuIj+TM4G52T5/AXQC/wcYB5wInAZ8NIuhHrgduAWYALwKuCMiXgHuBM7N2e77gOsior3IOGyAcYKwvc13ImJFRCwD/gzcFxEPR0QLcCNwdLbcu4HfR8T87AT3dWAI6QR8AlANfDMi2iNiLvBAzj5mAz+KiPsiojMifga0ZuvtUETcGRGPR0RXRDxGSlInZ7PPB26PiGuz/a6OiEckVQD/CFwUEcuyfd4dEa1Ffib3RMRvs302R8SDEXFvRHRExAukBNcdw9uBVyLivyOiJSI2RsR92byfARcASKoEziMlURuknCBsb7MiZ7i5wPjwbHgC8GL3jIjoApYCE7N5y6JnS5Uv5gxPAT6V3aJZJ2kdcEC23g5JOl7SguzWzHrgX0hX8mTbeK7AauNIt7gKzSvG0rwYDpF0s6RXsttO/7eIGAB+B0yXNI1USlsfEffvZkw2ADhB2EC1nHSiB0CSSCfHZcDLwMRsWrfJOcNLgS9HxKicn6ERcW0R+/0lcBNwQESMBH4IdO9nKXBQgXVWAS3bmbcJGJpzHJWk21O58ptk/gHwDHBwRIwg3YLLjeHAQoFnpbAbSKWI9+HSw6DnBGED1Q3A2ySdllWyfop0m+hu4B6gA/hXSdWSzgZm5qz7Y+BfstKAJA3LKp/ri9hvPbAmIlokzSTdVur2C+DvJZ0rqUrSWElHZaWbOcAVkiZIqpR0Ylbn8SxQl+2/GrgU2FldSD2wAWiS9GrgIznzbgb2l/RJSbWS6iUdnzP/auBC4AycIAY9JwgbkCJiEelK+DukK/R3AO+IiLaIaAPOJp0I15DqK36Ts+5C4EPAd4G1wJJs2WJ8FLhc0kbgMlKi6t7uS8BbSclqDamC+rXZ7E8Dj5PqQtYA/w+oiIj12TZ/Qir9bAJ6PNVUwKdJiWkjKdldnxPDRtLto3cArwCLgTfmzP8rqXL8oYjIve1mg5DcYZCZ5ZL0R+CXEfGTcsdi5eUEYWZbSDoOmE+qQ9lY7nisvHyLycwAkPQz0jsSn3RyMHAJwszMtsMlCDMzK2jANOw1bty4mDp1arnDMDPbqzz44IOrIiL/3RpgACWIqVOnsnDhwnKHYWa2V5G03ceZfYvJzMwKcoIwM7OCnCDMzKygAVMHUUh7ezsNDQ20tLSUO5SSq6urY9KkSVRXu28XM+sdAzpBNDQ0UF9fz9SpU+nZcOfAEhGsXr2ahoYGpk2bVu5wzGyAKNktJklzJK2U9MR25kvStyUtUepC8piceR+QtDj7+cDuxtDS0sLYsWMHdHIAkMTYsWMHRUnJzPpOKesgrgJm7WD+6cDB2c9sUhv2SBoDfAE4ntQE8xeU08/wrhroyaHbYDlOM+s7JbvFFBF3SZq6g0XOBK7OevW6V9IoSfsDpwDzI2INgKT5pERTTGcte62uCNo7umjvCiKCjs6gK68ZlJ01itLU0sGcv/xty3L5zah0j0a2RO7sKGKZ3G1uXW7H6/VYPZtYX1dNS3sn7Z3FdrncU0WFEKKza/fWz1VXU0lNZQUbmt3tsu299hs5hPOPn7zzBXdROesgJtKzq8SGbNr2pm9D0mxS6YPJk3v/w+kN69at45e//CUf/ehHt0xr7+yiua2TzW2drG9up6Ozi67YenIF+Nj7/4GvfOcnjBg5svh9Nbdz+c1P9Wr8pbS7hZ7cpLWnBafe3JZZuRx1wKgBlyD2WERcCVwJMGPGjH7Z6uC6dev4/ve/z0c+8hE2t3Wyqqk1JYWODqqqqhheW0V9XQ0VgpqqSqorRYXE/FtvobJi2zPWjs5hlevrePSyN2+zcPeJr3vd7ttRW8e752/dev7JMn+Z/G3ucLs5G+vqCn714FKOnjyaQ/YtpoO2ba3c0MJzjZs44cAxe3xr7b7nV7OksYnzZ072bTqzPOVMEMtIfQR3m5RNW0a6zZQ7/c4+i6qXXXzxxTz33HNMP+K1VFZWUVNXx/gxo3l+yWKeWfQM55x9NkuXLqWlpYWLLrqI2bNnA1ubDmlqauL000/npJNO4u6772bixIn87ne/Y8iQIdvsq6JCjBzavx9zragQ7z5uz6509hlRxz4j6nolnuMPHMvxB47tlW2ZDTTlTBA3AR+XdB2pQnp9RLws6Vbg/+ZUTL8ZuGRPd/al/32Sp5Zv2NPN9DB9wgi+8I7Dtzu/s6uLiy75AgsffpRf3fpnnn/sfs571zv59RNPbHkcdc6cOYwZM4bm5maOO+44zjnnHMaO7XnCWrx4Mddeey0//vGPOffcc/n1r3/NBRdc0KvHYmaWr2QJQtK1pJLAOEkNpCeTqgEi4ofAPFL/vEuAzcAHs3lrJP0HqW9egMu7K6z3Ji3tnfxt1SbWb26nqqKCV+0znFVDqpk5c2aPdxW+/e1vc+ONNwKwdOlSFi9evE2CmDZtGkcddRQAxx57LC+88EKfHYeZDV6lfIrpvJ3MD+Bj25k3B5jTm/Hs6Eq/t63d3MbSNZuprBBTxgylqlLUVVcCMGzYsC3L3Xnnndx+++3cc889DB06lFNOOaXguwy1tbVbhisrK2lubi79QZjZoLdXV1L3Rxua21m2tpm66kqmjBlKU20HGzcW7r1x/fr1jB49mqFDh/LMM89w77339nG0Zmbb5wTRi1o7OmlY20xNVQXTxg2jurKC2rFjed3rXsdrXvMahgwZwr777rtl+VmzZvHDH/6Qww47jEMPPZQTTjihjNGbmfU0YPqknjFjRuR3GPT0009z2GGH9cn+W9o7eb5xExHBgeOHMaSm73NvXx6vmQ0Mkh6MiBmF5rkE0Qs6urp4cfVmAA7aZ/iW+gYzs72Z+4PYQxHB0jXNtHV2MWXsUCcHMxswnCD20MvrW9jY0s7EUXUMq3WBzMwGDieIPbBucxurmloZN7yWMcNqd76CmdlexAliD6xqaqO2qpL9R/ZOsw9mZv2JE8RuWre5jc1tHYwdXuNG3sxsQHKC2A0RwcqNrdRVVzJ2WM0Ol+1uzXV3fPOb32Tz5s27ta6Z2Z5ygtgNm1o7aGnvZOywnZcenCDMbG/lx252UVcES9c2U1tVyaihOy49wNbmvo866ije9KY3sc8++3DDDTfQ2trKWWedxZe+9CU2bdrEueeeS0NDA52dnfz7v/87K1asYPny5bzxjW9k3LhxLFiwoA+Ozsxsq8GTIP5wMbzy+B5vpquriwPau6irrqBywmvh9K/ucPmvfvWrPPHEEzzyyCPcdtttzJ07l/vvv5+I4IwzzuCuu+6isbGRCRMm8Pvf/x5IbTSNHDmSK664ggULFjBu3Lg9jtvMbFf5FtMuau8MJAr29rYzt912G7fddhtHH300xxxzDM888wyLFy/miCOOYP78+Xzuc5/jz3/+MyN3oZtRM7NSGTwliJ1c6Rejua2TxSs3su+IOobtRo9mEcEll1zChz/84W3mPfTQQ8ybN49LL72U0047jcsuu2yP4zUz2xMuQeyCFRtaqKzQTp9cylVfX7+lue+3vOUtzJkzh6amJgCWLVvGypUrWb58OUOHDuWCCy7gM5/5DA899NA265qZ9bWSliAkzQK+BVQCP4mIr+bNn0LqGGg8sAa4ICIasnn/BbyNlMTmAxdFGZuebe/sYmNLO+Pra6mqLD6vjs1p7vv000/n/PPP58QTTwRg+PDhXHPNNSxZsoTPfOYzVFRUUF1dzQ9+8AMAZs+ezaxZs5gwYYIrqc2sz5WsuW9JlcCzwJuABlIXoudFxFM5y/wKuDkifibpVOCDEfE+SX8HfA14Q7boX4BLIuLO7e2v1M19r9zYwivrWzh033pq+2mDfG7u28x21Y6a+y7lLaaZwJKIeD4i2oDrgDPzlpkO/DEbXpAzP4A6oAaoJfVlvaKEse7Uuk3tDKup6rfJwcyst5UyQUwEluaMN2TTcj0KnJ0NnwXUSxobEfeQEsbL2c+tEfF0/g4kzZa0UNLCxsbGXj+Abq3tnbR0dDJyaHXJ9mFm1t+Uu5L608DJkh4GTgaWAZ2SXgUcBkwiJZVTJb0+f+WIuDIiZkTEjPHjxxfcQW/cQlvf0g7AiLr++9DXQOkZ0Mz6j1ImiGXAATnjk7JpW0TE8og4OyKOBj6fTVtHKk3cGxFNEdEE/AE4cVcDqKurY/Xq1Xt08uzs6qJxYyvDa6uoqeqft5cigtWrV1NX51Zlzaz3lPKS+AHgYEnTSInhPcD5uQtIGgesiYgu4BLSE00ALwEfkvQVQKTSxTd3NYBJkybR0NDAntx+am3vpLGpjXHDa3h6Vf9MEJCS4aRJk8odhpkNICVLEBHRIenjwK2kx1znRMSTki4HFkbETcApwFckBXAX8LFs9bnAqcDjpArrWyLif3c1hurqaqZNm7ZHx/HTv/6NL/3vi9z/+dPYp77MV+ib10DtCKjsv7e6zGzgKOmZJiLmAfPypl2WMzyXlAzy1+sEtn3duAyeXbGR0UOrGT+8iB7jWpvgzq/Acf8MY3ISU1dX+l2Rc0ev8VmoqoHqofDIL2HGB2HDchj/alh8G0x5HdQOT8u2bIDogv+aBsd9CN729Z777eyAikpwvxRm1ot8KboDEcEDL6zl1fuN2LZZ7wi457sw8dg0PnQs3Pt9ePAqePBn8Jb/TCf8pfdB08q0/HnXwi2XQOPTsH5ZOulHZ1r/9i+k30e+Gx67Hl7zLjjqfHj+Trj721v3+8CPYcLRcNjb4bkFcMgs+MZ0eO158JYvb11u+SMw9iCorYdnb4U/fBYOfRscdCq86jTYsAxeeQLq94UFX4GZs2H0VBhzYM9Elm/ZQ/DwNXDKxdC8FlQBqxbDwW+CympY9xI0r0vHNmpySlxVdVBVCy/eneLZ74i0rc729LlUFXgzffOatE7NsF34i5lZbyrZi3J9rdCLcnvq7iWrOP8n9/H1f3gt7zo27/7+0zfD9e/dvQ1PPBZGHgB1I+GRX0BXx54HC/C+G9PJetlD8Nh1aVpNPbTlNdcx4ejUsm2h/VZUw9TXpRgPOhXmXwb1+8OmVSl5PPrLwvseNQXWvVh4XlUdHPIWeOp3afy9c1MiXTw/JcjJJ6aYpr8zxfTMzXD/j1MpbOZseOLX8I5vpf0vuT1tb1reQ21tm2H1Yhh3CLx0DzQ8mBKRKlKiHHNgKmF1ZUl5e4lpe155PCW31qaUBA96Y4qjdUP6OwJ0tKVtVw9J8cz9Rzj6Aph8Aqx8Gl78a0r665elac1rYcjoFFfz2rS9tS+mY+hoTqVLgNaN8OSNMOoAmDgD1i9Ny6gSmtekuKoKlHC7/7ddsrQd2NGLck4QO/BftzzDlXc9zxNfegt1uS/IbVgOP3w9dLVDy/o07Q2fTSeNicemE1z1MBg5CepGwENXwz6HpRPGwW+B996wdVutTfDyo2mbk4+HhXPgtefDbZfCiAlw0ifTCeixX8EDP4FVi9J6qtxa+hg6Djav2vYA6kZBR2sqbTz+qzTt5IvhT1mLJ2d8J51wX/gr7PcaqMxOmH/7czpBVQ1Jv0dMgpqhKcZh42Ht37buY+KMVFJ48jdp/JDT4TXnpNg2vpxKEg0LYVF2p7Fu5NbPbOaH4bk/QkcLbHwlfZ7Fevs30kl42YPQ+Ez6iS6onwBNK7Z+Nt0qa1OSaHw6JY3a+pQAj3w3HHr61uU6WlOCeek+WHpvSjSTjk1x5qoZnk7oLevS8b7yRIqhsjrtq6sd2nfQ2VPNcGhrSn+7ypr0WVHgf1EV6bh2ZtwhMOGY9P0Ye3AqeT1/ZyrBTZyREsmoyakOq2VdSsot61Npd5/D0nd32YPp+7vxlfRZNa9NcRIpxq6OlLRG7J9KeJDmtayH8YfB2heg6ZVUmu5sT7HX75+W6WxP+x13aIqpoipNX/tCSmQdrekCY8IxKaG1bkx/o7YmGDk5JeLmNXDACenvUlGdtt28Ni2jipSYVZG2HV3p81clbGpMf6va4Wl4zEHpd9umFEPN8PSz/KH0W0rHWzcSujrT/0DdKBg6JsW5anGaN+7gtP3Vi9N3uGZ4SvitORdk0QXtzVC/X1qmM+c7Xjcy7WvlM2m9Efun6dVDt/7vjJycPtPOtlTCR1svSBoXpZhUkS4QRk3e+fekACeI3fTen9zL+uZ2bv5EztXqi3fDVW9PJ6CzfgT7HZm+eMX8cZpWpj9+d93CropIX/rmdSl5vPJ4+sLufyQ88D/pxH3EuelkH5FO6t1+fGr6kv3LX+CKw9M/9b81bH9f3zoqbe8Nn4FTL+05b+OK9KWsGZqSSEXF1n/oQjo74J7vpNthne3wo9enq/t/+UvPbT6/IP1DDhuXShxrX4RHr00npru+tnXZfabDyqzFlmHjU+lj/6PSP9D9P0pJ4oSPwDOpfw2Gjk3/cGtfSJ9VaxOsb4DFt8LwfeFfH0knn4Vz4NHrYUNDOr7xr07bXHJ7OkFMewPsOx32OTzFVVUHi/4ArevTSZjITqAT0j/v/q9NcQ7fFw57Byy5AzavhuH7pJNZbT2s+Vu6iBiWTetoTdvesAymnJS2sXlVOoamFak0NTqr3zr8rDS9rQkevS79vUZNSZ/h5tXpxAbphFk3MpVwOprTSa2zNc0bc1AqEe1Kcrb+Z+IM+NAdu7WqE8Ru6OoKXvul2zjjqAl8+azsnvmyh+BnZ8CwsXDaZXD42XtP8b0ru6KuqEyV3l0d6epje37/KXjo5/DJx1M9RW96Zl46UY8s8rHciHR1t/QBmHJiOnG//Gi6Apz2hnRMu+P5P8HVZ2y9DadKmPJ3MPNDMGnm1iu6zvZ0ki30t+7qTFfTwwu/qNnrNry8Na5c7S3pajp3XtumVJLIj7+zI5V2pJRsVy2Glx9JSbnxWRg9JSXQlnXp+EZMTKWqmuHpOFubUpIj2177JljzPAzfL1001I1MV/gAq5dkV/fdt8s2ZOtsTtsed0iKrXVDusLe1JiWHT01fa41w7ZeKbduTMc4dEyW9F9J36EhY9LFT+tGINJ2K6pSLJ0d6YKjvTl9HtV16UKtfv901S1ln92aVLrpbEvTO1rS8qpIpYn2zWm9yhoYf2iKrbskXTM83a7s/i6MnpI+m+hKMQ0dmz6H2vo03G3z6nShOf6wdNuwu+TR2ZY+X1XAqmfTBUbdqFRSQelvUzs8xduWWoZmyOhUt7gbnCB2w4urN3Hy1+7kq2cfwXtmTobVz8FPTkt/5A/eAiPzWw0ZYJrXpavufQZ443+L/pDu748/NNWBjD2o3BGZ9akdJQg/xbQdTy1PVzrTJ4xItyauf1+6Inj/TQM/OQAMGZV+BrpDT+9ZB2FmWzhBbMdTL2+gskIcsm893DA7VW6+66c9328wMxvAyt1YX7/11PINHDR+GHXrnksvrr3hM3D4O8sdlplZn3GC2I6nXt7A9P1HpDeja4anN5jNzAYRJ4gC1mxq4+X1LRy+39D0iOMR5/TdUypmZv2EE0QBi1ekx82OqV2WHr+buk1XFGZmA54TRAEvrUlvwB60akF6FtkJwswGISeIApau2UyNOhi56PrUNEZvvyhmZrYXcIIoYOnaZt41/AnUtAKOvbDc4ZiZlUVJE4SkWZIWSVoi6eIC86dIukPSY5LulDQpZ95kSbdJelrSU5KmljLWXC+t2czbq+5P7eO86u/7ardmZv1KyRKEpErge8DpwHTgPEnT8xb7OnB1RBwJXA58JWfe1cDXIuIwYCawslSx5ntpzWYO63g6NXvt3tvMbJAqZQliJrAkIp6PiDbgOuDMvGWmA93tKC/onp8lkqqImA8QEU0RsYO2k3tPc1snlRuXM7p9BRxwfF/s0sysXyplgpgILM0Zb8im5XoUODsbPguolzQWOARYJ+k3kh6W9LWsRNKDpNmSFkpa2NjY2CtBL127mWMqFqeRA2b2yjbNzPZG5a6k/jRwsqSHgZOBZUAnqY2o12fzjwMOBC7MXzkiroyIGRExY/z43nmR7aXVmzm2YjFdlXWprwczs0GqlAliGXBAzvikbNoWEbE8Is6OiKOBz2fT1pFKG49kt6c6gN8Cx5Qw1i0a1m7m2IpFdOx3VOodzMxskCplgngAOFjSNEk1wHuAm3IXkDROUncMlwBzctYdJam7WHAq8FQJY91i3dpVHKG/UX2gX44zs8GtZAkiu/L/OHAr8DRwQ0Q8KelySWdki50CLJL0LLAv8OVs3U7S7aU7JD1O6rrqx6WKNdeIFfdRqUAHndIXuzMz67dK+gxnRMwD5uVNuyxneC4wdzvrzgf6vBJgxPpFaWDisX29azOzfqXcldT9zojmZaypHJc6kDczG8ScIPKMbV/O+rpB0KWomdlOOEHkaOvoYv9YQfOwSTtf2MxsgHOCyNG4bgP7sZbOEZPLHYqZWdk5QeRYt+IlKhRUjnaCMDNzgsjR1PgSAEPGHrCTJc3MBj4niBxta1LTUfX7TilzJGZm5ecEkSPWp5ZARjlBmJk5QeSqbHqZJoZSNXRkuUMxMys7J4gcQ5pXsLpibLnDMDPrF5wgcoxoX8G6qt5pNtzMbG/nBJFjdMcqNtbuU+4wzMz6BSeIbp3tjI61tNTtV+5IzMz6BSeIbhtfoYKgbZgThJkZOEFs0bo2vQPRVb9/mSMxM+sfSpogJM2StEjSEkkXF5g/RdIdkh6TdKekSXnzR0hqkPTdUsYJsHnNKwBU1rsEYWYGJUwQkiqB7wGnA9OB8yRNz1vs68DVEXEkcDnwlbz5/wHcVaoYc7VsaASgdqSfYjIzg9KWIGYCSyLi+YhoA64DzsxbZjrwx2x4Qe58SceSuiG9rYQxbtGeJYghI/0Uk5kZlDZBTASW5ow3ZNNyPQqcnQ2fBdRLGiupAvhvUr/UfSI2rWJz1DJ8+Ii+2qWZWb9W7krqTwMnS3oYOBlYBnQCHwXmRUTDjlaWNFvSQkkLGxsb9ygQNa9mDfUMrytpN91mZnuNUp4NlwG57WZPyqZtERHLyUoQkoYD50TEOkknAq+X9FFgOFAjqSkiLs5b/0rgSoAZM2bEngRb0byWNVHP/rVOEGZmUNoE8QBwsKRppMTwHuD83AUkjQPWREQXcAkwByAi3puzzIXAjPzk0NuqW9ewNuo5xCUIMzOghLeYIqID+DhwK/A0cENEPCnpcklnZIudAiyS9CypQvrLpYpnZ2ra1rOOemqryn3Xzcysfyjp5XJEzAPm5U27LGd4LjB3J9u4CriqBOH1UN3ZRFvlUCSVeldmZnuFoi6XJf1G0tuyp4sGpNrOzbRXDSt3GGZm/UaxJ/zvk+oPFkv6qqRDSxhT3+vsoDra6HSCMDPboqgEERG3ZxXHxwAvALdLulvSByVVlzLAPtHWBEBXtROEmVm3om8ZSRoLXAj8M/Aw8C1Swphfksj6UneCqBle5kDMzPqPoiqpJd0IHAr8HHhHRLyczbpe0sJSBddn2jal3zUuQZiZdSv2KaZvR8SCQjMiYkYvxlMerakEES5BmJltUewtpumSRnWPSBqdveU8MLRtBJwgzMxyFZsgPhQR67pHImIt8KHShFQGWQkCV1KbmW1RbIKoVM4bZFlfDzWlCakMsjoIlyDMzLYqtg7iFlKF9I+y8Q9n0waEzpYNVAKqdYIwM+tWbIL4HCkpfCQbnw/8pCQRlUFHy0YqgYra+nKHYmbWbxSVILLWVn+Q/Qw4na2bAaiqG1LmSMzM+o9i34M4mNRf9HSgrnt6RBxYorj6VGd7K+1RSU313v9SuJlZbym2kvqnpNJDB/BG4GrgmlIF1de62lpopZraqspyh2Jm1m8UmyCGRMQdgCLixYj4IvC20oXVtzrbU4Koqx6wjdWame2yYiupW7OmvhdL+jiph7gB88hPdLTQ5hKEmVkPxV4yXwQMBf4VOBa4APjAzlaSNEvSIklLJG3TZaikKZLukPSYpDslTcqmHyXpHklPZvPeXfwh7bpob6E1qt2bnJlZjp2eEbOX4t4dEU0R0RARH4yIcyLi3iLW+x5wOqly+zxJ0/MW+zpwdUQcCVxOqggH2Ay8PyIOB2YB38xt6qO3RUcrbVRR61tMZmZb7PSMGBGdwEm7se2ZwJKIeD4i2oDrgDPzlpkO/DEbXtA9PyKejYjF2fByYCUwfjdiKE5HqyupzczyFHvJ/LCkmyS9T9LZ3T87WWcisDRnvCGblutRoHs7ZwH1Wb8TW0iaSWrW47n8HUiaLWmhpIWNjY1FHkoBHa20uZLazKyHYs+IdcBq4FTgHdnP23th/58GTpb0MHAyqfK7s3umpP1JfVB8MHtZr4eIuDIiZkTEjPHjd7+Aoc7WrA7CJQgzs27Fvkn9wd3Y9jLggJzxSdm03O0uJytBSBoOnNPdaqykEcDvgc/vrL5jj3W2ZYCAyYAAABCeSURBVLeYXIIwM+tW7JvUPwUif3pE/OMOVnsAOFjSNFJieA9wft52xwFrstLBJcCcbHoNcCOpAntuMTHuiYrOVtoY6RKEmVmOYt+DuDlnuI5UX7B8RytEREf2zsStQCUwJyKelHQ5sDAibgJOAb4iKYC7gI9lq58LvAEYK+nCbNqFEfFIkfHukorOrJLadRBmZlsUe4vp17njkq4F/lLEevOAeXnTLssZngtsU0KIiGvow6Y8KrraaKOaygrtfGEzs0Fidy+ZDwb26c1Ayqmqq43WqMbpwcxsq2LrIDbSsw7iFVIfEQNCZVcbbVRRIacIM7Nuxd5iGtA96VR2tdFKDc4PZmZbFXWLSdJZkkbmjI+S9M7ShdWHIqiK9JirnCHMzLYotg7iCxGxvnske1fhC6UJqY91tgHQXvQDXWZmg0OxCaLQcgPjjNrRCkArNWUOxMysfyk2QSyUdIWkg7KfK4AHSxlYn8kSRLvc3aiZWa5iE8QngDbgelKrrC1sfalt71Y3gmtf/R0WxLHljsTMrF8p9immTcA2Hf4MCFW1vDDiOF7hhXJHYmbWrxT7FNP83A57JI2WdGvpwupbAX4HwswsT7G3mMZ1t7IKEBFrGUBvUnd1BW5lw8ysp2ITRJekyd0jkqZSoHXXvVVX4HcgzMzyFPuo6ueBv0j6EyDg9cDskkXVx4LwW9RmZnmKraS+RdIMUlJ4GPgt0FzKwPpShOsgzMzyFdtY3z8DF5F6hXsEOAG4h9QF6V6vK1yCMDPLV2wdxEXAccCLEfFG4Ghg3Y5XAUmzJC2StETSNo/JSpoi6Q5Jj0m6U9KknHkfkLQ4+/lAkXHuFpcgzMy2VWyCaImIFgBJtRHxDHDojlaQVAl8DzgdmA6cJ2l63mJfJ3UreiRwOfCVbN0xpLaejgdmAl+QNLrIWHdZV4T7gjAzy1NsgmjI3oP4LTBf0u+AF3eyzkxgSUQ8HxFtpDewz8xbZjrwx2x4Qc78twDzI2JN9kjtfGBWkbHussBPMZmZ5Su2kvqsbPCLkhYAI4FbdrLaRGBpzngDqUSQ61HgbOBbpH6u6yWN3c66E4uJdXdE+D0IM7N8u9zlaET8KSJuykoFe+rTwMmSHgZOBpYBncWuLGm2pIWSFjY2Nu52EF1duJLazCzP7vZJXYxlwAE545OyaVtExPKIODsijia9a9Hd18RO182WvTIiZkTEjPHjx+92oEG4ktrMLE8pE8QDwMGSpkmqAd4D3JS7gKRxkrpjuASYkw3fCrw5a/NpNPDmbFpJdPkpJjOzbZQsQUREB/Bx0on9aeCGiHhS0uWSzsgWOwVYJOlZYF/gy9m6a4D/ICWZB4DLs2kl0RUDptUQM7NeU9Je4SJiHjAvb9plOcNzgbnbWXcOW0sUpRVQUcqylJnZXsinRVIJwreYzMx6coIga8213EGYmfUzThC4wyAzs0KcIMgqqZ0fzMx6cIKAVEntEoSZWQ9OEHRXUpc7CjOz/sUJgu7WXJ0hzMxyOUGQ+oPwHSYzs56cIHBTG2ZmhThBkJr7dn4wM+vJCQK/B2FmVogTBH6KycysECcIUh2E7zGZmfXkBIG7HDUzK8QJguwx13IHYWbWzzhB4C5HzcwKKWmCkDRL0iJJSyRdXGD+ZEkLJD0s6TFJb82mV0v6maTHJT0t6ZJSxtnV5aeYzMzylSxBSKoEvgecDkwHzpM0PW+xS0ldkR5N6rP6+9n0fwBqI+II4Fjgw5KmlipWt+ZqZratUpYgZgJLIuL5iGgDrgPOzFsmgBHZ8Ehgec70YZKqgCFAG7ChVIGm9yBKtXUzs71TKRPERGBpznhDNi3XF4ELJDWQ+q7+RDZ9LrAJeBl4Cfh6RKzJ34Gk2ZIWSlrY2Ni424GGuxw1M9tGuSupzwOuiohJwFuBn0uqIJU+OoEJwDTgU5IOzF85Iq6MiBkRMWP8+PG7HUSXG+szM9tGKRPEMuCAnPFJ2bRc/wTcABAR9wB1wDjgfOCWiGiPiJXAX4EZpQrUJQgzs22VMkE8ABwsaZqkGlIl9E15y7wEnAYg6TBSgmjMpp+aTR8GnAA8U6pAUwnCCcLMLFfJEkREdAAfB24FniY9rfSkpMslnZEt9ingQ5IeBa4FLoyIID39NFzSk6RE89OIeKyEsfohJjOzPFWl3HhEzCNVPudOuyxn+CngdQXWayI96ton/BSTmdm2yl1J3S90RfgWk5lZHicIUltMLkGYmfXkBIErqc3MCnGCwJXUZmaFOEHQfYvJKcLMLJcTBFmXo/4kzMx68GmR7Ckm32QyM+vBCYL0HoTvMJmZ9eQEgesgzMwKcYKg+0W5ckdhZta/OEHgEoSZWSFOEHRXUpuZWS4nCFIJwm9Sm5n15ARBd4dB5Y7CzKx/cYLAXY6amRVS0gQhaZakRZKWSLq4wPzJkhZIeljSY5LemjPvSEn3SHpS0uOS6koVZ+AuR83M8pWswyBJlaSe4d4ENAAPSLop6ySo26WknuZ+IGk6qXOhqZKqgGuA90XEo5LGAu2litWtuZqZbauUJYiZwJKIeD4i2oDrgDPzlglgRDY8ElieDb8ZeCwiHgWIiNUR0VmqQMPvQZiZbaOUCWIisDRnvCGbluuLwAWSGkilh09k0w8BQtKtkh6S9NlCO5A0W9JCSQsbGxt3O1B3GGRmtq1yV1KfB1wVEZOAtwI/l1RBuvV1EvDe7PdZkk7LXzkiroyIGRExY/z48bsdhBvrMzPbVikTxDLggJzxSdm0XP8E3AAQEfcAdcA4UmnjrohYFRGbSaWLY0oVaJdLEGZm2yhlgngAOFjSNEk1wHuAm/KWeQk4DUDSYaQE0QjcChwhaWhWYX0y8BQlkuognCHMzHKV7CmmiOiQ9HHSyb4SmBMRT0q6HFgYETcBnwJ+LOn/kCqsL4yIANZKuoKUZAKYFxG/L12sfg/CzCxfyRIEQETMI90eyp12Wc7wU8DrtrPuNaRHXUsucGN9Zmb5yl1J3S90uakNM7NtOEHQ3R+EM4SZWS4nCFwHYWZWiBME7jDIzKwQJwjcYZCZWSFOEPgpJjOzQpwg6K6kLncUZmb9ixME7nLUzKyQQZ8g0ovbbovJzCzfoE8QXSk/uDVXM7M8gz5BuARhZlbYoE8Q3SWICmcIM7MenCCyEoSZmfU06BNEN78HYWbW06BPEF2ugzAzK8gJovspJicIM7MeSpogJM2StEjSEkkXF5g/WdICSQ9LekzSWwvMb5L06VLFuPUpJmcIM7NcJUsQkiqB7wGnA9OB8yRNz1vsUuCGiDia1Gf19/PmXwH8oVQxwtYShJmZ9VTKEsRMYElEPB8RbcB1wJl5ywQwIhseCSzvniHpncDfgCdLGKNLEGZm21HKBDERWJoz3pBNy/VF4AJJDaS+qz8BIGk48DngSzvagaTZkhZKWtjY2LhbQXY/5epKajOznspdSX0ecFVETALeCvxcUgUpcXwjIpp2tHJEXBkRMyJixvjx43crgO6nmNxYn5lZT1Ul3PYy4ICc8UnZtFz/BMwCiIh7JNUB44DjgXdJ+i9gFNAlqSUivtvbQVZXVfC2I/Znytihvb1pM7O9WikTxAPAwZKmkRLDe4Dz85Z5CTgNuErSYUAd0BgRr+9eQNIXgaZSJAeAEXXVfO+9x5Ri02Zme7WS3WKKiA7g48CtwNOkp5WelHS5pDOyxT4FfEjSo8C1wIURbvvCzKw/0EA5H8+YMSMWLlxY7jDMzPYqkh6MiBmF5pW7ktrMzPopJwgzMyvICcLMzApygjAzs4KcIMzMrCAnCDMzK2jAPOYqqRF4cQ82MQ5Y1Uvh7C18zIODj3lw2N1jnhIRBdsqGjAJYk9JWri9Z4EHKh/z4OBjHhxKccy+xWRmZgU5QZiZWUFOEFtdWe4AysDHPDj4mAeHXj9m10GYmVlBLkGYmVlBThBmZlbQoE8QkmZJWiRpiaSLyx1Pb5E0R9JKSU/kTBsjab6kxdnv0dl0Sfp29hk8Jmmv7EFJ0gGSFkh6StKTki7Kpg/Y45ZUJ+l+SY9mx/ylbPo0Sfdlx3a9pJpsem02viSbP7Wc8e8JSZWSHpZ0czY+oI9Z0guSHpf0iKSF2bSSfrcHdYKQVAl8DzgdmA6cJ2l6eaPqNVeRdeea42Lgjog4GLgjG4d0/AdnP7OBH/RRjL2tA/hUREwHTgA+lv09B/JxtwKnRsRrgaOAWZJOAP4fqV/3VwFrSd37kv1em03/Rrbc3uoiUmdk3QbDMb8xIo7Ked+htN/tiBi0P8CJwK0545cAl5Q7rl48vqnAEznji4D9s+H9gUXZ8I+A8wottzf/AL8D3jRYjhsYCjxE6tN9FVCVTd/yPSf18HhiNlyVLadyx74bxzopOyGeCtwMaBAc8wvAuLxpJf1uD+oSBDARWJoz3pBNG6j2jYiXs+FXgH2z4QH3OWS3EY4G7mOAH3d2q+URYCUwH3gOWBep21/oeVxbjjmbvx4Y27cR94pvAp8FurLxsQz8Yw7gNkkPSpqdTSvpd7tqdyO1vVtEhKQB+YyzpOHAr4FPRsQGSVvmDcTjjohO4ChJo4AbgVeXOaSSkvR2YGVEPCjplHLH04dOiohlkvYB5kt6JndmKb7bg70EsQw4IGd8UjZtoFohaX+A7PfKbPqA+RwkVZOSwy8i4jfZ5AF/3AARsQ5YQLq9MkpS9wVg7nFtOeZs/khgdR+HuqdeB5wh6QXgOtJtpm8xsI+ZiFiW/V5JuhCYSYm/24M9QTwAHJw9/VADvAe4qcwxldJNwAey4Q+Q7tF3T39/9uTDCcD6nGLrXkOpqPA/wNMRcUXOrAF73JLGZyUHJA0h1bk8TUoU78oWyz/m7s/iXcAfI7tJvbeIiEsiYlJETCX9z/4xIt7LAD5mScMk1XcPA28GnqDU3+1yV7yU+wd4K/As6b7t58sdTy8e17XAy0A76f7jP5Huu94BLAZuB8Zky4r0NNdzwOPAjHLHv5vHfBLpPu1jwCPZz1sH8nEDRwIPZ8f8BHBZNv1A4H5gCfAroDabXpeNL8nmH1juY9jD4z8FuHmgH3N2bI9mP092n6tK/d12UxtmZlbQYL/FZGZm2+EEYWZmBTlBmJlZQU4QZmZWkBOEmZkV5ARh1g9IOqW7VVKz/sIJwszMCnKCMNsFki7I+l94RNKPsobymiR9I+uP4Q5J47Nlj5J0b9Ye/405bfW/StLtWR8OD0k6KNv8cElzJT0j6RfKbUTKrAycIMyKJOkw4N3A6yLiKKATeC8wDFgYEYcDfwK+kK1yNfC5iDiS9DZr9/RfAN+L1IfD35HeeIfU+uwnSX2THEhqc8isbNyaq1nxTgOOBR7ILu6HkBpH6wKuz5a5BviNpJHAqIj4Uzb9Z8CvsvZ0JkbEjQAR0QKQbe/+iGjIxh8h9efxl9IflllhThBmxRPws4i4pMdE6d/zltvd9mtac4Y78f+nlZlvMZkV7w7gXVl7/N39AU8h/R91tyJ6PvCXiFgPrJX0+mz6+4A/RcRGoEHSO7Nt1Eoa2qdHYVYkX6GYFSkinpJ0KalXrwpSS7kfAzYBM7N5K0n1FJCaX/5hlgCeBz6YTX8f8CNJl2fb+Ic+PAyzork1V7M9JKkpIoaXOw6z3uZbTGZmVpBLEGZmVpBLEGZmVpAThJmZFeQEYWZmBTlBmJlZQU4QZmZW0P8HiJt/+hMQSlAAAAAASUVORK5CYII=)\n",
        "\n",
        "Here's the  notebook link for my **Optional TODO 2**. https://colab.research.google.com/drive/1B54A9zYSWdWO7YIQQN6Catrw15iKCNj_?usp=sharing"
      ]
    },
    {
      "cell_type": "markdown",
      "metadata": {
        "id": "DId95CJ_-6rY"
      },
      "source": [
        "### Train!"
      ]
    },
    {
      "cell_type": "code",
      "execution_count": null,
      "metadata": {
        "colab": {
          "base_uri": "https://localhost:8080/"
        },
        "id": "OGws4yu8-6rZ",
        "outputId": "671ada31-bf2e-4dab-fc43-48564a6463d6"
      },
      "outputs": [
        {
          "output_type": "stream",
          "name": "stdout",
          "text": [
            "Epoch 1/500\n",
            "469/469 [==============================] - 3s 4ms/step - loss: 0.0933 - accuracy: 0.0884 - val_loss: 0.0925 - val_accuracy: 0.0856\n",
            "Epoch 2/500\n",
            "469/469 [==============================] - 2s 4ms/step - loss: 0.0921 - accuracy: 0.0958 - val_loss: 0.0917 - val_accuracy: 0.1110\n",
            "Epoch 3/500\n",
            "469/469 [==============================] - 1s 3ms/step - loss: 0.0915 - accuracy: 0.1202 - val_loss: 0.0911 - val_accuracy: 0.1352\n",
            "Epoch 4/500\n",
            "469/469 [==============================] - 1s 3ms/step - loss: 0.0910 - accuracy: 0.1405 - val_loss: 0.0907 - val_accuracy: 0.1543\n",
            "Epoch 5/500\n",
            "469/469 [==============================] - 1s 3ms/step - loss: 0.0905 - accuracy: 0.1576 - val_loss: 0.0902 - val_accuracy: 0.1716\n",
            "Epoch 6/500\n",
            "469/469 [==============================] - 2s 3ms/step - loss: 0.0901 - accuracy: 0.1737 - val_loss: 0.0899 - val_accuracy: 0.1923\n",
            "Epoch 7/500\n",
            "469/469 [==============================] - 2s 3ms/step - loss: 0.0898 - accuracy: 0.1948 - val_loss: 0.0895 - val_accuracy: 0.2152\n",
            "Epoch 8/500\n",
            "469/469 [==============================] - 1s 3ms/step - loss: 0.0894 - accuracy: 0.2162 - val_loss: 0.0892 - val_accuracy: 0.2367\n",
            "Epoch 9/500\n",
            "469/469 [==============================] - 1s 3ms/step - loss: 0.0891 - accuracy: 0.2358 - val_loss: 0.0888 - val_accuracy: 0.2526\n",
            "Epoch 10/500\n",
            "469/469 [==============================] - 1s 3ms/step - loss: 0.0888 - accuracy: 0.2558 - val_loss: 0.0885 - val_accuracy: 0.2724\n",
            "Epoch 11/500\n",
            "469/469 [==============================] - 1s 3ms/step - loss: 0.0885 - accuracy: 0.2829 - val_loss: 0.0882 - val_accuracy: 0.3056\n",
            "Epoch 12/500\n",
            "469/469 [==============================] - 1s 3ms/step - loss: 0.0882 - accuracy: 0.3225 - val_loss: 0.0879 - val_accuracy: 0.3500\n",
            "Epoch 13/500\n",
            "469/469 [==============================] - 1s 3ms/step - loss: 0.0879 - accuracy: 0.3592 - val_loss: 0.0876 - val_accuracy: 0.3755\n",
            "Epoch 14/500\n",
            "469/469 [==============================] - 1s 3ms/step - loss: 0.0876 - accuracy: 0.3782 - val_loss: 0.0873 - val_accuracy: 0.3853\n",
            "Epoch 15/500\n",
            "469/469 [==============================] - 1s 3ms/step - loss: 0.0872 - accuracy: 0.3833 - val_loss: 0.0870 - val_accuracy: 0.3895\n",
            "Epoch 16/500\n",
            "469/469 [==============================] - 2s 5ms/step - loss: 0.0869 - accuracy: 0.3866 - val_loss: 0.0866 - val_accuracy: 0.3938\n",
            "Epoch 17/500\n",
            "469/469 [==============================] - 2s 5ms/step - loss: 0.0866 - accuracy: 0.3879 - val_loss: 0.0863 - val_accuracy: 0.3973\n",
            "Epoch 18/500\n",
            "469/469 [==============================] - 1s 3ms/step - loss: 0.0863 - accuracy: 0.3884 - val_loss: 0.0860 - val_accuracy: 0.4003\n",
            "Epoch 19/500\n",
            "469/469 [==============================] - 1s 3ms/step - loss: 0.0860 - accuracy: 0.3907 - val_loss: 0.0857 - val_accuracy: 0.4020\n",
            "Epoch 20/500\n",
            "469/469 [==============================] - 1s 3ms/step - loss: 0.0857 - accuracy: 0.3920 - val_loss: 0.0853 - val_accuracy: 0.4045\n",
            "Epoch 21/500\n",
            "469/469 [==============================] - 1s 3ms/step - loss: 0.0853 - accuracy: 0.3939 - val_loss: 0.0850 - val_accuracy: 0.4066\n",
            "Epoch 22/500\n",
            "469/469 [==============================] - 1s 3ms/step - loss: 0.0850 - accuracy: 0.3956 - val_loss: 0.0847 - val_accuracy: 0.4083\n",
            "Epoch 23/500\n",
            "469/469 [==============================] - 1s 3ms/step - loss: 0.0846 - accuracy: 0.3976 - val_loss: 0.0843 - val_accuracy: 0.4106\n",
            "Epoch 24/500\n",
            "469/469 [==============================] - 1s 3ms/step - loss: 0.0843 - accuracy: 0.3999 - val_loss: 0.0839 - val_accuracy: 0.4124\n",
            "Epoch 25/500\n",
            "469/469 [==============================] - 1s 3ms/step - loss: 0.0839 - accuracy: 0.4042 - val_loss: 0.0836 - val_accuracy: 0.4168\n",
            "Epoch 26/500\n",
            "469/469 [==============================] - 2s 3ms/step - loss: 0.0836 - accuracy: 0.4116 - val_loss: 0.0832 - val_accuracy: 0.4231\n",
            "Epoch 27/500\n",
            "469/469 [==============================] - 1s 3ms/step - loss: 0.0832 - accuracy: 0.4207 - val_loss: 0.0828 - val_accuracy: 0.4313\n",
            "Epoch 28/500\n",
            "469/469 [==============================] - 1s 3ms/step - loss: 0.0828 - accuracy: 0.4290 - val_loss: 0.0824 - val_accuracy: 0.4402\n",
            "Epoch 29/500\n",
            "469/469 [==============================] - 1s 3ms/step - loss: 0.0824 - accuracy: 0.4394 - val_loss: 0.0820 - val_accuracy: 0.4487\n",
            "Epoch 30/500\n",
            "469/469 [==============================] - 1s 3ms/step - loss: 0.0820 - accuracy: 0.4478 - val_loss: 0.0816 - val_accuracy: 0.4560\n",
            "Epoch 31/500\n",
            "469/469 [==============================] - 1s 3ms/step - loss: 0.0816 - accuracy: 0.4558 - val_loss: 0.0812 - val_accuracy: 0.4638\n",
            "Epoch 32/500\n",
            "469/469 [==============================] - 1s 3ms/step - loss: 0.0812 - accuracy: 0.4638 - val_loss: 0.0808 - val_accuracy: 0.4702\n",
            "Epoch 33/500\n",
            "469/469 [==============================] - 1s 3ms/step - loss: 0.0808 - accuracy: 0.4699 - val_loss: 0.0803 - val_accuracy: 0.4772\n",
            "Epoch 34/500\n",
            "469/469 [==============================] - 1s 3ms/step - loss: 0.0804 - accuracy: 0.4767 - val_loss: 0.0799 - val_accuracy: 0.4826\n",
            "Epoch 35/500\n",
            "469/469 [==============================] - 1s 3ms/step - loss: 0.0799 - accuracy: 0.4815 - val_loss: 0.0795 - val_accuracy: 0.4869\n",
            "Epoch 36/500\n",
            "469/469 [==============================] - 1s 3ms/step - loss: 0.0795 - accuracy: 0.4857 - val_loss: 0.0790 - val_accuracy: 0.4926\n",
            "Epoch 37/500\n",
            "469/469 [==============================] - 1s 3ms/step - loss: 0.0790 - accuracy: 0.4902 - val_loss: 0.0785 - val_accuracy: 0.4964\n",
            "Epoch 38/500\n",
            "469/469 [==============================] - 1s 3ms/step - loss: 0.0786 - accuracy: 0.4940 - val_loss: 0.0781 - val_accuracy: 0.4993\n",
            "Epoch 39/500\n",
            "469/469 [==============================] - 1s 3ms/step - loss: 0.0781 - accuracy: 0.4981 - val_loss: 0.0776 - val_accuracy: 0.5033\n",
            "Epoch 40/500\n",
            "469/469 [==============================] - 1s 3ms/step - loss: 0.0776 - accuracy: 0.5024 - val_loss: 0.0771 - val_accuracy: 0.5069\n",
            "Epoch 41/500\n",
            "469/469 [==============================] - 1s 3ms/step - loss: 0.0771 - accuracy: 0.5051 - val_loss: 0.0766 - val_accuracy: 0.5114\n",
            "Epoch 42/500\n",
            "469/469 [==============================] - 1s 3ms/step - loss: 0.0766 - accuracy: 0.5090 - val_loss: 0.0761 - val_accuracy: 0.5151\n",
            "Epoch 43/500\n",
            "469/469 [==============================] - 1s 3ms/step - loss: 0.0762 - accuracy: 0.5121 - val_loss: 0.0756 - val_accuracy: 0.5178\n",
            "Epoch 44/500\n",
            "469/469 [==============================] - 1s 3ms/step - loss: 0.0757 - accuracy: 0.5153 - val_loss: 0.0751 - val_accuracy: 0.5207\n",
            "Epoch 45/500\n",
            "469/469 [==============================] - 1s 3ms/step - loss: 0.0752 - accuracy: 0.5188 - val_loss: 0.0746 - val_accuracy: 0.5243\n",
            "Epoch 46/500\n",
            "469/469 [==============================] - 1s 3ms/step - loss: 0.0746 - accuracy: 0.5218 - val_loss: 0.0741 - val_accuracy: 0.5261\n",
            "Epoch 47/500\n",
            "469/469 [==============================] - 1s 3ms/step - loss: 0.0741 - accuracy: 0.5239 - val_loss: 0.0736 - val_accuracy: 0.5296\n",
            "Epoch 48/500\n",
            "469/469 [==============================] - 1s 3ms/step - loss: 0.0736 - accuracy: 0.5272 - val_loss: 0.0730 - val_accuracy: 0.5329\n",
            "Epoch 49/500\n",
            "469/469 [==============================] - 2s 3ms/step - loss: 0.0731 - accuracy: 0.5305 - val_loss: 0.0725 - val_accuracy: 0.5355\n",
            "Epoch 50/500\n",
            "469/469 [==============================] - 1s 3ms/step - loss: 0.0726 - accuracy: 0.5332 - val_loss: 0.0720 - val_accuracy: 0.5387\n",
            "Epoch 51/500\n",
            "469/469 [==============================] - 1s 3ms/step - loss: 0.0721 - accuracy: 0.5360 - val_loss: 0.0715 - val_accuracy: 0.5419\n",
            "Epoch 52/500\n",
            "469/469 [==============================] - 1s 3ms/step - loss: 0.0716 - accuracy: 0.5392 - val_loss: 0.0709 - val_accuracy: 0.5454\n",
            "Epoch 53/500\n",
            "469/469 [==============================] - 1s 3ms/step - loss: 0.0710 - accuracy: 0.5421 - val_loss: 0.0704 - val_accuracy: 0.5476\n",
            "Epoch 54/500\n",
            "469/469 [==============================] - 1s 3ms/step - loss: 0.0705 - accuracy: 0.5455 - val_loss: 0.0699 - val_accuracy: 0.5506\n",
            "Epoch 55/500\n",
            "469/469 [==============================] - 1s 3ms/step - loss: 0.0700 - accuracy: 0.5487 - val_loss: 0.0694 - val_accuracy: 0.5538\n",
            "Epoch 56/500\n",
            "469/469 [==============================] - 1s 3ms/step - loss: 0.0695 - accuracy: 0.5525 - val_loss: 0.0688 - val_accuracy: 0.5578\n",
            "Epoch 57/500\n",
            "469/469 [==============================] - 1s 3ms/step - loss: 0.0689 - accuracy: 0.5558 - val_loss: 0.0683 - val_accuracy: 0.5609\n",
            "Epoch 58/500\n",
            "469/469 [==============================] - 1s 3ms/step - loss: 0.0684 - accuracy: 0.5592 - val_loss: 0.0678 - val_accuracy: 0.5648\n",
            "Epoch 59/500\n",
            "469/469 [==============================] - 1s 3ms/step - loss: 0.0679 - accuracy: 0.5632 - val_loss: 0.0673 - val_accuracy: 0.5684\n",
            "Epoch 60/500\n",
            "469/469 [==============================] - 1s 3ms/step - loss: 0.0674 - accuracy: 0.5675 - val_loss: 0.0668 - val_accuracy: 0.5732\n",
            "Epoch 61/500\n",
            "469/469 [==============================] - 1s 3ms/step - loss: 0.0669 - accuracy: 0.5709 - val_loss: 0.0662 - val_accuracy: 0.5760\n",
            "Epoch 62/500\n",
            "469/469 [==============================] - 1s 3ms/step - loss: 0.0664 - accuracy: 0.5742 - val_loss: 0.0657 - val_accuracy: 0.5787\n",
            "Epoch 63/500\n",
            "469/469 [==============================] - 1s 3ms/step - loss: 0.0659 - accuracy: 0.5791 - val_loss: 0.0652 - val_accuracy: 0.5827\n",
            "Epoch 64/500\n",
            "469/469 [==============================] - 1s 3ms/step - loss: 0.0653 - accuracy: 0.5834 - val_loss: 0.0647 - val_accuracy: 0.5873\n",
            "Epoch 65/500\n",
            "469/469 [==============================] - 1s 3ms/step - loss: 0.0648 - accuracy: 0.5878 - val_loss: 0.0642 - val_accuracy: 0.5899\n",
            "Epoch 66/500\n",
            "469/469 [==============================] - 1s 3ms/step - loss: 0.0643 - accuracy: 0.5921 - val_loss: 0.0637 - val_accuracy: 0.5939\n",
            "Epoch 67/500\n",
            "469/469 [==============================] - 1s 3ms/step - loss: 0.0639 - accuracy: 0.5959 - val_loss: 0.0632 - val_accuracy: 0.5985\n",
            "Epoch 68/500\n",
            "469/469 [==============================] - 1s 3ms/step - loss: 0.0634 - accuracy: 0.6004 - val_loss: 0.0627 - val_accuracy: 0.6033\n",
            "Epoch 69/500\n",
            "469/469 [==============================] - 1s 3ms/step - loss: 0.0629 - accuracy: 0.6048 - val_loss: 0.0622 - val_accuracy: 0.6099\n",
            "Epoch 70/500\n",
            "469/469 [==============================] - 2s 4ms/step - loss: 0.0624 - accuracy: 0.6094 - val_loss: 0.0617 - val_accuracy: 0.6145\n",
            "Epoch 71/500\n",
            "469/469 [==============================] - 1s 3ms/step - loss: 0.0619 - accuracy: 0.6136 - val_loss: 0.0612 - val_accuracy: 0.6176\n",
            "Epoch 72/500\n",
            "469/469 [==============================] - 1s 3ms/step - loss: 0.0614 - accuracy: 0.6180 - val_loss: 0.0608 - val_accuracy: 0.6233\n",
            "Epoch 73/500\n",
            "469/469 [==============================] - 1s 3ms/step - loss: 0.0610 - accuracy: 0.6223 - val_loss: 0.0603 - val_accuracy: 0.6277\n",
            "Epoch 74/500\n",
            "469/469 [==============================] - 1s 3ms/step - loss: 0.0605 - accuracy: 0.6259 - val_loss: 0.0598 - val_accuracy: 0.6325\n",
            "Epoch 75/500\n",
            "469/469 [==============================] - 1s 3ms/step - loss: 0.0600 - accuracy: 0.6298 - val_loss: 0.0593 - val_accuracy: 0.6369\n",
            "Epoch 76/500\n",
            "469/469 [==============================] - 1s 3ms/step - loss: 0.0596 - accuracy: 0.6341 - val_loss: 0.0589 - val_accuracy: 0.6416\n",
            "Epoch 77/500\n",
            "469/469 [==============================] - 1s 3ms/step - loss: 0.0591 - accuracy: 0.6380 - val_loss: 0.0584 - val_accuracy: 0.6461\n",
            "Epoch 78/500\n",
            "469/469 [==============================] - 1s 3ms/step - loss: 0.0587 - accuracy: 0.6418 - val_loss: 0.0580 - val_accuracy: 0.6516\n",
            "Epoch 79/500\n",
            "469/469 [==============================] - 1s 3ms/step - loss: 0.0582 - accuracy: 0.6455 - val_loss: 0.0575 - val_accuracy: 0.6554\n",
            "Epoch 80/500\n",
            "469/469 [==============================] - 1s 3ms/step - loss: 0.0578 - accuracy: 0.6490 - val_loss: 0.0571 - val_accuracy: 0.6591\n",
            "Epoch 81/500\n",
            "469/469 [==============================] - 1s 3ms/step - loss: 0.0574 - accuracy: 0.6526 - val_loss: 0.0566 - val_accuracy: 0.6627\n",
            "Epoch 82/500\n",
            "469/469 [==============================] - 1s 3ms/step - loss: 0.0569 - accuracy: 0.6564 - val_loss: 0.0562 - val_accuracy: 0.6656\n",
            "Epoch 83/500\n",
            "469/469 [==============================] - 1s 3ms/step - loss: 0.0565 - accuracy: 0.6599 - val_loss: 0.0558 - val_accuracy: 0.6686\n",
            "Epoch 84/500\n",
            "469/469 [==============================] - 1s 3ms/step - loss: 0.0561 - accuracy: 0.6635 - val_loss: 0.0553 - val_accuracy: 0.6721\n",
            "Epoch 85/500\n",
            "469/469 [==============================] - 1s 3ms/step - loss: 0.0557 - accuracy: 0.6665 - val_loss: 0.0549 - val_accuracy: 0.6747\n",
            "Epoch 86/500\n",
            "469/469 [==============================] - 1s 3ms/step - loss: 0.0552 - accuracy: 0.6697 - val_loss: 0.0545 - val_accuracy: 0.6775\n",
            "Epoch 87/500\n",
            "469/469 [==============================] - 1s 3ms/step - loss: 0.0548 - accuracy: 0.6726 - val_loss: 0.0541 - val_accuracy: 0.6811\n",
            "Epoch 88/500\n",
            "469/469 [==============================] - 1s 3ms/step - loss: 0.0544 - accuracy: 0.6759 - val_loss: 0.0537 - val_accuracy: 0.6838\n",
            "Epoch 89/500\n",
            "469/469 [==============================] - 1s 3ms/step - loss: 0.0540 - accuracy: 0.6786 - val_loss: 0.0533 - val_accuracy: 0.6866\n",
            "Epoch 90/500\n",
            "469/469 [==============================] - 1s 3ms/step - loss: 0.0536 - accuracy: 0.6814 - val_loss: 0.0529 - val_accuracy: 0.6881\n",
            "Epoch 91/500\n",
            "469/469 [==============================] - 2s 3ms/step - loss: 0.0533 - accuracy: 0.6839 - val_loss: 0.0525 - val_accuracy: 0.6909\n",
            "Epoch 92/500\n",
            "469/469 [==============================] - 1s 3ms/step - loss: 0.0529 - accuracy: 0.6868 - val_loss: 0.0521 - val_accuracy: 0.6936\n",
            "Epoch 93/500\n",
            "469/469 [==============================] - 1s 3ms/step - loss: 0.0525 - accuracy: 0.6895 - val_loss: 0.0517 - val_accuracy: 0.6962\n",
            "Epoch 94/500\n",
            "469/469 [==============================] - 1s 3ms/step - loss: 0.0521 - accuracy: 0.6919 - val_loss: 0.0513 - val_accuracy: 0.6991\n",
            "Epoch 95/500\n",
            "469/469 [==============================] - 1s 3ms/step - loss: 0.0517 - accuracy: 0.6946 - val_loss: 0.0510 - val_accuracy: 0.7009\n",
            "Epoch 96/500\n",
            "469/469 [==============================] - 1s 3ms/step - loss: 0.0514 - accuracy: 0.6970 - val_loss: 0.0506 - val_accuracy: 0.7031\n",
            "Epoch 97/500\n",
            "469/469 [==============================] - 1s 3ms/step - loss: 0.0510 - accuracy: 0.6999 - val_loss: 0.0502 - val_accuracy: 0.7060\n",
            "Epoch 98/500\n",
            "469/469 [==============================] - 1s 3ms/step - loss: 0.0507 - accuracy: 0.7025 - val_loss: 0.0499 - val_accuracy: 0.7084\n",
            "Epoch 99/500\n",
            "469/469 [==============================] - 1s 3ms/step - loss: 0.0503 - accuracy: 0.7043 - val_loss: 0.0495 - val_accuracy: 0.7105\n",
            "Epoch 100/500\n",
            "469/469 [==============================] - 1s 3ms/step - loss: 0.0500 - accuracy: 0.7062 - val_loss: 0.0491 - val_accuracy: 0.7140\n",
            "Epoch 101/500\n",
            "469/469 [==============================] - 1s 3ms/step - loss: 0.0496 - accuracy: 0.7087 - val_loss: 0.0488 - val_accuracy: 0.7167\n",
            "Epoch 102/500\n",
            "469/469 [==============================] - 1s 3ms/step - loss: 0.0493 - accuracy: 0.7110 - val_loss: 0.0484 - val_accuracy: 0.7190\n",
            "Epoch 103/500\n",
            "469/469 [==============================] - 1s 3ms/step - loss: 0.0489 - accuracy: 0.7132 - val_loss: 0.0481 - val_accuracy: 0.7211\n",
            "Epoch 104/500\n",
            "469/469 [==============================] - 1s 3ms/step - loss: 0.0486 - accuracy: 0.7152 - val_loss: 0.0478 - val_accuracy: 0.7238\n",
            "Epoch 105/500\n",
            "469/469 [==============================] - 2s 5ms/step - loss: 0.0483 - accuracy: 0.7179 - val_loss: 0.0474 - val_accuracy: 0.7260\n",
            "Epoch 106/500\n",
            "469/469 [==============================] - 2s 3ms/step - loss: 0.0479 - accuracy: 0.7201 - val_loss: 0.0471 - val_accuracy: 0.7273\n",
            "Epoch 107/500\n",
            "469/469 [==============================] - 1s 3ms/step - loss: 0.0476 - accuracy: 0.7221 - val_loss: 0.0468 - val_accuracy: 0.7288\n",
            "Epoch 108/500\n",
            "469/469 [==============================] - 1s 3ms/step - loss: 0.0473 - accuracy: 0.7242 - val_loss: 0.0464 - val_accuracy: 0.7313\n",
            "Epoch 109/500\n",
            "469/469 [==============================] - 1s 3ms/step - loss: 0.0470 - accuracy: 0.7264 - val_loss: 0.0461 - val_accuracy: 0.7335\n",
            "Epoch 110/500\n",
            "469/469 [==============================] - 1s 3ms/step - loss: 0.0467 - accuracy: 0.7289 - val_loss: 0.0458 - val_accuracy: 0.7359\n",
            "Epoch 111/500\n",
            "469/469 [==============================] - 2s 4ms/step - loss: 0.0464 - accuracy: 0.7309 - val_loss: 0.0455 - val_accuracy: 0.7381\n",
            "Epoch 112/500\n",
            "469/469 [==============================] - 2s 3ms/step - loss: 0.0461 - accuracy: 0.7332 - val_loss: 0.0452 - val_accuracy: 0.7415\n",
            "Epoch 113/500\n",
            "469/469 [==============================] - 1s 3ms/step - loss: 0.0458 - accuracy: 0.7354 - val_loss: 0.0449 - val_accuracy: 0.7437\n",
            "Epoch 114/500\n",
            "469/469 [==============================] - 1s 3ms/step - loss: 0.0455 - accuracy: 0.7377 - val_loss: 0.0446 - val_accuracy: 0.7464\n",
            "Epoch 115/500\n",
            "469/469 [==============================] - 1s 3ms/step - loss: 0.0452 - accuracy: 0.7399 - val_loss: 0.0443 - val_accuracy: 0.7501\n",
            "Epoch 116/500\n",
            "469/469 [==============================] - 1s 3ms/step - loss: 0.0449 - accuracy: 0.7422 - val_loss: 0.0440 - val_accuracy: 0.7518\n",
            "Epoch 117/500\n",
            "469/469 [==============================] - 1s 3ms/step - loss: 0.0446 - accuracy: 0.7451 - val_loss: 0.0437 - val_accuracy: 0.7552\n",
            "Epoch 118/500\n",
            "469/469 [==============================] - 1s 3ms/step - loss: 0.0443 - accuracy: 0.7469 - val_loss: 0.0434 - val_accuracy: 0.7581\n",
            "Epoch 119/500\n",
            "469/469 [==============================] - 2s 4ms/step - loss: 0.0440 - accuracy: 0.7496 - val_loss: 0.0431 - val_accuracy: 0.7594\n",
            "Epoch 120/500\n",
            "469/469 [==============================] - 1s 3ms/step - loss: 0.0437 - accuracy: 0.7515 - val_loss: 0.0428 - val_accuracy: 0.7617\n",
            "Epoch 121/500\n",
            "469/469 [==============================] - 1s 3ms/step - loss: 0.0435 - accuracy: 0.7536 - val_loss: 0.0426 - val_accuracy: 0.7639\n",
            "Epoch 122/500\n",
            "469/469 [==============================] - 2s 4ms/step - loss: 0.0432 - accuracy: 0.7562 - val_loss: 0.0423 - val_accuracy: 0.7657\n",
            "Epoch 123/500\n",
            "469/469 [==============================] - 1s 3ms/step - loss: 0.0429 - accuracy: 0.7585 - val_loss: 0.0420 - val_accuracy: 0.7684\n",
            "Epoch 124/500\n",
            "469/469 [==============================] - 1s 3ms/step - loss: 0.0427 - accuracy: 0.7611 - val_loss: 0.0417 - val_accuracy: 0.7704\n",
            "Epoch 125/500\n",
            "469/469 [==============================] - 1s 3ms/step - loss: 0.0424 - accuracy: 0.7636 - val_loss: 0.0415 - val_accuracy: 0.7734\n",
            "Epoch 126/500\n",
            "469/469 [==============================] - 1s 3ms/step - loss: 0.0421 - accuracy: 0.7661 - val_loss: 0.0412 - val_accuracy: 0.7757\n",
            "Epoch 127/500\n",
            "469/469 [==============================] - 1s 3ms/step - loss: 0.0419 - accuracy: 0.7682 - val_loss: 0.0409 - val_accuracy: 0.7781\n",
            "Epoch 128/500\n",
            "469/469 [==============================] - 1s 3ms/step - loss: 0.0416 - accuracy: 0.7703 - val_loss: 0.0407 - val_accuracy: 0.7800\n",
            "Epoch 129/500\n",
            "469/469 [==============================] - 1s 3ms/step - loss: 0.0414 - accuracy: 0.7727 - val_loss: 0.0404 - val_accuracy: 0.7823\n",
            "Epoch 130/500\n",
            "469/469 [==============================] - 1s 3ms/step - loss: 0.0411 - accuracy: 0.7755 - val_loss: 0.0402 - val_accuracy: 0.7848\n",
            "Epoch 131/500\n",
            "469/469 [==============================] - 1s 3ms/step - loss: 0.0409 - accuracy: 0.7777 - val_loss: 0.0399 - val_accuracy: 0.7879\n",
            "Epoch 132/500\n",
            "469/469 [==============================] - 2s 4ms/step - loss: 0.0406 - accuracy: 0.7804 - val_loss: 0.0397 - val_accuracy: 0.7902\n",
            "Epoch 133/500\n",
            "469/469 [==============================] - 1s 3ms/step - loss: 0.0404 - accuracy: 0.7825 - val_loss: 0.0394 - val_accuracy: 0.7926\n",
            "Epoch 134/500\n",
            "469/469 [==============================] - 1s 3ms/step - loss: 0.0401 - accuracy: 0.7850 - val_loss: 0.0392 - val_accuracy: 0.7953\n",
            "Epoch 135/500\n",
            "469/469 [==============================] - 1s 3ms/step - loss: 0.0399 - accuracy: 0.7871 - val_loss: 0.0389 - val_accuracy: 0.7979\n",
            "Epoch 136/500\n",
            "469/469 [==============================] - 1s 3ms/step - loss: 0.0397 - accuracy: 0.7893 - val_loss: 0.0387 - val_accuracy: 0.7995\n",
            "Epoch 137/500\n",
            "469/469 [==============================] - 1s 3ms/step - loss: 0.0394 - accuracy: 0.7912 - val_loss: 0.0384 - val_accuracy: 0.8017\n",
            "Epoch 138/500\n",
            "469/469 [==============================] - 1s 3ms/step - loss: 0.0392 - accuracy: 0.7935 - val_loss: 0.0382 - val_accuracy: 0.8045\n",
            "Epoch 139/500\n",
            "469/469 [==============================] - 1s 3ms/step - loss: 0.0390 - accuracy: 0.7957 - val_loss: 0.0380 - val_accuracy: 0.8057\n",
            "Epoch 140/500\n",
            "469/469 [==============================] - 1s 3ms/step - loss: 0.0387 - accuracy: 0.7975 - val_loss: 0.0377 - val_accuracy: 0.8073\n",
            "Epoch 141/500\n",
            "469/469 [==============================] - 1s 3ms/step - loss: 0.0385 - accuracy: 0.7994 - val_loss: 0.0375 - val_accuracy: 0.8087\n",
            "Epoch 142/500\n",
            "469/469 [==============================] - 1s 3ms/step - loss: 0.0383 - accuracy: 0.8016 - val_loss: 0.0373 - val_accuracy: 0.8100\n",
            "Epoch 143/500\n",
            "469/469 [==============================] - 1s 3ms/step - loss: 0.0381 - accuracy: 0.8034 - val_loss: 0.0371 - val_accuracy: 0.8123\n",
            "Epoch 144/500\n",
            "469/469 [==============================] - 1s 3ms/step - loss: 0.0378 - accuracy: 0.8049 - val_loss: 0.0369 - val_accuracy: 0.8142\n",
            "Epoch 145/500\n",
            "469/469 [==============================] - 2s 3ms/step - loss: 0.0376 - accuracy: 0.8067 - val_loss: 0.0366 - val_accuracy: 0.8154\n",
            "Epoch 146/500\n",
            "469/469 [==============================] - 1s 3ms/step - loss: 0.0374 - accuracy: 0.8089 - val_loss: 0.0364 - val_accuracy: 0.8170\n",
            "Epoch 147/500\n",
            "469/469 [==============================] - 1s 3ms/step - loss: 0.0372 - accuracy: 0.8104 - val_loss: 0.0362 - val_accuracy: 0.8198\n",
            "Epoch 148/500\n",
            "469/469 [==============================] - 1s 3ms/step - loss: 0.0370 - accuracy: 0.8118 - val_loss: 0.0360 - val_accuracy: 0.8217\n",
            "Epoch 149/500\n",
            "469/469 [==============================] - 1s 3ms/step - loss: 0.0368 - accuracy: 0.8134 - val_loss: 0.0358 - val_accuracy: 0.8233\n",
            "Epoch 150/500\n",
            "469/469 [==============================] - 2s 3ms/step - loss: 0.0366 - accuracy: 0.8146 - val_loss: 0.0356 - val_accuracy: 0.8253\n",
            "Epoch 151/500\n",
            "469/469 [==============================] - 1s 3ms/step - loss: 0.0364 - accuracy: 0.8166 - val_loss: 0.0354 - val_accuracy: 0.8267\n",
            "Epoch 152/500\n",
            "469/469 [==============================] - 2s 4ms/step - loss: 0.0362 - accuracy: 0.8181 - val_loss: 0.0352 - val_accuracy: 0.8284\n",
            "Epoch 153/500\n",
            "469/469 [==============================] - 2s 3ms/step - loss: 0.0360 - accuracy: 0.8199 - val_loss: 0.0350 - val_accuracy: 0.8294\n",
            "Epoch 154/500\n",
            "469/469 [==============================] - 2s 3ms/step - loss: 0.0358 - accuracy: 0.8210 - val_loss: 0.0348 - val_accuracy: 0.8306\n",
            "Epoch 155/500\n",
            "469/469 [==============================] - 1s 3ms/step - loss: 0.0356 - accuracy: 0.8225 - val_loss: 0.0346 - val_accuracy: 0.8321\n",
            "Epoch 156/500\n",
            "469/469 [==============================] - 1s 3ms/step - loss: 0.0354 - accuracy: 0.8238 - val_loss: 0.0344 - val_accuracy: 0.8332\n",
            "Epoch 157/500\n",
            "469/469 [==============================] - 1s 3ms/step - loss: 0.0352 - accuracy: 0.8248 - val_loss: 0.0342 - val_accuracy: 0.8344\n",
            "Epoch 158/500\n",
            "469/469 [==============================] - 1s 3ms/step - loss: 0.0350 - accuracy: 0.8257 - val_loss: 0.0340 - val_accuracy: 0.8351\n",
            "Epoch 159/500\n",
            "469/469 [==============================] - 1s 3ms/step - loss: 0.0348 - accuracy: 0.8272 - val_loss: 0.0338 - val_accuracy: 0.8365\n",
            "Epoch 160/500\n",
            "469/469 [==============================] - 2s 3ms/step - loss: 0.0346 - accuracy: 0.8286 - val_loss: 0.0336 - val_accuracy: 0.8380\n",
            "Epoch 161/500\n",
            "469/469 [==============================] - 1s 3ms/step - loss: 0.0345 - accuracy: 0.8299 - val_loss: 0.0334 - val_accuracy: 0.8396\n",
            "Epoch 162/500\n",
            "469/469 [==============================] - 1s 3ms/step - loss: 0.0343 - accuracy: 0.8308 - val_loss: 0.0332 - val_accuracy: 0.8411\n",
            "Epoch 163/500\n",
            "469/469 [==============================] - 1s 3ms/step - loss: 0.0341 - accuracy: 0.8321 - val_loss: 0.0331 - val_accuracy: 0.8417\n",
            "Epoch 164/500\n",
            "469/469 [==============================] - 1s 3ms/step - loss: 0.0339 - accuracy: 0.8331 - val_loss: 0.0329 - val_accuracy: 0.8423\n",
            "Epoch 165/500\n",
            "469/469 [==============================] - 1s 3ms/step - loss: 0.0338 - accuracy: 0.8342 - val_loss: 0.0327 - val_accuracy: 0.8433\n",
            "Epoch 166/500\n",
            "469/469 [==============================] - 1s 3ms/step - loss: 0.0336 - accuracy: 0.8352 - val_loss: 0.0325 - val_accuracy: 0.8441\n",
            "Epoch 167/500\n",
            "469/469 [==============================] - 1s 3ms/step - loss: 0.0334 - accuracy: 0.8361 - val_loss: 0.0324 - val_accuracy: 0.8449\n",
            "Epoch 168/500\n",
            "469/469 [==============================] - 1s 3ms/step - loss: 0.0332 - accuracy: 0.8368 - val_loss: 0.0322 - val_accuracy: 0.8462\n",
            "Epoch 169/500\n",
            "469/469 [==============================] - 1s 3ms/step - loss: 0.0331 - accuracy: 0.8376 - val_loss: 0.0320 - val_accuracy: 0.8466\n",
            "Epoch 170/500\n",
            "469/469 [==============================] - 2s 3ms/step - loss: 0.0329 - accuracy: 0.8384 - val_loss: 0.0319 - val_accuracy: 0.8475\n",
            "Epoch 171/500\n",
            "469/469 [==============================] - 1s 3ms/step - loss: 0.0327 - accuracy: 0.8392 - val_loss: 0.0317 - val_accuracy: 0.8481\n",
            "Epoch 172/500\n",
            "469/469 [==============================] - 2s 3ms/step - loss: 0.0326 - accuracy: 0.8400 - val_loss: 0.0315 - val_accuracy: 0.8486\n",
            "Epoch 173/500\n",
            "469/469 [==============================] - 2s 3ms/step - loss: 0.0324 - accuracy: 0.8407 - val_loss: 0.0314 - val_accuracy: 0.8494\n",
            "Epoch 174/500\n",
            "469/469 [==============================] - 1s 3ms/step - loss: 0.0323 - accuracy: 0.8416 - val_loss: 0.0312 - val_accuracy: 0.8498\n",
            "Epoch 175/500\n",
            "469/469 [==============================] - 1s 3ms/step - loss: 0.0321 - accuracy: 0.8421 - val_loss: 0.0310 - val_accuracy: 0.8507\n",
            "Epoch 176/500\n",
            "469/469 [==============================] - 1s 3ms/step - loss: 0.0319 - accuracy: 0.8430 - val_loss: 0.0309 - val_accuracy: 0.8519\n",
            "Epoch 177/500\n",
            "469/469 [==============================] - 1s 3ms/step - loss: 0.0318 - accuracy: 0.8437 - val_loss: 0.0307 - val_accuracy: 0.8526\n",
            "Epoch 178/500\n",
            "469/469 [==============================] - 1s 3ms/step - loss: 0.0316 - accuracy: 0.8445 - val_loss: 0.0306 - val_accuracy: 0.8533\n",
            "Epoch 179/500\n",
            "469/469 [==============================] - 1s 3ms/step - loss: 0.0315 - accuracy: 0.8453 - val_loss: 0.0304 - val_accuracy: 0.8537\n",
            "Epoch 180/500\n",
            "469/469 [==============================] - 1s 3ms/step - loss: 0.0313 - accuracy: 0.8460 - val_loss: 0.0303 - val_accuracy: 0.8548\n",
            "Epoch 181/500\n",
            "469/469 [==============================] - 1s 3ms/step - loss: 0.0312 - accuracy: 0.8466 - val_loss: 0.0301 - val_accuracy: 0.8546\n",
            "Epoch 182/500\n",
            "469/469 [==============================] - 2s 3ms/step - loss: 0.0311 - accuracy: 0.8473 - val_loss: 0.0300 - val_accuracy: 0.8552\n",
            "Epoch 183/500\n",
            "469/469 [==============================] - 1s 3ms/step - loss: 0.0309 - accuracy: 0.8479 - val_loss: 0.0299 - val_accuracy: 0.8561\n",
            "Epoch 184/500\n",
            "469/469 [==============================] - 2s 3ms/step - loss: 0.0308 - accuracy: 0.8483 - val_loss: 0.0297 - val_accuracy: 0.8567\n",
            "Epoch 185/500\n",
            "469/469 [==============================] - 1s 3ms/step - loss: 0.0306 - accuracy: 0.8489 - val_loss: 0.0296 - val_accuracy: 0.8572\n",
            "Epoch 186/500\n",
            "469/469 [==============================] - 1s 3ms/step - loss: 0.0305 - accuracy: 0.8497 - val_loss: 0.0294 - val_accuracy: 0.8576\n",
            "Epoch 187/500\n",
            "469/469 [==============================] - 1s 3ms/step - loss: 0.0304 - accuracy: 0.8503 - val_loss: 0.0293 - val_accuracy: 0.8579\n",
            "Epoch 188/500\n",
            "469/469 [==============================] - 2s 3ms/step - loss: 0.0302 - accuracy: 0.8508 - val_loss: 0.0292 - val_accuracy: 0.8592\n",
            "Epoch 189/500\n",
            "469/469 [==============================] - 1s 3ms/step - loss: 0.0301 - accuracy: 0.8513 - val_loss: 0.0290 - val_accuracy: 0.8600\n",
            "Epoch 190/500\n",
            "469/469 [==============================] - 1s 3ms/step - loss: 0.0300 - accuracy: 0.8521 - val_loss: 0.0289 - val_accuracy: 0.8602\n",
            "Epoch 191/500\n",
            "469/469 [==============================] - 1s 3ms/step - loss: 0.0298 - accuracy: 0.8526 - val_loss: 0.0288 - val_accuracy: 0.8605\n",
            "Epoch 192/500\n",
            "469/469 [==============================] - 1s 3ms/step - loss: 0.0297 - accuracy: 0.8532 - val_loss: 0.0286 - val_accuracy: 0.8616\n",
            "Epoch 193/500\n",
            "469/469 [==============================] - 2s 3ms/step - loss: 0.0296 - accuracy: 0.8538 - val_loss: 0.0285 - val_accuracy: 0.8618\n",
            "Epoch 194/500\n",
            "469/469 [==============================] - 2s 3ms/step - loss: 0.0294 - accuracy: 0.8541 - val_loss: 0.0284 - val_accuracy: 0.8619\n",
            "Epoch 195/500\n",
            "469/469 [==============================] - 1s 3ms/step - loss: 0.0293 - accuracy: 0.8548 - val_loss: 0.0283 - val_accuracy: 0.8626\n",
            "Epoch 196/500\n",
            "469/469 [==============================] - 1s 3ms/step - loss: 0.0292 - accuracy: 0.8551 - val_loss: 0.0281 - val_accuracy: 0.8629\n",
            "Epoch 197/500\n",
            "469/469 [==============================] - 1s 3ms/step - loss: 0.0291 - accuracy: 0.8558 - val_loss: 0.0280 - val_accuracy: 0.8633\n",
            "Epoch 198/500\n",
            "469/469 [==============================] - 1s 3ms/step - loss: 0.0289 - accuracy: 0.8564 - val_loss: 0.0279 - val_accuracy: 0.8638\n",
            "Epoch 199/500\n",
            "469/469 [==============================] - 1s 3ms/step - loss: 0.0288 - accuracy: 0.8569 - val_loss: 0.0278 - val_accuracy: 0.8645\n",
            "Epoch 200/500\n",
            "469/469 [==============================] - 1s 3ms/step - loss: 0.0287 - accuracy: 0.8572 - val_loss: 0.0276 - val_accuracy: 0.8651\n",
            "Epoch 201/500\n",
            "469/469 [==============================] - 1s 3ms/step - loss: 0.0286 - accuracy: 0.8577 - val_loss: 0.0275 - val_accuracy: 0.8656\n",
            "Epoch 202/500\n",
            "469/469 [==============================] - 1s 3ms/step - loss: 0.0285 - accuracy: 0.8582 - val_loss: 0.0274 - val_accuracy: 0.8660\n",
            "Epoch 203/500\n",
            "469/469 [==============================] - 1s 3ms/step - loss: 0.0284 - accuracy: 0.8586 - val_loss: 0.0273 - val_accuracy: 0.8670\n",
            "Epoch 204/500\n",
            "469/469 [==============================] - 1s 3ms/step - loss: 0.0283 - accuracy: 0.8590 - val_loss: 0.0272 - val_accuracy: 0.8672\n",
            "Epoch 205/500\n",
            "469/469 [==============================] - 2s 3ms/step - loss: 0.0281 - accuracy: 0.8595 - val_loss: 0.0271 - val_accuracy: 0.8678\n",
            "Epoch 206/500\n",
            "469/469 [==============================] - 2s 4ms/step - loss: 0.0280 - accuracy: 0.8600 - val_loss: 0.0270 - val_accuracy: 0.8685\n",
            "Epoch 207/500\n",
            "469/469 [==============================] - 2s 4ms/step - loss: 0.0279 - accuracy: 0.8604 - val_loss: 0.0269 - val_accuracy: 0.8691\n",
            "Epoch 208/500\n",
            "469/469 [==============================] - 2s 3ms/step - loss: 0.0278 - accuracy: 0.8608 - val_loss: 0.0267 - val_accuracy: 0.8695\n",
            "Epoch 209/500\n",
            "469/469 [==============================] - 1s 3ms/step - loss: 0.0277 - accuracy: 0.8612 - val_loss: 0.0266 - val_accuracy: 0.8695\n",
            "Epoch 210/500\n",
            "469/469 [==============================] - 1s 3ms/step - loss: 0.0276 - accuracy: 0.8613 - val_loss: 0.0265 - val_accuracy: 0.8696\n",
            "Epoch 211/500\n",
            "469/469 [==============================] - 1s 3ms/step - loss: 0.0275 - accuracy: 0.8616 - val_loss: 0.0264 - val_accuracy: 0.8700\n",
            "Epoch 212/500\n",
            "469/469 [==============================] - 1s 3ms/step - loss: 0.0274 - accuracy: 0.8621 - val_loss: 0.0263 - val_accuracy: 0.8703\n",
            "Epoch 213/500\n",
            "469/469 [==============================] - 2s 3ms/step - loss: 0.0273 - accuracy: 0.8626 - val_loss: 0.0262 - val_accuracy: 0.8707\n",
            "Epoch 214/500\n",
            "469/469 [==============================] - 1s 3ms/step - loss: 0.0272 - accuracy: 0.8629 - val_loss: 0.0261 - val_accuracy: 0.8708\n",
            "Epoch 215/500\n",
            "469/469 [==============================] - 1s 3ms/step - loss: 0.0271 - accuracy: 0.8635 - val_loss: 0.0260 - val_accuracy: 0.8713\n",
            "Epoch 216/500\n",
            "469/469 [==============================] - 1s 3ms/step - loss: 0.0270 - accuracy: 0.8637 - val_loss: 0.0259 - val_accuracy: 0.8713\n",
            "Epoch 217/500\n",
            "469/469 [==============================] - 1s 3ms/step - loss: 0.0269 - accuracy: 0.8642 - val_loss: 0.0258 - val_accuracy: 0.8720\n",
            "Epoch 218/500\n",
            "469/469 [==============================] - 1s 3ms/step - loss: 0.0268 - accuracy: 0.8647 - val_loss: 0.0257 - val_accuracy: 0.8722\n",
            "Epoch 219/500\n",
            "469/469 [==============================] - 1s 3ms/step - loss: 0.0267 - accuracy: 0.8651 - val_loss: 0.0256 - val_accuracy: 0.8725\n",
            "Epoch 220/500\n",
            "469/469 [==============================] - 1s 3ms/step - loss: 0.0266 - accuracy: 0.8655 - val_loss: 0.0255 - val_accuracy: 0.8728\n",
            "Epoch 221/500\n",
            "469/469 [==============================] - 1s 3ms/step - loss: 0.0265 - accuracy: 0.8659 - val_loss: 0.0255 - val_accuracy: 0.8728\n",
            "Epoch 222/500\n",
            "469/469 [==============================] - 2s 3ms/step - loss: 0.0264 - accuracy: 0.8661 - val_loss: 0.0254 - val_accuracy: 0.8728\n",
            "Epoch 223/500\n",
            "469/469 [==============================] - 2s 3ms/step - loss: 0.0263 - accuracy: 0.8665 - val_loss: 0.0253 - val_accuracy: 0.8732\n",
            "Epoch 224/500\n",
            "469/469 [==============================] - 2s 3ms/step - loss: 0.0262 - accuracy: 0.8667 - val_loss: 0.0252 - val_accuracy: 0.8738\n",
            "Epoch 225/500\n",
            "469/469 [==============================] - 1s 3ms/step - loss: 0.0262 - accuracy: 0.8669 - val_loss: 0.0251 - val_accuracy: 0.8739\n",
            "Epoch 226/500\n",
            "469/469 [==============================] - 1s 3ms/step - loss: 0.0261 - accuracy: 0.8674 - val_loss: 0.0250 - val_accuracy: 0.8744\n",
            "Epoch 227/500\n",
            "469/469 [==============================] - 1s 3ms/step - loss: 0.0260 - accuracy: 0.8676 - val_loss: 0.0249 - val_accuracy: 0.8748\n",
            "Epoch 228/500\n",
            "469/469 [==============================] - 2s 3ms/step - loss: 0.0259 - accuracy: 0.8680 - val_loss: 0.0248 - val_accuracy: 0.8752\n",
            "Epoch 229/500\n",
            "469/469 [==============================] - 1s 3ms/step - loss: 0.0258 - accuracy: 0.8682 - val_loss: 0.0247 - val_accuracy: 0.8755\n",
            "Epoch 230/500\n",
            "469/469 [==============================] - 1s 3ms/step - loss: 0.0257 - accuracy: 0.8686 - val_loss: 0.0247 - val_accuracy: 0.8759\n",
            "Epoch 231/500\n",
            "469/469 [==============================] - 1s 3ms/step - loss: 0.0256 - accuracy: 0.8688 - val_loss: 0.0246 - val_accuracy: 0.8761\n",
            "Epoch 232/500\n",
            "469/469 [==============================] - 2s 3ms/step - loss: 0.0256 - accuracy: 0.8691 - val_loss: 0.0245 - val_accuracy: 0.8762\n",
            "Epoch 233/500\n",
            "469/469 [==============================] - 2s 3ms/step - loss: 0.0255 - accuracy: 0.8694 - val_loss: 0.0244 - val_accuracy: 0.8766\n",
            "Epoch 234/500\n",
            "469/469 [==============================] - 2s 3ms/step - loss: 0.0254 - accuracy: 0.8698 - val_loss: 0.0243 - val_accuracy: 0.8767\n",
            "Epoch 235/500\n",
            "469/469 [==============================] - 1s 3ms/step - loss: 0.0253 - accuracy: 0.8701 - val_loss: 0.0243 - val_accuracy: 0.8770\n",
            "Epoch 236/500\n",
            "469/469 [==============================] - 2s 3ms/step - loss: 0.0252 - accuracy: 0.8704 - val_loss: 0.0242 - val_accuracy: 0.8773\n",
            "Epoch 237/500\n",
            "469/469 [==============================] - 2s 3ms/step - loss: 0.0252 - accuracy: 0.8706 - val_loss: 0.0241 - val_accuracy: 0.8780\n",
            "Epoch 238/500\n",
            "469/469 [==============================] - 1s 3ms/step - loss: 0.0251 - accuracy: 0.8709 - val_loss: 0.0240 - val_accuracy: 0.8782\n",
            "Epoch 239/500\n",
            "469/469 [==============================] - 2s 3ms/step - loss: 0.0250 - accuracy: 0.8711 - val_loss: 0.0239 - val_accuracy: 0.8786\n",
            "Epoch 240/500\n",
            "469/469 [==============================] - 2s 3ms/step - loss: 0.0249 - accuracy: 0.8712 - val_loss: 0.0239 - val_accuracy: 0.8788\n",
            "Epoch 241/500\n",
            "469/469 [==============================] - 1s 3ms/step - loss: 0.0249 - accuracy: 0.8716 - val_loss: 0.0238 - val_accuracy: 0.8792\n",
            "Epoch 242/500\n",
            "469/469 [==============================] - 1s 3ms/step - loss: 0.0248 - accuracy: 0.8718 - val_loss: 0.0237 - val_accuracy: 0.8797\n",
            "Epoch 243/500\n",
            "469/469 [==============================] - 2s 3ms/step - loss: 0.0247 - accuracy: 0.8719 - val_loss: 0.0237 - val_accuracy: 0.8799\n",
            "Epoch 244/500\n",
            "469/469 [==============================] - 1s 3ms/step - loss: 0.0246 - accuracy: 0.8722 - val_loss: 0.0236 - val_accuracy: 0.8800\n",
            "Epoch 245/500\n",
            "469/469 [==============================] - 1s 3ms/step - loss: 0.0246 - accuracy: 0.8725 - val_loss: 0.0235 - val_accuracy: 0.8802\n",
            "Epoch 246/500\n",
            "469/469 [==============================] - 1s 3ms/step - loss: 0.0245 - accuracy: 0.8729 - val_loss: 0.0234 - val_accuracy: 0.8809\n",
            "Epoch 247/500\n",
            "469/469 [==============================] - 2s 3ms/step - loss: 0.0244 - accuracy: 0.8731 - val_loss: 0.0234 - val_accuracy: 0.8811\n",
            "Epoch 248/500\n",
            "469/469 [==============================] - 1s 3ms/step - loss: 0.0244 - accuracy: 0.8733 - val_loss: 0.0233 - val_accuracy: 0.8814\n",
            "Epoch 249/500\n",
            "469/469 [==============================] - 2s 3ms/step - loss: 0.0243 - accuracy: 0.8736 - val_loss: 0.0232 - val_accuracy: 0.8817\n",
            "Epoch 250/500\n",
            "469/469 [==============================] - 2s 3ms/step - loss: 0.0242 - accuracy: 0.8739 - val_loss: 0.0232 - val_accuracy: 0.8818\n",
            "Epoch 251/500\n",
            "469/469 [==============================] - 1s 3ms/step - loss: 0.0241 - accuracy: 0.8740 - val_loss: 0.0231 - val_accuracy: 0.8819\n",
            "Epoch 252/500\n",
            "469/469 [==============================] - 2s 3ms/step - loss: 0.0241 - accuracy: 0.8742 - val_loss: 0.0230 - val_accuracy: 0.8823\n",
            "Epoch 253/500\n",
            "469/469 [==============================] - 2s 5ms/step - loss: 0.0240 - accuracy: 0.8745 - val_loss: 0.0230 - val_accuracy: 0.8824\n",
            "Epoch 254/500\n",
            "469/469 [==============================] - 2s 5ms/step - loss: 0.0239 - accuracy: 0.8747 - val_loss: 0.0229 - val_accuracy: 0.8825\n",
            "Epoch 255/500\n",
            "469/469 [==============================] - 3s 6ms/step - loss: 0.0239 - accuracy: 0.8748 - val_loss: 0.0228 - val_accuracy: 0.8828\n",
            "Epoch 256/500\n",
            "469/469 [==============================] - 3s 6ms/step - loss: 0.0238 - accuracy: 0.8750 - val_loss: 0.0228 - val_accuracy: 0.8828\n",
            "Epoch 257/500\n",
            "469/469 [==============================] - 2s 5ms/step - loss: 0.0238 - accuracy: 0.8753 - val_loss: 0.0227 - val_accuracy: 0.8833\n",
            "Epoch 258/500\n",
            "469/469 [==============================] - 2s 5ms/step - loss: 0.0237 - accuracy: 0.8755 - val_loss: 0.0226 - val_accuracy: 0.8838\n",
            "Epoch 259/500\n",
            "469/469 [==============================] - 2s 3ms/step - loss: 0.0236 - accuracy: 0.8756 - val_loss: 0.0226 - val_accuracy: 0.8837\n",
            "Epoch 260/500\n",
            "469/469 [==============================] - 2s 3ms/step - loss: 0.0236 - accuracy: 0.8759 - val_loss: 0.0225 - val_accuracy: 0.8841\n",
            "Epoch 261/500\n",
            "469/469 [==============================] - 2s 3ms/step - loss: 0.0235 - accuracy: 0.8761 - val_loss: 0.0225 - val_accuracy: 0.8843\n",
            "Epoch 262/500\n",
            "469/469 [==============================] - 2s 3ms/step - loss: 0.0234 - accuracy: 0.8763 - val_loss: 0.0224 - val_accuracy: 0.8846\n",
            "Epoch 263/500\n",
            "469/469 [==============================] - 1s 3ms/step - loss: 0.0234 - accuracy: 0.8766 - val_loss: 0.0223 - val_accuracy: 0.8846\n",
            "Epoch 264/500\n",
            "469/469 [==============================] - 2s 4ms/step - loss: 0.0233 - accuracy: 0.8767 - val_loss: 0.0223 - val_accuracy: 0.8848\n",
            "Epoch 265/500\n",
            "469/469 [==============================] - 2s 3ms/step - loss: 0.0233 - accuracy: 0.8770 - val_loss: 0.0222 - val_accuracy: 0.8850\n",
            "Epoch 266/500\n",
            "469/469 [==============================] - 2s 3ms/step - loss: 0.0232 - accuracy: 0.8770 - val_loss: 0.0222 - val_accuracy: 0.8852\n",
            "Epoch 267/500\n",
            "469/469 [==============================] - 2s 3ms/step - loss: 0.0231 - accuracy: 0.8773 - val_loss: 0.0221 - val_accuracy: 0.8851\n",
            "Epoch 268/500\n",
            "469/469 [==============================] - 2s 3ms/step - loss: 0.0231 - accuracy: 0.8774 - val_loss: 0.0220 - val_accuracy: 0.8852\n",
            "Epoch 269/500\n",
            "469/469 [==============================] - 2s 4ms/step - loss: 0.0230 - accuracy: 0.8776 - val_loss: 0.0220 - val_accuracy: 0.8856\n",
            "Epoch 270/500\n",
            "469/469 [==============================] - 2s 3ms/step - loss: 0.0230 - accuracy: 0.8778 - val_loss: 0.0219 - val_accuracy: 0.8856\n",
            "Epoch 271/500\n",
            "469/469 [==============================] - 2s 3ms/step - loss: 0.0229 - accuracy: 0.8780 - val_loss: 0.0219 - val_accuracy: 0.8859\n",
            "Epoch 272/500\n",
            "469/469 [==============================] - 2s 3ms/step - loss: 0.0229 - accuracy: 0.8780 - val_loss: 0.0218 - val_accuracy: 0.8861\n",
            "Epoch 273/500\n",
            "469/469 [==============================] - 2s 3ms/step - loss: 0.0228 - accuracy: 0.8781 - val_loss: 0.0218 - val_accuracy: 0.8863\n",
            "Epoch 274/500\n",
            "469/469 [==============================] - 2s 3ms/step - loss: 0.0228 - accuracy: 0.8784 - val_loss: 0.0217 - val_accuracy: 0.8864\n",
            "Epoch 275/500\n",
            "469/469 [==============================] - 2s 3ms/step - loss: 0.0227 - accuracy: 0.8785 - val_loss: 0.0217 - val_accuracy: 0.8870\n",
            "Epoch 276/500\n",
            "469/469 [==============================] - 2s 3ms/step - loss: 0.0226 - accuracy: 0.8787 - val_loss: 0.0216 - val_accuracy: 0.8870\n",
            "Epoch 277/500\n",
            "469/469 [==============================] - 2s 3ms/step - loss: 0.0226 - accuracy: 0.8789 - val_loss: 0.0216 - val_accuracy: 0.8870\n",
            "Epoch 278/500\n",
            "469/469 [==============================] - 2s 3ms/step - loss: 0.0225 - accuracy: 0.8790 - val_loss: 0.0215 - val_accuracy: 0.8874\n",
            "Epoch 279/500\n",
            "469/469 [==============================] - 2s 3ms/step - loss: 0.0225 - accuracy: 0.8792 - val_loss: 0.0215 - val_accuracy: 0.8875\n",
            "Epoch 280/500\n",
            "469/469 [==============================] - 2s 3ms/step - loss: 0.0224 - accuracy: 0.8793 - val_loss: 0.0214 - val_accuracy: 0.8877\n",
            "Epoch 281/500\n",
            "469/469 [==============================] - 2s 3ms/step - loss: 0.0224 - accuracy: 0.8796 - val_loss: 0.0214 - val_accuracy: 0.8880\n",
            "Epoch 282/500\n",
            "469/469 [==============================] - 2s 3ms/step - loss: 0.0223 - accuracy: 0.8796 - val_loss: 0.0213 - val_accuracy: 0.8881\n",
            "Epoch 283/500\n",
            "469/469 [==============================] - 2s 3ms/step - loss: 0.0223 - accuracy: 0.8798 - val_loss: 0.0213 - val_accuracy: 0.8882\n",
            "Epoch 284/500\n",
            "469/469 [==============================] - 2s 5ms/step - loss: 0.0222 - accuracy: 0.8800 - val_loss: 0.0212 - val_accuracy: 0.8885\n",
            "Epoch 285/500\n",
            "469/469 [==============================] - 3s 7ms/step - loss: 0.0222 - accuracy: 0.8801 - val_loss: 0.0212 - val_accuracy: 0.8888\n",
            "Epoch 286/500\n",
            "469/469 [==============================] - 2s 5ms/step - loss: 0.0221 - accuracy: 0.8805 - val_loss: 0.0211 - val_accuracy: 0.8890\n",
            "Epoch 287/500\n",
            "469/469 [==============================] - 2s 3ms/step - loss: 0.0221 - accuracy: 0.8805 - val_loss: 0.0211 - val_accuracy: 0.8891\n",
            "Epoch 288/500\n",
            "469/469 [==============================] - 2s 3ms/step - loss: 0.0220 - accuracy: 0.8807 - val_loss: 0.0210 - val_accuracy: 0.8895\n",
            "Epoch 289/500\n",
            "469/469 [==============================] - 2s 3ms/step - loss: 0.0220 - accuracy: 0.8807 - val_loss: 0.0210 - val_accuracy: 0.8895\n",
            "Epoch 290/500\n",
            "469/469 [==============================] - 2s 3ms/step - loss: 0.0219 - accuracy: 0.8808 - val_loss: 0.0209 - val_accuracy: 0.8895\n",
            "Epoch 291/500\n",
            "469/469 [==============================] - 2s 3ms/step - loss: 0.0219 - accuracy: 0.8809 - val_loss: 0.0209 - val_accuracy: 0.8896\n",
            "Epoch 292/500\n",
            "469/469 [==============================] - 2s 3ms/step - loss: 0.0219 - accuracy: 0.8812 - val_loss: 0.0208 - val_accuracy: 0.8898\n",
            "Epoch 293/500\n",
            "469/469 [==============================] - 2s 3ms/step - loss: 0.0218 - accuracy: 0.8813 - val_loss: 0.0208 - val_accuracy: 0.8899\n",
            "Epoch 294/500\n",
            "469/469 [==============================] - 2s 4ms/step - loss: 0.0218 - accuracy: 0.8814 - val_loss: 0.0207 - val_accuracy: 0.8899\n",
            "Epoch 295/500\n",
            "469/469 [==============================] - 2s 3ms/step - loss: 0.0217 - accuracy: 0.8815 - val_loss: 0.0207 - val_accuracy: 0.8902\n",
            "Epoch 296/500\n",
            "469/469 [==============================] - 2s 3ms/step - loss: 0.0217 - accuracy: 0.8816 - val_loss: 0.0207 - val_accuracy: 0.8902\n",
            "Epoch 297/500\n",
            "469/469 [==============================] - 2s 3ms/step - loss: 0.0216 - accuracy: 0.8816 - val_loss: 0.0206 - val_accuracy: 0.8903\n",
            "Epoch 298/500\n",
            "469/469 [==============================] - 2s 4ms/step - loss: 0.0216 - accuracy: 0.8818 - val_loss: 0.0206 - val_accuracy: 0.8903\n",
            "Epoch 299/500\n",
            "469/469 [==============================] - 2s 3ms/step - loss: 0.0215 - accuracy: 0.8820 - val_loss: 0.0205 - val_accuracy: 0.8907\n",
            "Epoch 300/500\n",
            "469/469 [==============================] - 2s 4ms/step - loss: 0.0215 - accuracy: 0.8821 - val_loss: 0.0205 - val_accuracy: 0.8910\n",
            "Epoch 301/500\n",
            "469/469 [==============================] - 2s 4ms/step - loss: 0.0215 - accuracy: 0.8822 - val_loss: 0.0204 - val_accuracy: 0.8913\n",
            "Epoch 302/500\n",
            "469/469 [==============================] - 2s 3ms/step - loss: 0.0214 - accuracy: 0.8825 - val_loss: 0.0204 - val_accuracy: 0.8916\n",
            "Epoch 303/500\n",
            "469/469 [==============================] - 2s 3ms/step - loss: 0.0214 - accuracy: 0.8827 - val_loss: 0.0204 - val_accuracy: 0.8915\n",
            "Epoch 304/500\n",
            "469/469 [==============================] - 2s 3ms/step - loss: 0.0213 - accuracy: 0.8829 - val_loss: 0.0203 - val_accuracy: 0.8918\n",
            "Epoch 305/500\n",
            "469/469 [==============================] - 2s 3ms/step - loss: 0.0213 - accuracy: 0.8828 - val_loss: 0.0203 - val_accuracy: 0.8919\n",
            "Epoch 306/500\n",
            "469/469 [==============================] - 2s 3ms/step - loss: 0.0212 - accuracy: 0.8831 - val_loss: 0.0202 - val_accuracy: 0.8921\n",
            "Epoch 307/500\n",
            "469/469 [==============================] - 2s 3ms/step - loss: 0.0212 - accuracy: 0.8832 - val_loss: 0.0202 - val_accuracy: 0.8926\n",
            "Epoch 308/500\n",
            "469/469 [==============================] - 2s 3ms/step - loss: 0.0212 - accuracy: 0.8834 - val_loss: 0.0202 - val_accuracy: 0.8926\n",
            "Epoch 309/500\n",
            "469/469 [==============================] - 2s 3ms/step - loss: 0.0211 - accuracy: 0.8836 - val_loss: 0.0201 - val_accuracy: 0.8930\n",
            "Epoch 310/500\n",
            "469/469 [==============================] - 2s 3ms/step - loss: 0.0211 - accuracy: 0.8836 - val_loss: 0.0201 - val_accuracy: 0.8930\n",
            "Epoch 311/500\n",
            "469/469 [==============================] - 2s 3ms/step - loss: 0.0210 - accuracy: 0.8838 - val_loss: 0.0200 - val_accuracy: 0.8932\n",
            "Epoch 312/500\n",
            "469/469 [==============================] - 2s 3ms/step - loss: 0.0210 - accuracy: 0.8839 - val_loss: 0.0200 - val_accuracy: 0.8934\n",
            "Epoch 313/500\n",
            "469/469 [==============================] - 2s 3ms/step - loss: 0.0210 - accuracy: 0.8841 - val_loss: 0.0200 - val_accuracy: 0.8935\n",
            "Epoch 314/500\n",
            "469/469 [==============================] - 2s 3ms/step - loss: 0.0209 - accuracy: 0.8842 - val_loss: 0.0199 - val_accuracy: 0.8935\n",
            "Epoch 315/500\n",
            "469/469 [==============================] - 2s 3ms/step - loss: 0.0209 - accuracy: 0.8843 - val_loss: 0.0199 - val_accuracy: 0.8937\n",
            "Epoch 316/500\n",
            "469/469 [==============================] - 2s 3ms/step - loss: 0.0209 - accuracy: 0.8845 - val_loss: 0.0198 - val_accuracy: 0.8937\n",
            "Epoch 317/500\n",
            "469/469 [==============================] - 2s 3ms/step - loss: 0.0208 - accuracy: 0.8846 - val_loss: 0.0198 - val_accuracy: 0.8937\n",
            "Epoch 318/500\n",
            "469/469 [==============================] - 2s 3ms/step - loss: 0.0208 - accuracy: 0.8846 - val_loss: 0.0198 - val_accuracy: 0.8937\n",
            "Epoch 319/500\n",
            "469/469 [==============================] - 2s 3ms/step - loss: 0.0207 - accuracy: 0.8848 - val_loss: 0.0197 - val_accuracy: 0.8937\n",
            "Epoch 320/500\n",
            "469/469 [==============================] - 2s 4ms/step - loss: 0.0207 - accuracy: 0.8850 - val_loss: 0.0197 - val_accuracy: 0.8939\n",
            "Epoch 321/500\n",
            "469/469 [==============================] - 2s 4ms/step - loss: 0.0207 - accuracy: 0.8850 - val_loss: 0.0197 - val_accuracy: 0.8941\n",
            "Epoch 322/500\n",
            "469/469 [==============================] - 2s 5ms/step - loss: 0.0206 - accuracy: 0.8852 - val_loss: 0.0196 - val_accuracy: 0.8943\n",
            "Epoch 323/500\n",
            "469/469 [==============================] - 2s 3ms/step - loss: 0.0206 - accuracy: 0.8854 - val_loss: 0.0196 - val_accuracy: 0.8943\n",
            "Epoch 324/500\n",
            "469/469 [==============================] - 2s 4ms/step - loss: 0.0206 - accuracy: 0.8854 - val_loss: 0.0196 - val_accuracy: 0.8947\n",
            "Epoch 325/500\n",
            "469/469 [==============================] - 2s 4ms/step - loss: 0.0205 - accuracy: 0.8855 - val_loss: 0.0195 - val_accuracy: 0.8948\n",
            "Epoch 326/500\n",
            "469/469 [==============================] - 2s 3ms/step - loss: 0.0205 - accuracy: 0.8857 - val_loss: 0.0195 - val_accuracy: 0.8947\n",
            "Epoch 327/500\n",
            "469/469 [==============================] - 2s 3ms/step - loss: 0.0205 - accuracy: 0.8859 - val_loss: 0.0195 - val_accuracy: 0.8947\n",
            "Epoch 328/500\n",
            "469/469 [==============================] - 2s 3ms/step - loss: 0.0204 - accuracy: 0.8860 - val_loss: 0.0194 - val_accuracy: 0.8948\n",
            "Epoch 329/500\n",
            "469/469 [==============================] - 2s 3ms/step - loss: 0.0204 - accuracy: 0.8861 - val_loss: 0.0194 - val_accuracy: 0.8947\n",
            "Epoch 330/500\n",
            "469/469 [==============================] - 2s 3ms/step - loss: 0.0204 - accuracy: 0.8863 - val_loss: 0.0194 - val_accuracy: 0.8948\n",
            "Epoch 331/500\n",
            "469/469 [==============================] - 2s 3ms/step - loss: 0.0203 - accuracy: 0.8863 - val_loss: 0.0193 - val_accuracy: 0.8949\n",
            "Epoch 332/500\n",
            "469/469 [==============================] - 2s 3ms/step - loss: 0.0203 - accuracy: 0.8864 - val_loss: 0.0193 - val_accuracy: 0.8949\n",
            "Epoch 333/500\n",
            "469/469 [==============================] - 3s 5ms/step - loss: 0.0203 - accuracy: 0.8864 - val_loss: 0.0193 - val_accuracy: 0.8951\n",
            "Epoch 334/500\n",
            "469/469 [==============================] - 2s 4ms/step - loss: 0.0202 - accuracy: 0.8866 - val_loss: 0.0192 - val_accuracy: 0.8952\n",
            "Epoch 335/500\n",
            "469/469 [==============================] - 2s 3ms/step - loss: 0.0202 - accuracy: 0.8868 - val_loss: 0.0192 - val_accuracy: 0.8952\n",
            "Epoch 336/500\n",
            "469/469 [==============================] - 2s 3ms/step - loss: 0.0202 - accuracy: 0.8869 - val_loss: 0.0192 - val_accuracy: 0.8954\n",
            "Epoch 337/500\n",
            "469/469 [==============================] - 2s 3ms/step - loss: 0.0201 - accuracy: 0.8870 - val_loss: 0.0191 - val_accuracy: 0.8956\n",
            "Epoch 338/500\n",
            "469/469 [==============================] - 2s 3ms/step - loss: 0.0201 - accuracy: 0.8872 - val_loss: 0.0191 - val_accuracy: 0.8956\n",
            "Epoch 339/500\n",
            "469/469 [==============================] - 2s 3ms/step - loss: 0.0201 - accuracy: 0.8873 - val_loss: 0.0191 - val_accuracy: 0.8958\n",
            "Epoch 340/500\n",
            "469/469 [==============================] - 2s 3ms/step - loss: 0.0200 - accuracy: 0.8874 - val_loss: 0.0190 - val_accuracy: 0.8959\n",
            "Epoch 341/500\n",
            "469/469 [==============================] - 2s 3ms/step - loss: 0.0200 - accuracy: 0.8875 - val_loss: 0.0190 - val_accuracy: 0.8960\n",
            "Epoch 342/500\n",
            "469/469 [==============================] - 2s 4ms/step - loss: 0.0200 - accuracy: 0.8877 - val_loss: 0.0190 - val_accuracy: 0.8963\n",
            "Epoch 343/500\n",
            "469/469 [==============================] - 2s 3ms/step - loss: 0.0199 - accuracy: 0.8879 - val_loss: 0.0189 - val_accuracy: 0.8964\n",
            "Epoch 344/500\n",
            "469/469 [==============================] - 2s 3ms/step - loss: 0.0199 - accuracy: 0.8880 - val_loss: 0.0189 - val_accuracy: 0.8966\n",
            "Epoch 345/500\n",
            "469/469 [==============================] - 2s 3ms/step - loss: 0.0199 - accuracy: 0.8881 - val_loss: 0.0189 - val_accuracy: 0.8967\n",
            "Epoch 346/500\n",
            "469/469 [==============================] - 2s 3ms/step - loss: 0.0198 - accuracy: 0.8882 - val_loss: 0.0189 - val_accuracy: 0.8967\n",
            "Epoch 347/500\n",
            "469/469 [==============================] - 2s 3ms/step - loss: 0.0198 - accuracy: 0.8883 - val_loss: 0.0188 - val_accuracy: 0.8968\n",
            "Epoch 348/500\n",
            "469/469 [==============================] - 2s 3ms/step - loss: 0.0198 - accuracy: 0.8883 - val_loss: 0.0188 - val_accuracy: 0.8969\n",
            "Epoch 349/500\n",
            "469/469 [==============================] - 2s 4ms/step - loss: 0.0198 - accuracy: 0.8885 - val_loss: 0.0188 - val_accuracy: 0.8969\n",
            "Epoch 350/500\n",
            "469/469 [==============================] - 2s 3ms/step - loss: 0.0197 - accuracy: 0.8886 - val_loss: 0.0187 - val_accuracy: 0.8969\n",
            "Epoch 351/500\n",
            "469/469 [==============================] - 2s 3ms/step - loss: 0.0197 - accuracy: 0.8888 - val_loss: 0.0187 - val_accuracy: 0.8970\n",
            "Epoch 352/500\n",
            "469/469 [==============================] - 2s 3ms/step - loss: 0.0197 - accuracy: 0.8889 - val_loss: 0.0187 - val_accuracy: 0.8970\n",
            "Epoch 353/500\n",
            "469/469 [==============================] - 2s 3ms/step - loss: 0.0196 - accuracy: 0.8890 - val_loss: 0.0187 - val_accuracy: 0.8968\n",
            "Epoch 354/500\n",
            "469/469 [==============================] - 2s 3ms/step - loss: 0.0196 - accuracy: 0.8891 - val_loss: 0.0186 - val_accuracy: 0.8968\n",
            "Epoch 355/500\n",
            "469/469 [==============================] - 2s 3ms/step - loss: 0.0196 - accuracy: 0.8891 - val_loss: 0.0186 - val_accuracy: 0.8969\n",
            "Epoch 356/500\n",
            "469/469 [==============================] - 2s 3ms/step - loss: 0.0195 - accuracy: 0.8893 - val_loss: 0.0186 - val_accuracy: 0.8970\n",
            "Epoch 357/500\n",
            "469/469 [==============================] - 2s 3ms/step - loss: 0.0195 - accuracy: 0.8893 - val_loss: 0.0185 - val_accuracy: 0.8970\n",
            "Epoch 358/500\n",
            "469/469 [==============================] - 2s 3ms/step - loss: 0.0195 - accuracy: 0.8895 - val_loss: 0.0185 - val_accuracy: 0.8972\n",
            "Epoch 359/500\n",
            "469/469 [==============================] - 2s 3ms/step - loss: 0.0195 - accuracy: 0.8895 - val_loss: 0.0185 - val_accuracy: 0.8972\n",
            "Epoch 360/500\n",
            "469/469 [==============================] - 2s 3ms/step - loss: 0.0194 - accuracy: 0.8898 - val_loss: 0.0185 - val_accuracy: 0.8973\n",
            "Epoch 361/500\n",
            "469/469 [==============================] - 2s 4ms/step - loss: 0.0194 - accuracy: 0.8897 - val_loss: 0.0184 - val_accuracy: 0.8973\n",
            "Epoch 362/500\n",
            "469/469 [==============================] - 2s 4ms/step - loss: 0.0194 - accuracy: 0.8899 - val_loss: 0.0184 - val_accuracy: 0.8975\n",
            "Epoch 363/500\n",
            "469/469 [==============================] - 2s 3ms/step - loss: 0.0194 - accuracy: 0.8899 - val_loss: 0.0184 - val_accuracy: 0.8975\n",
            "Epoch 364/500\n",
            "469/469 [==============================] - 2s 3ms/step - loss: 0.0193 - accuracy: 0.8900 - val_loss: 0.0184 - val_accuracy: 0.8975\n",
            "Epoch 365/500\n",
            "469/469 [==============================] - 2s 3ms/step - loss: 0.0193 - accuracy: 0.8901 - val_loss: 0.0183 - val_accuracy: 0.8975\n",
            "Epoch 366/500\n",
            "469/469 [==============================] - 2s 3ms/step - loss: 0.0193 - accuracy: 0.8904 - val_loss: 0.0183 - val_accuracy: 0.8977\n",
            "Epoch 367/500\n",
            "469/469 [==============================] - 2s 3ms/step - loss: 0.0192 - accuracy: 0.8905 - val_loss: 0.0183 - val_accuracy: 0.8979\n",
            "Epoch 368/500\n",
            "469/469 [==============================] - 2s 3ms/step - loss: 0.0192 - accuracy: 0.8906 - val_loss: 0.0183 - val_accuracy: 0.8979\n",
            "Epoch 369/500\n",
            "469/469 [==============================] - 2s 3ms/step - loss: 0.0192 - accuracy: 0.8907 - val_loss: 0.0182 - val_accuracy: 0.8981\n",
            "Epoch 370/500\n",
            "469/469 [==============================] - 2s 4ms/step - loss: 0.0192 - accuracy: 0.8908 - val_loss: 0.0182 - val_accuracy: 0.8979\n",
            "Epoch 371/500\n",
            "469/469 [==============================] - 2s 3ms/step - loss: 0.0191 - accuracy: 0.8908 - val_loss: 0.0182 - val_accuracy: 0.8980\n",
            "Epoch 372/500\n",
            "469/469 [==============================] - 2s 3ms/step - loss: 0.0191 - accuracy: 0.8908 - val_loss: 0.0182 - val_accuracy: 0.8978\n",
            "Epoch 373/500\n",
            "469/469 [==============================] - 2s 3ms/step - loss: 0.0191 - accuracy: 0.8910 - val_loss: 0.0181 - val_accuracy: 0.8980\n",
            "Epoch 374/500\n",
            "469/469 [==============================] - 2s 3ms/step - loss: 0.0191 - accuracy: 0.8909 - val_loss: 0.0181 - val_accuracy: 0.8980\n",
            "Epoch 375/500\n",
            "469/469 [==============================] - 2s 3ms/step - loss: 0.0190 - accuracy: 0.8911 - val_loss: 0.0181 - val_accuracy: 0.8981\n",
            "Epoch 376/500\n",
            "469/469 [==============================] - 2s 3ms/step - loss: 0.0190 - accuracy: 0.8913 - val_loss: 0.0181 - val_accuracy: 0.8982\n",
            "Epoch 377/500\n",
            "469/469 [==============================] - 2s 3ms/step - loss: 0.0190 - accuracy: 0.8913 - val_loss: 0.0180 - val_accuracy: 0.8984\n",
            "Epoch 378/500\n",
            "469/469 [==============================] - 2s 3ms/step - loss: 0.0190 - accuracy: 0.8913 - val_loss: 0.0180 - val_accuracy: 0.8985\n",
            "Epoch 379/500\n",
            "469/469 [==============================] - 2s 3ms/step - loss: 0.0189 - accuracy: 0.8914 - val_loss: 0.0180 - val_accuracy: 0.8984\n",
            "Epoch 380/500\n",
            "469/469 [==============================] - 2s 3ms/step - loss: 0.0189 - accuracy: 0.8915 - val_loss: 0.0180 - val_accuracy: 0.8985\n",
            "Epoch 381/500\n",
            "469/469 [==============================] - 2s 3ms/step - loss: 0.0189 - accuracy: 0.8916 - val_loss: 0.0179 - val_accuracy: 0.8986\n",
            "Epoch 382/500\n",
            "469/469 [==============================] - 2s 3ms/step - loss: 0.0189 - accuracy: 0.8915 - val_loss: 0.0179 - val_accuracy: 0.8988\n",
            "Epoch 383/500\n",
            "469/469 [==============================] - 2s 3ms/step - loss: 0.0188 - accuracy: 0.8917 - val_loss: 0.0179 - val_accuracy: 0.8988\n",
            "Epoch 384/500\n",
            "469/469 [==============================] - 2s 3ms/step - loss: 0.0188 - accuracy: 0.8917 - val_loss: 0.0179 - val_accuracy: 0.8990\n",
            "Epoch 385/500\n",
            "469/469 [==============================] - 2s 3ms/step - loss: 0.0188 - accuracy: 0.8918 - val_loss: 0.0179 - val_accuracy: 0.8993\n",
            "Epoch 386/500\n",
            "469/469 [==============================] - 2s 3ms/step - loss: 0.0188 - accuracy: 0.8919 - val_loss: 0.0178 - val_accuracy: 0.8992\n",
            "Epoch 387/500\n",
            "469/469 [==============================] - 2s 3ms/step - loss: 0.0188 - accuracy: 0.8920 - val_loss: 0.0178 - val_accuracy: 0.8991\n",
            "Epoch 388/500\n",
            "469/469 [==============================] - 2s 4ms/step - loss: 0.0187 - accuracy: 0.8921 - val_loss: 0.0178 - val_accuracy: 0.8993\n",
            "Epoch 389/500\n",
            "469/469 [==============================] - 2s 3ms/step - loss: 0.0187 - accuracy: 0.8922 - val_loss: 0.0178 - val_accuracy: 0.8993\n",
            "Epoch 390/500\n",
            "469/469 [==============================] - 2s 3ms/step - loss: 0.0187 - accuracy: 0.8923 - val_loss: 0.0177 - val_accuracy: 0.8994\n",
            "Epoch 391/500\n",
            "469/469 [==============================] - 2s 3ms/step - loss: 0.0187 - accuracy: 0.8923 - val_loss: 0.0177 - val_accuracy: 0.8995\n",
            "Epoch 392/500\n",
            "469/469 [==============================] - 2s 3ms/step - loss: 0.0186 - accuracy: 0.8923 - val_loss: 0.0177 - val_accuracy: 0.8997\n",
            "Epoch 393/500\n",
            "469/469 [==============================] - 2s 3ms/step - loss: 0.0186 - accuracy: 0.8924 - val_loss: 0.0177 - val_accuracy: 0.8997\n",
            "Epoch 394/500\n",
            "469/469 [==============================] - 2s 4ms/step - loss: 0.0186 - accuracy: 0.8925 - val_loss: 0.0177 - val_accuracy: 0.8998\n",
            "Epoch 395/500\n",
            "469/469 [==============================] - 2s 4ms/step - loss: 0.0186 - accuracy: 0.8926 - val_loss: 0.0176 - val_accuracy: 0.9000\n",
            "Epoch 396/500\n",
            "469/469 [==============================] - 2s 4ms/step - loss: 0.0186 - accuracy: 0.8927 - val_loss: 0.0176 - val_accuracy: 0.9002\n",
            "Epoch 397/500\n",
            "469/469 [==============================] - 2s 3ms/step - loss: 0.0185 - accuracy: 0.8927 - val_loss: 0.0176 - val_accuracy: 0.9001\n",
            "Epoch 398/500\n",
            "469/469 [==============================] - 2s 3ms/step - loss: 0.0185 - accuracy: 0.8928 - val_loss: 0.0176 - val_accuracy: 0.9003\n",
            "Epoch 399/500\n",
            "469/469 [==============================] - 2s 4ms/step - loss: 0.0185 - accuracy: 0.8929 - val_loss: 0.0175 - val_accuracy: 0.9005\n",
            "Epoch 400/500\n",
            "469/469 [==============================] - 2s 3ms/step - loss: 0.0185 - accuracy: 0.8931 - val_loss: 0.0175 - val_accuracy: 0.9004\n",
            "Epoch 401/500\n",
            "469/469 [==============================] - 2s 3ms/step - loss: 0.0184 - accuracy: 0.8932 - val_loss: 0.0175 - val_accuracy: 0.9004\n",
            "Epoch 402/500\n",
            "469/469 [==============================] - 2s 3ms/step - loss: 0.0184 - accuracy: 0.8932 - val_loss: 0.0175 - val_accuracy: 0.9005\n",
            "Epoch 403/500\n",
            "469/469 [==============================] - 2s 3ms/step - loss: 0.0184 - accuracy: 0.8933 - val_loss: 0.0175 - val_accuracy: 0.9005\n",
            "Epoch 404/500\n",
            "469/469 [==============================] - 2s 3ms/step - loss: 0.0184 - accuracy: 0.8933 - val_loss: 0.0174 - val_accuracy: 0.9006\n",
            "Epoch 405/500\n",
            "469/469 [==============================] - 2s 3ms/step - loss: 0.0184 - accuracy: 0.8935 - val_loss: 0.0174 - val_accuracy: 0.9007\n",
            "Epoch 406/500\n",
            "469/469 [==============================] - 2s 3ms/step - loss: 0.0183 - accuracy: 0.8935 - val_loss: 0.0174 - val_accuracy: 0.9007\n",
            "Epoch 407/500\n",
            "469/469 [==============================] - 2s 3ms/step - loss: 0.0183 - accuracy: 0.8937 - val_loss: 0.0174 - val_accuracy: 0.9007\n",
            "Epoch 408/500\n",
            "469/469 [==============================] - 2s 3ms/step - loss: 0.0183 - accuracy: 0.8937 - val_loss: 0.0174 - val_accuracy: 0.9009\n",
            "Epoch 409/500\n",
            "469/469 [==============================] - 2s 3ms/step - loss: 0.0183 - accuracy: 0.8938 - val_loss: 0.0173 - val_accuracy: 0.9009\n",
            "Epoch 410/500\n",
            "469/469 [==============================] - 2s 3ms/step - loss: 0.0183 - accuracy: 0.8937 - val_loss: 0.0173 - val_accuracy: 0.9011\n",
            "Epoch 411/500\n",
            "469/469 [==============================] - 2s 3ms/step - loss: 0.0182 - accuracy: 0.8939 - val_loss: 0.0173 - val_accuracy: 0.9011\n",
            "Epoch 412/500\n",
            "469/469 [==============================] - 2s 3ms/step - loss: 0.0182 - accuracy: 0.8938 - val_loss: 0.0173 - val_accuracy: 0.9012\n",
            "Epoch 413/500\n",
            "469/469 [==============================] - 2s 3ms/step - loss: 0.0182 - accuracy: 0.8940 - val_loss: 0.0173 - val_accuracy: 0.9011\n",
            "Epoch 414/500\n",
            "469/469 [==============================] - 2s 3ms/step - loss: 0.0182 - accuracy: 0.8940 - val_loss: 0.0172 - val_accuracy: 0.9016\n",
            "Epoch 415/500\n",
            "469/469 [==============================] - 2s 3ms/step - loss: 0.0182 - accuracy: 0.8941 - val_loss: 0.0172 - val_accuracy: 0.9017\n",
            "Epoch 416/500\n",
            "469/469 [==============================] - 2s 3ms/step - loss: 0.0181 - accuracy: 0.8941 - val_loss: 0.0172 - val_accuracy: 0.9017\n",
            "Epoch 417/500\n",
            "469/469 [==============================] - 2s 3ms/step - loss: 0.0181 - accuracy: 0.8943 - val_loss: 0.0172 - val_accuracy: 0.9017\n",
            "Epoch 418/500\n",
            "469/469 [==============================] - 2s 4ms/step - loss: 0.0181 - accuracy: 0.8943 - val_loss: 0.0172 - val_accuracy: 0.9018\n",
            "Epoch 419/500\n",
            "469/469 [==============================] - 2s 3ms/step - loss: 0.0181 - accuracy: 0.8943 - val_loss: 0.0172 - val_accuracy: 0.9018\n",
            "Epoch 420/500\n",
            "469/469 [==============================] - 2s 3ms/step - loss: 0.0181 - accuracy: 0.8945 - val_loss: 0.0171 - val_accuracy: 0.9019\n",
            "Epoch 421/500\n",
            "469/469 [==============================] - 2s 3ms/step - loss: 0.0180 - accuracy: 0.8946 - val_loss: 0.0171 - val_accuracy: 0.9020\n",
            "Epoch 422/500\n",
            "469/469 [==============================] - 2s 3ms/step - loss: 0.0180 - accuracy: 0.8946 - val_loss: 0.0171 - val_accuracy: 0.9020\n",
            "Epoch 423/500\n",
            "469/469 [==============================] - 2s 3ms/step - loss: 0.0180 - accuracy: 0.8947 - val_loss: 0.0171 - val_accuracy: 0.9019\n",
            "Epoch 424/500\n",
            "469/469 [==============================] - 2s 4ms/step - loss: 0.0180 - accuracy: 0.8948 - val_loss: 0.0171 - val_accuracy: 0.9017\n",
            "Epoch 425/500\n",
            "469/469 [==============================] - 2s 4ms/step - loss: 0.0180 - accuracy: 0.8950 - val_loss: 0.0170 - val_accuracy: 0.9018\n",
            "Epoch 426/500\n",
            "469/469 [==============================] - 2s 4ms/step - loss: 0.0179 - accuracy: 0.8950 - val_loss: 0.0170 - val_accuracy: 0.9020\n",
            "Epoch 427/500\n",
            "469/469 [==============================] - 2s 4ms/step - loss: 0.0179 - accuracy: 0.8951 - val_loss: 0.0170 - val_accuracy: 0.9021\n",
            "Epoch 428/500\n",
            "469/469 [==============================] - 2s 4ms/step - loss: 0.0179 - accuracy: 0.8951 - val_loss: 0.0170 - val_accuracy: 0.9021\n",
            "Epoch 429/500\n",
            "469/469 [==============================] - 2s 3ms/step - loss: 0.0179 - accuracy: 0.8952 - val_loss: 0.0170 - val_accuracy: 0.9022\n",
            "Epoch 430/500\n",
            "469/469 [==============================] - 2s 3ms/step - loss: 0.0179 - accuracy: 0.8953 - val_loss: 0.0170 - val_accuracy: 0.9022\n",
            "Epoch 431/500\n",
            "469/469 [==============================] - 2s 4ms/step - loss: 0.0179 - accuracy: 0.8953 - val_loss: 0.0169 - val_accuracy: 0.9021\n",
            "Epoch 432/500\n",
            "469/469 [==============================] - 2s 3ms/step - loss: 0.0178 - accuracy: 0.8954 - val_loss: 0.0169 - val_accuracy: 0.9022\n",
            "Epoch 433/500\n",
            "469/469 [==============================] - 2s 4ms/step - loss: 0.0178 - accuracy: 0.8954 - val_loss: 0.0169 - val_accuracy: 0.9022\n",
            "Epoch 434/500\n",
            "469/469 [==============================] - 2s 4ms/step - loss: 0.0178 - accuracy: 0.8954 - val_loss: 0.0169 - val_accuracy: 0.9024\n",
            "Epoch 435/500\n",
            "469/469 [==============================] - 2s 4ms/step - loss: 0.0178 - accuracy: 0.8956 - val_loss: 0.0169 - val_accuracy: 0.9022\n",
            "Epoch 436/500\n",
            "469/469 [==============================] - 2s 4ms/step - loss: 0.0178 - accuracy: 0.8957 - val_loss: 0.0169 - val_accuracy: 0.9023\n",
            "Epoch 437/500\n",
            "469/469 [==============================] - 2s 4ms/step - loss: 0.0177 - accuracy: 0.8957 - val_loss: 0.0168 - val_accuracy: 0.9023\n",
            "Epoch 438/500\n",
            "469/469 [==============================] - 2s 4ms/step - loss: 0.0177 - accuracy: 0.8958 - val_loss: 0.0168 - val_accuracy: 0.9023\n",
            "Epoch 439/500\n",
            "469/469 [==============================] - 2s 4ms/step - loss: 0.0177 - accuracy: 0.8958 - val_loss: 0.0168 - val_accuracy: 0.9023\n",
            "Epoch 440/500\n",
            "469/469 [==============================] - 2s 4ms/step - loss: 0.0177 - accuracy: 0.8959 - val_loss: 0.0168 - val_accuracy: 0.9023\n",
            "Epoch 441/500\n",
            "469/469 [==============================] - 2s 4ms/step - loss: 0.0177 - accuracy: 0.8959 - val_loss: 0.0168 - val_accuracy: 0.9025\n",
            "Epoch 442/500\n",
            "469/469 [==============================] - 2s 4ms/step - loss: 0.0177 - accuracy: 0.8960 - val_loss: 0.0168 - val_accuracy: 0.9025\n",
            "Epoch 443/500\n",
            "469/469 [==============================] - 2s 4ms/step - loss: 0.0176 - accuracy: 0.8960 - val_loss: 0.0167 - val_accuracy: 0.9025\n",
            "Epoch 444/500\n",
            "469/469 [==============================] - 2s 3ms/step - loss: 0.0176 - accuracy: 0.8960 - val_loss: 0.0167 - val_accuracy: 0.9026\n",
            "Epoch 445/500\n",
            "469/469 [==============================] - 2s 3ms/step - loss: 0.0176 - accuracy: 0.8961 - val_loss: 0.0167 - val_accuracy: 0.9026\n",
            "Epoch 446/500\n",
            "469/469 [==============================] - 2s 3ms/step - loss: 0.0176 - accuracy: 0.8962 - val_loss: 0.0167 - val_accuracy: 0.9027\n",
            "Epoch 447/500\n",
            "469/469 [==============================] - 2s 3ms/step - loss: 0.0176 - accuracy: 0.8964 - val_loss: 0.0167 - val_accuracy: 0.9028\n",
            "Epoch 448/500\n",
            "469/469 [==============================] - 2s 3ms/step - loss: 0.0176 - accuracy: 0.8964 - val_loss: 0.0167 - val_accuracy: 0.9030\n",
            "Epoch 449/500\n",
            "469/469 [==============================] - 2s 3ms/step - loss: 0.0175 - accuracy: 0.8965 - val_loss: 0.0166 - val_accuracy: 0.9031\n",
            "Epoch 450/500\n",
            "469/469 [==============================] - 2s 3ms/step - loss: 0.0175 - accuracy: 0.8967 - val_loss: 0.0166 - val_accuracy: 0.9032\n",
            "Epoch 451/500\n",
            "469/469 [==============================] - 2s 4ms/step - loss: 0.0175 - accuracy: 0.8968 - val_loss: 0.0166 - val_accuracy: 0.9033\n",
            "Epoch 452/500\n",
            "469/469 [==============================] - 2s 3ms/step - loss: 0.0175 - accuracy: 0.8968 - val_loss: 0.0166 - val_accuracy: 0.9036\n",
            "Epoch 453/500\n",
            "469/469 [==============================] - 2s 3ms/step - loss: 0.0175 - accuracy: 0.8969 - val_loss: 0.0166 - val_accuracy: 0.9037\n",
            "Epoch 454/500\n",
            "469/469 [==============================] - 2s 3ms/step - loss: 0.0175 - accuracy: 0.8970 - val_loss: 0.0166 - val_accuracy: 0.9036\n",
            "Epoch 455/500\n",
            "469/469 [==============================] - 2s 4ms/step - loss: 0.0174 - accuracy: 0.8971 - val_loss: 0.0165 - val_accuracy: 0.9037\n",
            "Epoch 456/500\n",
            "469/469 [==============================] - 2s 3ms/step - loss: 0.0174 - accuracy: 0.8971 - val_loss: 0.0165 - val_accuracy: 0.9037\n",
            "Epoch 457/500\n",
            "469/469 [==============================] - 2s 3ms/step - loss: 0.0174 - accuracy: 0.8973 - val_loss: 0.0165 - val_accuracy: 0.9038\n",
            "Epoch 458/500\n",
            "469/469 [==============================] - 2s 3ms/step - loss: 0.0174 - accuracy: 0.8972 - val_loss: 0.0165 - val_accuracy: 0.9038\n",
            "Epoch 459/500\n",
            "469/469 [==============================] - 2s 3ms/step - loss: 0.0174 - accuracy: 0.8973 - val_loss: 0.0165 - val_accuracy: 0.9039\n",
            "Epoch 460/500\n",
            "469/469 [==============================] - 2s 3ms/step - loss: 0.0174 - accuracy: 0.8974 - val_loss: 0.0165 - val_accuracy: 0.9040\n",
            "Epoch 461/500\n",
            "469/469 [==============================] - 2s 3ms/step - loss: 0.0173 - accuracy: 0.8974 - val_loss: 0.0165 - val_accuracy: 0.9041\n",
            "Epoch 462/500\n",
            "469/469 [==============================] - 2s 3ms/step - loss: 0.0173 - accuracy: 0.8975 - val_loss: 0.0164 - val_accuracy: 0.9040\n",
            "Epoch 463/500\n",
            "469/469 [==============================] - 2s 4ms/step - loss: 0.0173 - accuracy: 0.8975 - val_loss: 0.0164 - val_accuracy: 0.9041\n",
            "Epoch 464/500\n",
            "469/469 [==============================] - 2s 4ms/step - loss: 0.0173 - accuracy: 0.8977 - val_loss: 0.0164 - val_accuracy: 0.9041\n",
            "Epoch 465/500\n",
            "469/469 [==============================] - 2s 3ms/step - loss: 0.0173 - accuracy: 0.8976 - val_loss: 0.0164 - val_accuracy: 0.9041\n",
            "Epoch 466/500\n",
            "469/469 [==============================] - 2s 3ms/step - loss: 0.0173 - accuracy: 0.8977 - val_loss: 0.0164 - val_accuracy: 0.9042\n",
            "Epoch 467/500\n",
            "469/469 [==============================] - 2s 4ms/step - loss: 0.0173 - accuracy: 0.8978 - val_loss: 0.0164 - val_accuracy: 0.9042\n",
            "Epoch 468/500\n",
            "469/469 [==============================] - 2s 3ms/step - loss: 0.0172 - accuracy: 0.8978 - val_loss: 0.0164 - val_accuracy: 0.9041\n",
            "Epoch 469/500\n",
            "469/469 [==============================] - 2s 3ms/step - loss: 0.0172 - accuracy: 0.8978 - val_loss: 0.0163 - val_accuracy: 0.9041\n",
            "Epoch 470/500\n",
            "469/469 [==============================] - 2s 3ms/step - loss: 0.0172 - accuracy: 0.8979 - val_loss: 0.0163 - val_accuracy: 0.9042\n",
            "Epoch 471/500\n",
            "469/469 [==============================] - 2s 3ms/step - loss: 0.0172 - accuracy: 0.8980 - val_loss: 0.0163 - val_accuracy: 0.9043\n",
            "Epoch 472/500\n",
            "469/469 [==============================] - 2s 3ms/step - loss: 0.0172 - accuracy: 0.8981 - val_loss: 0.0163 - val_accuracy: 0.9042\n",
            "Epoch 473/500\n",
            "469/469 [==============================] - 2s 3ms/step - loss: 0.0172 - accuracy: 0.8981 - val_loss: 0.0163 - val_accuracy: 0.9044\n",
            "Epoch 474/500\n",
            "469/469 [==============================] - 2s 4ms/step - loss: 0.0171 - accuracy: 0.8982 - val_loss: 0.0163 - val_accuracy: 0.9044\n",
            "Epoch 475/500\n",
            "469/469 [==============================] - 2s 3ms/step - loss: 0.0171 - accuracy: 0.8983 - val_loss: 0.0163 - val_accuracy: 0.9044\n",
            "Epoch 476/500\n",
            "469/469 [==============================] - 2s 4ms/step - loss: 0.0171 - accuracy: 0.8984 - val_loss: 0.0162 - val_accuracy: 0.9044\n",
            "Epoch 477/500\n",
            "469/469 [==============================] - 2s 3ms/step - loss: 0.0171 - accuracy: 0.8985 - val_loss: 0.0162 - val_accuracy: 0.9045\n",
            "Epoch 478/500\n",
            "469/469 [==============================] - 2s 4ms/step - loss: 0.0171 - accuracy: 0.8986 - val_loss: 0.0162 - val_accuracy: 0.9045\n",
            "Epoch 479/500\n",
            "469/469 [==============================] - 2s 3ms/step - loss: 0.0171 - accuracy: 0.8986 - val_loss: 0.0162 - val_accuracy: 0.9045\n",
            "Epoch 480/500\n",
            "469/469 [==============================] - 2s 3ms/step - loss: 0.0171 - accuracy: 0.8988 - val_loss: 0.0162 - val_accuracy: 0.9046\n",
            "Epoch 481/500\n",
            "469/469 [==============================] - 2s 3ms/step - loss: 0.0170 - accuracy: 0.8988 - val_loss: 0.0162 - val_accuracy: 0.9046\n",
            "Epoch 482/500\n",
            "469/469 [==============================] - 2s 3ms/step - loss: 0.0170 - accuracy: 0.8989 - val_loss: 0.0162 - val_accuracy: 0.9047\n",
            "Epoch 483/500\n",
            "469/469 [==============================] - 2s 3ms/step - loss: 0.0170 - accuracy: 0.8988 - val_loss: 0.0161 - val_accuracy: 0.9047\n",
            "Epoch 484/500\n",
            "469/469 [==============================] - 2s 4ms/step - loss: 0.0170 - accuracy: 0.8990 - val_loss: 0.0161 - val_accuracy: 0.9048\n",
            "Epoch 485/500\n",
            "469/469 [==============================] - 2s 3ms/step - loss: 0.0170 - accuracy: 0.8991 - val_loss: 0.0161 - val_accuracy: 0.9050\n",
            "Epoch 486/500\n",
            "469/469 [==============================] - 2s 3ms/step - loss: 0.0170 - accuracy: 0.8991 - val_loss: 0.0161 - val_accuracy: 0.9049\n",
            "Epoch 487/500\n",
            "469/469 [==============================] - 2s 3ms/step - loss: 0.0170 - accuracy: 0.8992 - val_loss: 0.0161 - val_accuracy: 0.9050\n",
            "Epoch 488/500\n",
            "469/469 [==============================] - 2s 4ms/step - loss: 0.0169 - accuracy: 0.8992 - val_loss: 0.0161 - val_accuracy: 0.9050\n",
            "Epoch 489/500\n",
            "469/469 [==============================] - 2s 4ms/step - loss: 0.0169 - accuracy: 0.8993 - val_loss: 0.0161 - val_accuracy: 0.9051\n",
            "Epoch 490/500\n",
            "469/469 [==============================] - 2s 3ms/step - loss: 0.0169 - accuracy: 0.8994 - val_loss: 0.0160 - val_accuracy: 0.9051\n",
            "Epoch 491/500\n",
            "469/469 [==============================] - 2s 3ms/step - loss: 0.0169 - accuracy: 0.8994 - val_loss: 0.0160 - val_accuracy: 0.9051\n",
            "Epoch 492/500\n",
            "469/469 [==============================] - 2s 3ms/step - loss: 0.0169 - accuracy: 0.8994 - val_loss: 0.0160 - val_accuracy: 0.9051\n",
            "Epoch 493/500\n",
            "469/469 [==============================] - 2s 4ms/step - loss: 0.0169 - accuracy: 0.8995 - val_loss: 0.0160 - val_accuracy: 0.9050\n",
            "Epoch 494/500\n",
            "469/469 [==============================] - 2s 3ms/step - loss: 0.0169 - accuracy: 0.8995 - val_loss: 0.0160 - val_accuracy: 0.9052\n",
            "Epoch 495/500\n",
            "469/469 [==============================] - 2s 3ms/step - loss: 0.0168 - accuracy: 0.8996 - val_loss: 0.0160 - val_accuracy: 0.9051\n",
            "Epoch 496/500\n",
            "469/469 [==============================] - 2s 3ms/step - loss: 0.0168 - accuracy: 0.8997 - val_loss: 0.0160 - val_accuracy: 0.9052\n",
            "Epoch 497/500\n",
            "469/469 [==============================] - 2s 3ms/step - loss: 0.0168 - accuracy: 0.8997 - val_loss: 0.0160 - val_accuracy: 0.9052\n",
            "Epoch 498/500\n",
            "469/469 [==============================] - 2s 3ms/step - loss: 0.0168 - accuracy: 0.8998 - val_loss: 0.0159 - val_accuracy: 0.9051\n",
            "Epoch 499/500\n",
            "469/469 [==============================] - 2s 3ms/step - loss: 0.0168 - accuracy: 0.8998 - val_loss: 0.0159 - val_accuracy: 0.9052\n",
            "Epoch 500/500\n",
            "469/469 [==============================] - 2s 3ms/step - loss: 0.0168 - accuracy: 0.8999 - val_loss: 0.0159 - val_accuracy: 0.9052\n"
          ]
        }
      ],
      "source": [
        "batch_size=128\n",
        "epochs=500\n",
        "\n",
        "history = model.fit(\n",
        "  X_training, # training data\n",
        "  y_training, # training targets\n",
        "  epochs=epochs,\n",
        "  batch_size=batch_size,\n",
        "  verbose=1,\n",
        "  validation_data=(X_validation, y_validation)\n",
        ")"
      ]
    },
    {
      "cell_type": "markdown",
      "metadata": {
        "id": "8AJ6owdTR1UA"
      },
      "source": [
        "### Plot learning curves"
      ]
    },
    {
      "cell_type": "code",
      "execution_count": null,
      "metadata": {
        "colab": {
          "base_uri": "https://localhost:8080/",
          "height": 591
        },
        "id": "QF8qu8ByR314",
        "outputId": "96c24c24-9ddf-4158-df3e-fa5f892b0a5e"
      },
      "outputs": [
        {
          "output_type": "stream",
          "name": "stdout",
          "text": [
            "dict_keys(['loss', 'accuracy', 'val_loss', 'val_accuracy'])\n"
          ]
        },
        {
          "output_type": "display_data",
          "data": {
            "text/plain": [
              "<Figure size 432x288 with 1 Axes>"
            ],
            "image/png": "[encoded data removed]"
          },
          "metadata": {
            "needs_background": "light"
          }
        },
        {
          "output_type": "display_data",
          "data": {
            "text/plain": [
              "<Figure size 432x288 with 1 Axes>"
            ],
            "image/png": "[encoded data removed]"
          },
          "metadata": {
            "needs_background": "light"
          }
        }
      ],
      "source": [
        "# list all data in history\n",
        "print(history.history.keys())\n",
        "\n",
        "# summarize history for accuracy\n",
        "plt.plot(history.history['accuracy'])\n",
        "plt.plot(history.history['val_accuracy'])\n",
        "plt.title('model accuracy')\n",
        "plt.ylabel('accuracy')\n",
        "plt.xlabel('epoch')\n",
        "plt.legend(['train', 'test'], loc='upper left')\n",
        "plt.show()\n",
        "\n",
        "# summarize history for loss\n",
        "plt.plot(history.history['loss'])\n",
        "plt.plot(history.history['val_loss'])\n",
        "plt.title('model loss')\n",
        "plt.ylabel('loss')\n",
        "plt.xlabel('epoch')\n",
        "plt.legend(['train', 'test'], loc='upper left')\n",
        "plt.show()"
      ]
    },
    {
      "cell_type": "markdown",
      "metadata": {
        "id": "763bQLbzQmw4"
      },
      "source": [
        "### Evaluate the model"
      ]
    },
    {
      "cell_type": "code",
      "execution_count": null,
      "metadata": {
        "colab": {
          "base_uri": "https://localhost:8080/"
        },
        "id": "2siGhXrm-6rb",
        "outputId": "ca799b0b-0719-481e-81b5-dda9204dbee9"
      },
      "outputs": [
        {
          "output_type": "stream",
          "name": "stdout",
          "text": [
            "313/313 [==============================] - 1s 2ms/step - loss: 0.0159 - accuracy: 0.9052\n"
          ]
        },
        {
          "output_type": "execute_result",
          "data": {
            "text/plain": [
              "[0.015920167788863182, 0.9052000045776367]"
            ]
          },
          "metadata": {},
          "execution_count": 29
        }
      ],
      "source": [
        "model.evaluate(X_validation, y_validation)"
      ]
    },
    {
      "cell_type": "markdown",
      "metadata": {
        "id": "ARXGXxbZ3vlD"
      },
      "source": [
        "### TODO 3\n",
        "\n",
        "Write code to display the confusion matrix for your classifier and comment on the insights such confusion matrix provides.\n",
        "\n",
        "See [this](https://scikit-learn.org/stable/auto_examples/classification/plot_digits_classification.html) for an example."
      ]
    },
    {
      "cell_type": "code",
      "execution_count": null,
      "metadata": {
        "colab": {
          "base_uri": "https://localhost:8080/",
          "height": 479
        },
        "id": "KShJZZw6UhQt",
        "outputId": "52eb623a-9f1e-4b27-d396-d115c1463eca"
      },
      "outputs": [
        {
          "output_type": "stream",
          "name": "stdout",
          "text": [
            "313/313 [==============================] - 0s 1ms/step\n"
          ]
        },
        {
          "output_type": "execute_result",
          "data": {
            "text/plain": [
              "Text(69.0, 0.5, 'Truth')"
            ]
          },
          "metadata": {},
          "execution_count": 41
        },
        {
          "output_type": "display_data",
          "data": {
            "text/plain": [
              "<Figure size 720x504 with 2 Axes>"
            ],
            "image/png": "[encoded data removed]"
          },
          "metadata": {
            "needs_background": "light"
          }
        }
      ],
      "source": [
        "import tensorflow as tf\n",
        "predicted = model.predict(X_validation)\n",
        "y_predicted_labels = [np.argmax(i) for i in predicted] # converted with the 10 digit output\n",
        "\n",
        "pred = y_validation\n",
        "y_validation_labels = [np.argmax(i) for i in pred] # converted with the 10 digit output\n",
        "\n",
        "My_Confusion_matrix = tf.math.confusion_matrix(labels=y_validation_labels, predictions=y_predicted_labels)\n",
        "\n",
        "import seaborn as sn\n",
        "plt.figure(figsize = (10,7))\n",
        "sn.heatmap(My_Confusion_matrix, annot=True, fmt='d')\n",
        "plt.xlabel('Predicted')\n",
        "plt.ylabel('Truth')\n"
      ]
    },
    {
      "cell_type": "markdown",
      "source": [
        "**The confusion matrix** actually depicts the False positive and False negative for evaluating the performance of a classification model. The two important parameters are false positive and false negative. False positive is the actual value was negative but the model predicted a positive value. And the false negative is the actual value was positive but the model predicted a negative value. In our model, we can see that 0 is detected as 0, 957 times. But 0 is predicted as 6, 20 times. We can also see that digit 6 performs poorly. 732 times 6 predicted as 6. For digit 1 predicted as 1, 1104 times. Most of the mistakes I can see for digit 9 which predicted digit 4, 43 times as 9. Similarly, we can see the true value vs the predicted value for the digit 0 to 9."
      ],
      "metadata": {
        "id": "Fo3BvZ3GozAL"
      }
    },
    {
      "cell_type": "markdown",
      "metadata": {
        "id": "lJetC7rA36VT"
      },
      "source": [
        "### (OPTIONAL) TODO 4\n",
        "\n",
        "Write code to display 10 cases where the classifier makes mistakes. Make sure to display both the true value as well as the predicted value.\n",
        "\n",
        "See [this](https://conx.readthedocs.io/en/latest/MNIST.html) for an example."
      ]
    },
    {
      "cell_type": "code",
      "execution_count": null,
      "metadata": {
        "colab": {
          "base_uri": "https://localhost:8080/"
        },
        "id": "o4x8Lu1YB3IX",
        "outputId": "e820df66-f89e-4bb6-8557-55f8e14c8311"
      },
      "outputs": [
        {
          "output_type": "stream",
          "name": "stdout",
          "text": [
            "313/313 [==============================] - 0s 1ms/step\n",
            "[8, 33, 46, 62, 63, 77, 87, 111, 124, 144]\n",
            "[6, 6, 3, 4, 2, 7, 5, 1, 4, 9]\n",
            "[7, 2, 1, 0, 4, 1, 4, 9, 6, 9]\n"
          ]
        }
      ],
      "source": [
        "predicted = model.predict(X_validation)\n",
        "y_predicted_labels = [np.argmax(i) for i in predicted]\n",
        "\n",
        "pred = y_validation\n",
        "y_validation_labels = [np.argmax(i) for i in pred]\n",
        "\n",
        "wrong = [i for i in range(len(y_validation_labels)) if y_validation_labels[i] != y_predicted_labels[i]]\n",
        "\n",
        "print('Network classified the following', len(wrong), 'test inputs incorrectly:')\n",
        "#print(wrong[:10])\n",
        "misclassifications = [y_predicted_labels[i] for i in wrong]\n",
        "print(\"The 10 predicted values are\")\n",
        "print(misclassifications[:10])\n",
        "print(\"The 10 true values are\")\n",
        "print(y_predicted_labels[:10])\n"
      ]
    },
    {
      "cell_type": "markdown",
      "metadata": {
        "id": "C15mmBXeW3ZG"
      },
      "source": [
        "## PART 2 - Convolutional neural network (CNN) architecture"
      ]
    },
    {
      "cell_type": "code",
      "execution_count": null,
      "metadata": {
        "colab": {
          "base_uri": "https://localhost:8080/"
        },
        "id": "eyTJv6yKapB9",
        "outputId": "eb715211-563a-47b0-c0f2-8177b0c4cc8d"
      },
      "outputs": [
        {
          "output_type": "stream",
          "name": "stdout",
          "text": [
            "Model: \"sequential_1\"\n",
            "_________________________________________________________________\n",
            " Layer (type)                Output Shape              Param #   \n",
            "=================================================================\n",
            " conv2d (Conv2D)             (None, 26, 26, 32)        320       \n",
            "                                                                 \n",
            " max_pooling2d (MaxPooling2D  (None, 13, 13, 32)       0         \n",
            " )                                                               \n",
            "                                                                 \n",
            " conv2d_1 (Conv2D)           (None, 11, 11, 64)        18496     \n",
            "                                                                 \n",
            " max_pooling2d_1 (MaxPooling  (None, 5, 5, 64)         0         \n",
            " 2D)                                                             \n",
            "                                                                 \n",
            " flatten (Flatten)           (None, 1600)              0         \n",
            "                                                                 \n",
            " dropout (Dropout)           (None, 1600)              0         \n",
            "                                                                 \n",
            " dense_2 (Dense)             (None, 10)                16010     \n",
            "                                                                 \n",
            "=================================================================\n",
            "Total params: 34,826\n",
            "Trainable params: 34,826\n",
            "Non-trainable params: 0\n",
            "_________________________________________________________________\n"
          ]
        }
      ],
      "source": [
        "model_cnn = keras.Sequential(\n",
        "    [\n",
        "        keras.layers.InputLayer(input_shape),\n",
        "        layers.Conv2D(32, kernel_size=(3, 3), activation=\"relu\"),\n",
        "        layers.MaxPooling2D(pool_size=(2, 2)),\n",
        "        layers.Conv2D(64, kernel_size=(3, 3), activation=\"relu\"),\n",
        "        layers.MaxPooling2D(pool_size=(2, 2)),\n",
        "        layers.Flatten(),\n",
        "        layers.Dropout(0.5),\n",
        "        layers.Dense(num_classes, activation=\"softmax\"),\n",
        "    ]\n",
        ")\n",
        "\n",
        "model_cnn.summary()"
      ]
    },
    {
      "cell_type": "markdown",
      "metadata": {
        "id": "9GWxzAaaCqVb"
      },
      "source": [
        "### Configure model"
      ]
    },
    {
      "cell_type": "code",
      "execution_count": null,
      "metadata": {
        "id": "TQhlw1_OaQQx"
      },
      "outputs": [],
      "source": [
        "model_cnn.compile(\n",
        "    loss=\"categorical_crossentropy\",\n",
        "    optimizer=\"adam\",\n",
        "    metrics=[\"accuracy\"]\n",
        ")"
      ]
    },
    {
      "cell_type": "markdown",
      "metadata": {
        "id": "COvZ_7gCEjLc"
      },
      "source": [
        "### Prepare the data\n",
        "The CNN does not expect the images to be flattened."
      ]
    },
    {
      "cell_type": "code",
      "execution_count": null,
      "metadata": {
        "colab": {
          "base_uri": "https://localhost:8080/"
        },
        "id": "fPPpaSaUEv-3",
        "outputId": "b1eed5fb-b50c-42d8-9595-61e59cd3240f"
      },
      "outputs": [
        {
          "output_type": "stream",
          "name": "stdout",
          "text": [
            "x_train shape: (60000, 28, 28, 1)\n",
            "60000 train samples\n",
            "10000 test samples\n"
          ]
        }
      ],
      "source": [
        "# Reload the data, just in case\n",
        "(X_train, y_train), (X_valid, y_valid) = mnist.load_data()\n",
        "\n",
        "# convert class vectors to binary class matrices\n",
        "y_training = keras.utils.to_categorical(y_train, num_classes)\n",
        "y_validation = keras.utils.to_categorical(y_valid, num_classes)\n",
        "\n",
        "# Scale images to the [0, 1] range\n",
        "X_train_cnn = X_train.astype(\"float32\") / 255\n",
        "X_valid_cnn = X_valid.astype(\"float32\") / 255\n",
        "\n",
        "# Redefine  dimension of train/test inputs\n",
        "X_train_cnn = np.expand_dims(X_train_cnn, -1)\n",
        "X_valid_cnn = np.expand_dims(X_valid_cnn, -1)\n",
        "\n",
        "# Make sure images have shape (28, 28, 1)\n",
        "print(\"x_train shape:\", X_train_cnn.shape)\n",
        "print(X_train_cnn.shape[0], \"train samples\")\n",
        "print(X_valid_cnn.shape[0], \"test samples\")"
      ]
    },
    {
      "cell_type": "markdown",
      "metadata": {
        "id": "yqbkD3arDAI4"
      },
      "source": [
        "### Train!\n"
      ]
    },
    {
      "cell_type": "code",
      "execution_count": null,
      "metadata": {
        "colab": {
          "base_uri": "https://localhost:8080/"
        },
        "id": "1i6Pypg0C4Jq",
        "outputId": "56f35bc9-7700-4b6b-ca27-7178ec1462c2"
      },
      "outputs": [
        {
          "output_type": "stream",
          "name": "stdout",
          "text": [
            "Epoch 1/15\n",
            "469/469 [==============================] - 9s 6ms/step - loss: 0.3448 - accuracy: 0.8957 - val_loss: 0.0811 - val_accuracy: 0.9768\n",
            "Epoch 2/15\n",
            "469/469 [==============================] - 2s 5ms/step - loss: 0.1045 - accuracy: 0.9686 - val_loss: 0.0540 - val_accuracy: 0.9841\n",
            "Epoch 3/15\n",
            "469/469 [==============================] - 3s 5ms/step - loss: 0.0807 - accuracy: 0.9753 - val_loss: 0.0445 - val_accuracy: 0.9853\n",
            "Epoch 4/15\n",
            "469/469 [==============================] - 3s 5ms/step - loss: 0.0669 - accuracy: 0.9793 - val_loss: 0.0389 - val_accuracy: 0.9873\n",
            "Epoch 5/15\n",
            "469/469 [==============================] - 3s 6ms/step - loss: 0.0591 - accuracy: 0.9811 - val_loss: 0.0355 - val_accuracy: 0.9881\n",
            "Epoch 6/15\n",
            "469/469 [==============================] - 2s 5ms/step - loss: 0.0527 - accuracy: 0.9838 - val_loss: 0.0313 - val_accuracy: 0.9889\n",
            "Epoch 7/15\n",
            "469/469 [==============================] - 2s 5ms/step - loss: 0.0489 - accuracy: 0.9845 - val_loss: 0.0295 - val_accuracy: 0.9896\n",
            "Epoch 8/15\n",
            "469/469 [==============================] - 3s 5ms/step - loss: 0.0460 - accuracy: 0.9858 - val_loss: 0.0283 - val_accuracy: 0.9908\n",
            "Epoch 9/15\n",
            "469/469 [==============================] - 3s 5ms/step - loss: 0.0411 - accuracy: 0.9869 - val_loss: 0.0287 - val_accuracy: 0.9899\n",
            "Epoch 10/15\n",
            "469/469 [==============================] - 3s 5ms/step - loss: 0.0401 - accuracy: 0.9869 - val_loss: 0.0263 - val_accuracy: 0.9907\n",
            "Epoch 11/15\n",
            "469/469 [==============================] - 3s 5ms/step - loss: 0.0390 - accuracy: 0.9875 - val_loss: 0.0270 - val_accuracy: 0.9901\n",
            "Epoch 12/15\n",
            "469/469 [==============================] - 2s 5ms/step - loss: 0.0374 - accuracy: 0.9881 - val_loss: 0.0240 - val_accuracy: 0.9917\n",
            "Epoch 13/15\n",
            "469/469 [==============================] - 3s 5ms/step - loss: 0.0354 - accuracy: 0.9883 - val_loss: 0.0268 - val_accuracy: 0.9914\n",
            "Epoch 14/15\n",
            "469/469 [==============================] - 3s 6ms/step - loss: 0.0340 - accuracy: 0.9890 - val_loss: 0.0234 - val_accuracy: 0.9919\n",
            "Epoch 15/15\n",
            "469/469 [==============================] - 2s 5ms/step - loss: 0.0301 - accuracy: 0.9903 - val_loss: 0.0276 - val_accuracy: 0.9906\n"
          ]
        }
      ],
      "source": [
        "batch_size=128\n",
        "epochs=15\n",
        "\n",
        "history = model_cnn.fit(\n",
        "  X_train_cnn, # training data\n",
        "  y_training, # training targets\n",
        "  epochs=epochs,\n",
        "  batch_size=batch_size,\n",
        "  verbose=1,\n",
        "  validation_data=(X_valid_cnn, y_validation)\n",
        ")"
      ]
    },
    {
      "cell_type": "markdown",
      "metadata": {
        "id": "4uHN4KNdDC1T"
      },
      "source": [
        "### Plot learning curves"
      ]
    },
    {
      "cell_type": "code",
      "execution_count": null,
      "metadata": {
        "id": "yUdOrMVHDGIa",
        "colab": {
          "base_uri": "https://localhost:8080/",
          "height": 591
        },
        "outputId": "b64219a9-1041-4d7a-d5ab-f4b98ae7233b"
      },
      "outputs": [
        {
          "output_type": "stream",
          "name": "stdout",
          "text": [
            "dict_keys(['loss', 'accuracy', 'val_loss', 'val_accuracy'])\n"
          ]
        },
        {
          "output_type": "display_data",
          "data": {
            "text/plain": [
              "<Figure size 432x288 with 1 Axes>"
            ],
            "image/png": "[encoded data removed]"
          },
          "metadata": {
            "needs_background": "light"
          }
        },
        {
          "output_type": "display_data",
          "data": {
            "text/plain": [
              "<Figure size 432x288 with 1 Axes>"
            ],
            "image/png": "[encoded data removed]"
          },
          "metadata": {
            "needs_background": "light"
          }
        }
      ],
      "source": [
        "# list all data in history\n",
        "print(history.history.keys())\n",
        "\n",
        "# summarize history for accuracy\n",
        "plt.plot(history.history['accuracy'])\n",
        "plt.plot(history.history['val_accuracy'])\n",
        "plt.title('model accuracy')\n",
        "plt.ylabel('accuracy')\n",
        "plt.xlabel('epoch')\n",
        "plt.legend(['train', 'test'], loc='upper left')\n",
        "plt.show()\n",
        "\n",
        "# summarize history for loss\n",
        "plt.plot(history.history['loss'])\n",
        "plt.plot(history.history['val_loss'])\n",
        "plt.title('model loss')\n",
        "plt.ylabel('loss')\n",
        "plt.xlabel('epoch')\n",
        "plt.legend(['train', 'test'], loc='upper left')\n",
        "plt.show()"
      ]
    },
    {
      "cell_type": "markdown",
      "metadata": {
        "id": "oP7csjo2DGag"
      },
      "source": [
        "### Evaluate the model"
      ]
    },
    {
      "cell_type": "code",
      "execution_count": null,
      "metadata": {
        "id": "W86Hi07fDICp",
        "colab": {
          "base_uri": "https://localhost:8080/"
        },
        "outputId": "0d502739-c762-4ab7-b6d0-c4d655d99d25"
      },
      "outputs": [
        {
          "output_type": "stream",
          "name": "stdout",
          "text": [
            "313/313 [==============================] - 1s 3ms/step - loss: 0.0276 - accuracy: 0.9906\n"
          ]
        },
        {
          "output_type": "execute_result",
          "data": {
            "text/plain": [
              "[0.027586443349719048, 0.9905999898910522]"
            ]
          },
          "metadata": {},
          "execution_count": 37
        }
      ],
      "source": [
        "model_cnn.evaluate(X_valid_cnn, y_validation)"
      ]
    },
    {
      "cell_type": "markdown",
      "source": [
        "**QUESTION 4: How do the accuracy and loss compare to the previous model?**\n",
        "**What can you infer from this comparison?**\n",
        "\n",
        "**Answer:** We can see that our model improved a lot while using CNN and gained an accuracy of 0.9905 which is far better than the Shallow neural network. We used sequential model in both architecture but in CNN we added some extra layers with relu and softmax activators. In CNN we have less parameters(34,826) and only 15 epoch was run for traning the model where we had to run 500 epoch for shallow neural network. During the first epoch of our CNN model, we can see that the traning_loss is 0.3448 and the val_loss 0.0811. After running a few epoch, the traning_loss became 0.0301 and the val_loss became 0.0276. For the CNN model we can see the validation data got less loss and highest accuracy for the **epoch number 13**. When we evaluate the 2 model, we can discover than the shallow network has lower loss than the CNN which is 0.0159 and 0.0276 repectively.\n",
        "\n",
        "For loss function if we compare the 2 model, we can see that shalow network was able to minimize the loss after 100 epoch where the CNN model was able to reduce the loss significantly only after one epoch.\n",
        "\n",
        "For accuracy the same thing happened. Shallow network required 100+ epoch to achive the increase of accuracy but in one epoch CNN climbed from 0.90 to 0.98. In our CNN model we can also see that the validation loss is lower than the traning data thats why the validation accuracy curve was higer than the traning accuracy curve.\n",
        "\n",
        "Finally, we can conclude that the CNN network has built more stable model where the validation loss is less than the traning loss and thats why we can get a higher accuracy for the validation accuracy than the training accuracy. As both of the validation and accuracy curves went through the same direction we can also observer that no overfitting or underfitting happened.\n",
        "\n"
      ],
      "metadata": {
        "id": "RDBCFqKA95Ba"
      }
    },
    {
      "cell_type": "markdown",
      "source": [
        "# Conclusion\n",
        "\n",
        "In this project, we learned how to use Python, Keras, TensorFlow, and python IDE to construct an image classification solution. We used the MNIST handwriting digit classification dataset and applied it to fully connected neural networks and convolutional neural networks (CNNs). We learned how to develop a sequential model using Keras and TensorFlow to build a classifier/model to train the dataset and test it. Additionally, we saw how different loss functions and accuracy work and how to show them in a plot by using another python package called matplotlib. We evaluated the performance between a shallow neural network architecture and a Convolutional neural network (CNN) architecture and our findings demonstrate that CCN outperformed over the shallow neural network model."
      ],
      "metadata": {
        "id": "10X2aMXEPpCp"
      }
    }
  ],
  "metadata": {
    "accelerator": "GPU",
    "colab": {
      "provenance": [],
      "toc_visible": true,
      "include_colab_link": true
    },
    "kernelspec": {
      "display_name": "Python 3",
      "language": "python",
      "name": "python3"
    },
    "language_info": {
      "codemirror_mode": {
        "name": "ipython",
        "version": 3
      },
      "file_extension": ".py",
      "mimetype": "text/x-python",
      "name": "python",
      "nbconvert_exporter": "python",
      "pygments_lexer": "ipython3",
      "version": "3.6.5"
    }
  },
  "nbformat": 4,
  "nbformat_minor": 0
}