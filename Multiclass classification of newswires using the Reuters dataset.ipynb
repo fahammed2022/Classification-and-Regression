{
  "cells": [
    {
      "cell_type": "markdown",
      "metadata": {
        "id": "view-in-github",
        "colab_type": "text"
      },
      "source": [
        "<a href=\"https://colab.research.google.com/github/fahammed2022/Classification-and-Regression/blob/main/Multiclass%20classification%20of%20newswires%20using%20the%20Reuters%20dataset.ipynb\" target=\"_parent\"><img src=\"https://colab.research.google.com/assets/colab-badge.svg\" alt=\"Open In Colab\"/></a>"
      ]
    },
    {
      "cell_type": "markdown",
      "metadata": {
        "id": "Whf_8TEO-6qX"
      },
      "source": [
        "# CAP 6619 - Deep Learning\n",
        "## Dr Marques\n",
        "## Project 2\n",
        "## Name: Fahad Ahammed\n",
        "##Z number: Z23685691\n",
        "## Notebook URL: https://colab.research.google.com/drive/1PCzcN7fJufGb1200P7zS4D8Q0KyMJrfa?usp=sharing\n",
        "\n",
        "Deep learning solutions for:\n",
        "- Binary classification of movie reviews using the IMDB dataset\n",
        "- Multiclass classification of newswires using the Reuters dataset\n",
        "- Regression for house price estimation using the Boston Housing Price dataset"
      ]
    },
    {
      "cell_type": "markdown",
      "metadata": {
        "id": "32AXUOrLxvoD"
      },
      "source": [
        "Useful references and sources:\n",
        "\n",
        "- https://keras.io/api/datasets/imdb/\n",
        "- https://www.tensorflow.org/datasets/catalog/imdb_reviews\n",
        "- https://www.tensorflow.org/tutorials/keras/text_classification_with_hub\n",
        "- https://colab.research.google.com/github/fchollet/deep-learning-with-python-notebooks/blob/master/chapter04_getting-started-with-neural-networks.ipynb\n",
        "- https://developers.google.com/machine-learning/guides/text-classification/\n",
        "- https://machinelearningmastery.com/sequence-classification-lstm-recurrent-neural-networks-python-keras/"
      ]
    },
    {
      "cell_type": "markdown",
      "metadata": {
        "id": "o_i0NIxeykr0"
      },
      "source": [
        "#### (OPTIONAL) TODO 1\n",
        "\n",
        "This URL helped to understand various performce metrics https://neptune.ai/blog/evaluation-metrics-binary-classification"
      ]
    },
    {
      "cell_type": "markdown",
      "metadata": {
        "id": "2u-hfaHC-6qb"
      },
      "source": [
        "## Setup"
      ]
    },
    {
      "cell_type": "code",
      "execution_count": null,
      "metadata": {
        "id": "1H7CSr4a-6qb"
      },
      "outputs": [],
      "source": [
        "from tensorflow import keras\n",
        "from keras.datasets import mnist\n",
        "from keras.models import Sequential\n",
        "from keras.layers import Dense\n",
        "from tensorflow.keras.optimizers import SGD\n",
        "from tensorflow.keras import layers\n",
        "from matplotlib import pyplot as plt\n",
        "import numpy as np"
      ]
    },
    {
      "cell_type": "markdown",
      "metadata": {
        "id": "BEn1cfWJ-6rH"
      },
      "source": [
        "## PART 1 - Binary classification of movie reviews using the IMDB dataset\n",
        "\n",
        "We will start with a simple solution using a fully-connected neural network architecture."
      ]
    },
    {
      "cell_type": "markdown",
      "source": [
        "### **Answer for Part 1 Questions**"
      ],
      "metadata": {
        "id": "s4zxqxYujcE5"
      }
    },
    {
      "cell_type": "markdown",
      "source": [
        "**(1) What type of preprocessing was applied to the raw input data? Why was it necessary to do so?**\n",
        "\n",
        "**Answer:** In this Binary classification problem, Multi-hot encoding was applied to the raw input data. We can’t directly feed lists of integers into a neural network. They all have different lengths, but a neural network expects to process contiguous batches of data. We have to turn this lists into tensors and Multi-hot encode lists to turn them into vectors of 0s and 1s.\n",
        "\n",
        "\n",
        "**(2) Does your model suffer from overfitting? If so, what would you suggest doing about it?**\n",
        "\n",
        "**Answer:** Yes! This model suffers from overfitting. We can see the training loss decrease gradually but the validation loss goes up after 4 epochs. So this model performs better on the training data and isn’t necessarily doing better on data it has never seen before.\n",
        "\n",
        "To get rid of this situation, we can stop the training process after 4 epochs. In addition, adding more layers and using different loss functions and activators may impact the training process and can reduce the chances of overfitting.\n",
        "\n",
        "**3) Is accuracy a good metric of success in this case? Why (not)?**\n",
        "\n",
        "**Answer:** Yes! Accuracy seems a good metric of success in this binary classification problem. The formula for accuracy is the division between the number of correct answers and the total of the answers. Also, the accuracy works with both type 1 and type 2 errors. We can see that when the training loss decreases with every epoch, then the training accuracy increases with every epoch. So good accuracy also means a decent loss of the training processes. Accuracy works well when the class is balanced, which means both positive and negative classes have equal instances. In our case, we have equal positive-negative reviews. That's why I would consider accuracy as a good metric here."
      ],
      "metadata": {
        "id": "OVkcFqm5k32N"
      }
    },
    {
      "cell_type": "markdown",
      "metadata": {
        "id": "dxNd2jV5-6qg"
      },
      "source": [
        "### Load and prepare the data"
      ]
    },
    {
      "cell_type": "code",
      "execution_count": null,
      "metadata": {
        "id": "EgbHPf85SWy8",
        "colab": {
          "base_uri": "https://localhost:8080/"
        },
        "outputId": "57537f8d-81e5-44d3-dab8-433c502aea93"
      },
      "outputs": [
        {
          "output_type": "stream",
          "name": "stdout",
          "text": [
            "Downloading data from https://storage.googleapis.com/tensorflow/tf-keras-datasets/imdb.npz\n",
            "17464789/17464789 [==============================] - 0s 0us/step\n"
          ]
        }
      ],
      "source": [
        "from tensorflow.keras.datasets import imdb\n",
        "(train_data, train_labels), (test_data, test_labels) = imdb.load_data(\n",
        "    num_words=10000)"
      ]
    },
    {
      "cell_type": "code",
      "execution_count": null,
      "metadata": {
        "colab": {
          "base_uri": "https://localhost:8080/"
        },
        "id": "Gm-ng4uVSWy9",
        "outputId": "e98a196e-1af8-4f88-9427-ca18de4bfeff"
      },
      "outputs": [
        {
          "output_type": "execute_result",
          "data": {
            "text/plain": [
              "[1,\n",
              " 14,\n",
              " 22,\n",
              " 16,\n",
              " 43,\n",
              " 530,\n",
              " 973,\n",
              " 1622,\n",
              " 1385,\n",
              " 65,\n",
              " 458,\n",
              " 4468,\n",
              " 66,\n",
              " 3941,\n",
              " 4,\n",
              " 173,\n",
              " 36,\n",
              " 256,\n",
              " 5,\n",
              " 25,\n",
              " 100,\n",
              " 43,\n",
              " 838,\n",
              " 112,\n",
              " 50,\n",
              " 670,\n",
              " 2,\n",
              " 9,\n",
              " 35,\n",
              " 480,\n",
              " 284,\n",
              " 5,\n",
              " 150,\n",
              " 4,\n",
              " 172,\n",
              " 112,\n",
              " 167,\n",
              " 2,\n",
              " 336,\n",
              " 385,\n",
              " 39,\n",
              " 4,\n",
              " 172,\n",
              " 4536,\n",
              " 1111,\n",
              " 17,\n",
              " 546,\n",
              " 38,\n",
              " 13,\n",
              " 447,\n",
              " 4,\n",
              " 192,\n",
              " 50,\n",
              " 16,\n",
              " 6,\n",
              " 147,\n",
              " 2025,\n",
              " 19,\n",
              " 14,\n",
              " 22,\n",
              " 4,\n",
              " 1920,\n",
              " 4613,\n",
              " 469,\n",
              " 4,\n",
              " 22,\n",
              " 71,\n",
              " 87,\n",
              " 12,\n",
              " 16,\n",
              " 43,\n",
              " 530,\n",
              " 38,\n",
              " 76,\n",
              " 15,\n",
              " 13,\n",
              " 1247,\n",
              " 4,\n",
              " 22,\n",
              " 17,\n",
              " 515,\n",
              " 17,\n",
              " 12,\n",
              " 16,\n",
              " 626,\n",
              " 18,\n",
              " 2,\n",
              " 5,\n",
              " 62,\n",
              " 386,\n",
              " 12,\n",
              " 8,\n",
              " 316,\n",
              " 8,\n",
              " 106,\n",
              " 5,\n",
              " 4,\n",
              " 2223,\n",
              " 5244,\n",
              " 16,\n",
              " 480,\n",
              " 66,\n",
              " 3785,\n",
              " 33,\n",
              " 4,\n",
              " 130,\n",
              " 12,\n",
              " 16,\n",
              " 38,\n",
              " 619,\n",
              " 5,\n",
              " 25,\n",
              " 124,\n",
              " 51,\n",
              " 36,\n",
              " 135,\n",
              " 48,\n",
              " 25,\n",
              " 1415,\n",
              " 33,\n",
              " 6,\n",
              " 22,\n",
              " 12,\n",
              " 215,\n",
              " 28,\n",
              " 77,\n",
              " 52,\n",
              " 5,\n",
              " 14,\n",
              " 407,\n",
              " 16,\n",
              " 82,\n",
              " 2,\n",
              " 8,\n",
              " 4,\n",
              " 107,\n",
              " 117,\n",
              " 5952,\n",
              " 15,\n",
              " 256,\n",
              " 4,\n",
              " 2,\n",
              " 7,\n",
              " 3766,\n",
              " 5,\n",
              " 723,\n",
              " 36,\n",
              " 71,\n",
              " 43,\n",
              " 530,\n",
              " 476,\n",
              " 26,\n",
              " 400,\n",
              " 317,\n",
              " 46,\n",
              " 7,\n",
              " 4,\n",
              " 2,\n",
              " 1029,\n",
              " 13,\n",
              " 104,\n",
              " 88,\n",
              " 4,\n",
              " 381,\n",
              " 15,\n",
              " 297,\n",
              " 98,\n",
              " 32,\n",
              " 2071,\n",
              " 56,\n",
              " 26,\n",
              " 141,\n",
              " 6,\n",
              " 194,\n",
              " 7486,\n",
              " 18,\n",
              " 4,\n",
              " 226,\n",
              " 22,\n",
              " 21,\n",
              " 134,\n",
              " 476,\n",
              " 26,\n",
              " 480,\n",
              " 5,\n",
              " 144,\n",
              " 30,\n",
              " 5535,\n",
              " 18,\n",
              " 51,\n",
              " 36,\n",
              " 28,\n",
              " 224,\n",
              " 92,\n",
              " 25,\n",
              " 104,\n",
              " 4,\n",
              " 226,\n",
              " 65,\n",
              " 16,\n",
              " 38,\n",
              " 1334,\n",
              " 88,\n",
              " 12,\n",
              " 16,\n",
              " 283,\n",
              " 5,\n",
              " 16,\n",
              " 4472,\n",
              " 113,\n",
              " 103,\n",
              " 32,\n",
              " 15,\n",
              " 16,\n",
              " 5345,\n",
              " 19,\n",
              " 178,\n",
              " 32]"
            ]
          },
          "metadata": {},
          "execution_count": 3
        }
      ],
      "source": [
        "train_data[0]"
      ]
    },
    {
      "cell_type": "code",
      "execution_count": null,
      "metadata": {
        "colab": {
          "base_uri": "https://localhost:8080/"
        },
        "id": "T_UQLHcbSWy9",
        "outputId": "fdc081fd-3e41-42b7-bb0e-58c93135b200"
      },
      "outputs": [
        {
          "output_type": "execute_result",
          "data": {
            "text/plain": [
              "1"
            ]
          },
          "metadata": {},
          "execution_count": 4
        }
      ],
      "source": [
        "train_labels[0]"
      ]
    },
    {
      "cell_type": "code",
      "execution_count": null,
      "metadata": {
        "colab": {
          "base_uri": "https://localhost:8080/"
        },
        "id": "OkzPHbDISWy-",
        "outputId": "f96ce04f-b119-4545-f6d9-8bd6a7022c18"
      },
      "outputs": [
        {
          "output_type": "execute_result",
          "data": {
            "text/plain": [
              "9999"
            ]
          },
          "metadata": {},
          "execution_count": 5
        }
      ],
      "source": [
        "max([max(sequence) for sequence in train_data])"
      ]
    },
    {
      "cell_type": "markdown",
      "metadata": {
        "id": "a14ENstYSWy-"
      },
      "source": [
        "### Decoding reviews back to text"
      ]
    },
    {
      "cell_type": "code",
      "execution_count": null,
      "metadata": {
        "id": "a1t1h2AgSWy-",
        "colab": {
          "base_uri": "https://localhost:8080/"
        },
        "outputId": "4c452a92-ea38-4d71-aae8-471773ccedf6"
      },
      "outputs": [
        {
          "output_type": "stream",
          "name": "stdout",
          "text": [
            "Downloading data from https://storage.googleapis.com/tensorflow/tf-keras-datasets/imdb_word_index.json\n",
            "1641221/1641221 [==============================] - 0s 0us/step\n"
          ]
        }
      ],
      "source": [
        "word_index = imdb.get_word_index()\n",
        "reverse_word_index = dict(\n",
        "    [(value, key) for (key, value) in word_index.items()])\n",
        "decoded_review = \" \".join(\n",
        "    [reverse_word_index.get(i - 3, \"\") for i in train_data[0]])\n"
      ]
    },
    {
      "cell_type": "markdown",
      "metadata": {
        "id": "w9hkDy4ESWy_"
      },
      "source": [
        "### Preparing the data"
      ]
    },
    {
      "cell_type": "markdown",
      "metadata": {
        "id": "Qjq7wFSISWy_"
      },
      "source": [
        "#### Encoding the integer sequences via multi-hot encoding"
      ]
    },
    {
      "cell_type": "code",
      "execution_count": null,
      "metadata": {
        "id": "nZD-izxWSWy_"
      },
      "outputs": [],
      "source": [
        "import numpy as np\n",
        "def vectorize_sequences(sequences, dimension=10000):\n",
        "    results = np.zeros((len(sequences), dimension))\n",
        "    for i, sequence in enumerate(sequences):\n",
        "        for j in sequence:\n",
        "            results[i, j] = 1.\n",
        "    return results\n",
        "x_train = vectorize_sequences(train_data)\n",
        "x_test = vectorize_sequences(test_data)"
      ]
    },
    {
      "cell_type": "code",
      "execution_count": null,
      "metadata": {
        "colab": {
          "base_uri": "https://localhost:8080/"
        },
        "id": "1HXEpTCfSWy_",
        "outputId": "942384c5-ad46-4270-dc14-1c7396c1d8e0"
      },
      "outputs": [
        {
          "output_type": "execute_result",
          "data": {
            "text/plain": [
              "array([0., 1., 1., ..., 0., 0., 0.])"
            ]
          },
          "metadata": {},
          "execution_count": 8
        }
      ],
      "source": [
        "x_train[0]"
      ]
    },
    {
      "cell_type": "code",
      "execution_count": null,
      "metadata": {
        "id": "RBzY7qPASWy_"
      },
      "outputs": [],
      "source": [
        "y_train = np.asarray(train_labels).astype(\"float32\")\n",
        "y_test = np.asarray(test_labels).astype(\"float32\")\n"
      ]
    },
    {
      "cell_type": "markdown",
      "metadata": {
        "id": "96PvZIXicgJu"
      },
      "source": [
        "### (OPTIONAL) TODO 2\n",
        "\n",
        "Write code to show two examples of reviews (in plain text), one labeled as _positive_, another labeled as _negative_."
      ]
    },
    {
      "cell_type": "code",
      "source": [
        "\n",
        "train_labels[1] # Negetive reviews\n",
        "\n",
        "word_index_neg = imdb.get_word_index()\n",
        "reverse_word_index_neg = dict(\n",
        "    [(value, key) for (key, value) in word_index_neg.items()])\n",
        "decoded_review_neg = \" \".join(\n",
        "    [reverse_word_index_neg.get(f - 3, \"\") for f in train_data[1]])\n",
        "\n",
        "\n",
        "print(\"Positive Label:\", decoded_review)\n",
        "print(\"Negative Label:\", decoded_review_neg)\n"
      ],
      "metadata": {
        "colab": {
          "base_uri": "https://localhost:8080/"
        },
        "id": "24QEQ6Mj-wcp",
        "outputId": "44aadffb-02f0-4cc8-98cc-884f8b40d155"
      },
      "execution_count": null,
      "outputs": [
        {
          "output_type": "stream",
          "name": "stdout",
          "text": [
            "Positive Label:  this film was just brilliant casting location scenery story direction everyone's really suited the part they played and you could just imagine being there robert  is an amazing actor and now the same being director  father came from the same scottish island as myself so i loved the fact there was a real connection with this film the witty remarks throughout the film were great it was just brilliant so much that i bought the film as soon as it was released for  and would recommend it to everyone to watch and the fly fishing was amazing really cried at the end it was so sad and you know what they say if you cry at a film it must have been good and this definitely was also  to the two little boy's that played the  of norman and paul they were just brilliant children are often left out of the  list i think because the stars that play them all grown up are such a big profile for the whole film but these children are amazing and should be praised for what they have done don't you think the whole story was so lovely because it was true and was someone's life after all that was shared with us all\n",
            "Negative Label:  big hair big boobs bad music and a giant safety pin these are the words to best describe this terrible movie i love cheesy horror movies and i've seen hundreds but this had got to be on of the worst ever made the plot is paper thin and ridiculous the acting is an abomination the script is completely laughable the best is the end showdown with the cop and how he worked out who the killer is it's just so damn terribly written the clothes are sickening and funny in equal  the hair is big lots of boobs  men wear those cut  shirts that show off their  sickening that men actually wore them and the music is just  trash that plays over and over again in almost every scene there is trashy music boobs and  taking away bodies and the gym still doesn't close for  all joking aside this is a truly bad film whose only charm is to look back on the disaster that was the 80's and have a good old laugh at how bad everything was back then\n"
          ]
        }
      ]
    },
    {
      "cell_type": "markdown",
      "metadata": {
        "id": "GxHU8-BiSWy_"
      },
      "source": [
        "### Building your model"
      ]
    },
    {
      "cell_type": "markdown",
      "metadata": {
        "id": "jv_k78mmSWy_"
      },
      "source": [
        "#### Model definition"
      ]
    },
    {
      "cell_type": "code",
      "execution_count": null,
      "metadata": {
        "id": "IQzf7F7USWzA"
      },
      "outputs": [],
      "source": [
        "from tensorflow import keras\n",
        "from tensorflow.keras import layers\n",
        "\n",
        "model = keras.Sequential([\n",
        "    layers.Dense(16, activation=\"relu\"),\n",
        "    layers.Dense(16, activation=\"relu\"),\n",
        "    layers.Dense(1, activation=\"sigmoid\")\n",
        "])"
      ]
    },
    {
      "cell_type": "markdown",
      "metadata": {
        "id": "DasM7UfASWzA"
      },
      "source": [
        "#### Compiling the model"
      ]
    },
    {
      "cell_type": "code",
      "execution_count": null,
      "metadata": {
        "id": "BWSLlZC4SWzA"
      },
      "outputs": [],
      "source": [
        "model.compile(optimizer=\"rmsprop\",\n",
        "              loss=\"binary_crossentropy\",\n",
        "              metrics=[\"accuracy\"])"
      ]
    },
    {
      "cell_type": "markdown",
      "metadata": {
        "id": "oUth-9BtSWzA"
      },
      "source": [
        "### Validating your approach"
      ]
    },
    {
      "cell_type": "markdown",
      "metadata": {
        "id": "XsEbLv3eSWzA"
      },
      "source": [
        "#### Setting aside a validation set"
      ]
    },
    {
      "cell_type": "code",
      "execution_count": null,
      "metadata": {
        "id": "CNxpNUwPSWzA"
      },
      "outputs": [],
      "source": [
        "x_val = x_train[:10000]\n",
        "partial_x_train = x_train[10000:]\n",
        "y_val = y_train[:10000]\n",
        "partial_y_train = y_train[10000:]"
      ]
    },
    {
      "cell_type": "markdown",
      "metadata": {
        "id": "A3ye0OxsSWzA"
      },
      "source": [
        "#### Training your model"
      ]
    },
    {
      "cell_type": "code",
      "execution_count": null,
      "metadata": {
        "colab": {
          "base_uri": "https://localhost:8080/"
        },
        "id": "o3rFuAH8SWzA",
        "outputId": "fed5bdec-2a57-489a-d6b0-c887afdbe41e"
      },
      "outputs": [
        {
          "output_type": "stream",
          "name": "stdout",
          "text": [
            "Epoch 1/20\n",
            "30/30 [==============================] - 3s 57ms/step - loss: 0.5326 - accuracy: 0.7627 - val_loss: 0.3889 - val_accuracy: 0.8641\n",
            "Epoch 2/20\n",
            "30/30 [==============================] - 1s 23ms/step - loss: 0.3123 - accuracy: 0.8984 - val_loss: 0.3181 - val_accuracy: 0.8752\n",
            "Epoch 3/20\n",
            "30/30 [==============================] - 1s 26ms/step - loss: 0.2356 - accuracy: 0.9196 - val_loss: 0.2967 - val_accuracy: 0.8811\n",
            "Epoch 4/20\n",
            "30/30 [==============================] - 1s 22ms/step - loss: 0.1887 - accuracy: 0.9370 - val_loss: 0.2746 - val_accuracy: 0.8884\n",
            "Epoch 5/20\n",
            "30/30 [==============================] - 1s 26ms/step - loss: 0.1573 - accuracy: 0.9471 - val_loss: 0.2789 - val_accuracy: 0.8877\n",
            "Epoch 6/20\n",
            "30/30 [==============================] - 1s 23ms/step - loss: 0.1316 - accuracy: 0.9589 - val_loss: 0.3158 - val_accuracy: 0.8751\n",
            "Epoch 7/20\n",
            "30/30 [==============================] - 1s 23ms/step - loss: 0.1175 - accuracy: 0.9631 - val_loss: 0.3043 - val_accuracy: 0.8848\n",
            "Epoch 8/20\n",
            "30/30 [==============================] - 1s 23ms/step - loss: 0.0983 - accuracy: 0.9707 - val_loss: 0.3185 - val_accuracy: 0.8806\n",
            "Epoch 9/20\n",
            "30/30 [==============================] - 1s 26ms/step - loss: 0.0848 - accuracy: 0.9751 - val_loss: 0.3393 - val_accuracy: 0.8825\n",
            "Epoch 10/20\n",
            "30/30 [==============================] - 1s 25ms/step - loss: 0.0734 - accuracy: 0.9795 - val_loss: 0.3526 - val_accuracy: 0.8766\n",
            "Epoch 11/20\n",
            "30/30 [==============================] - 1s 28ms/step - loss: 0.0648 - accuracy: 0.9823 - val_loss: 0.3698 - val_accuracy: 0.8756\n",
            "Epoch 12/20\n",
            "30/30 [==============================] - 1s 41ms/step - loss: 0.0525 - accuracy: 0.9869 - val_loss: 0.4153 - val_accuracy: 0.8756\n",
            "Epoch 13/20\n",
            "30/30 [==============================] - 1s 26ms/step - loss: 0.0458 - accuracy: 0.9898 - val_loss: 0.4133 - val_accuracy: 0.8773\n",
            "Epoch 14/20\n",
            "30/30 [==============================] - 1s 26ms/step - loss: 0.0465 - accuracy: 0.9869 - val_loss: 0.4463 - val_accuracy: 0.8737\n",
            "Epoch 15/20\n",
            "30/30 [==============================] - 1s 24ms/step - loss: 0.0314 - accuracy: 0.9947 - val_loss: 0.4556 - val_accuracy: 0.8745\n",
            "Epoch 16/20\n",
            "30/30 [==============================] - 1s 23ms/step - loss: 0.0317 - accuracy: 0.9928 - val_loss: 0.4780 - val_accuracy: 0.8720\n",
            "Epoch 17/20\n",
            "30/30 [==============================] - 1s 23ms/step - loss: 0.0240 - accuracy: 0.9958 - val_loss: 0.5050 - val_accuracy: 0.8719\n",
            "Epoch 18/20\n",
            "30/30 [==============================] - 1s 24ms/step - loss: 0.0243 - accuracy: 0.9952 - val_loss: 0.5304 - val_accuracy: 0.8718\n",
            "Epoch 19/20\n",
            "30/30 [==============================] - 1s 25ms/step - loss: 0.0212 - accuracy: 0.9957 - val_loss: 0.5508 - val_accuracy: 0.8714\n",
            "Epoch 20/20\n",
            "30/30 [==============================] - 1s 26ms/step - loss: 0.0150 - accuracy: 0.9985 - val_loss: 0.5708 - val_accuracy: 0.8699\n"
          ]
        }
      ],
      "source": [
        "history = model.fit(partial_x_train,\n",
        "                    partial_y_train,\n",
        "                    epochs=20,\n",
        "                    batch_size=512,\n",
        "                    validation_data=(x_val, y_val))"
      ]
    },
    {
      "cell_type": "code",
      "execution_count": null,
      "metadata": {
        "colab": {
          "base_uri": "https://localhost:8080/"
        },
        "id": "Z3PLDcnqSWzA",
        "outputId": "d6fbe97f-ce6f-4512-9831-bb7d6da82b54"
      },
      "outputs": [
        {
          "output_type": "execute_result",
          "data": {
            "text/plain": [
              "dict_keys(['loss', 'accuracy', 'val_loss', 'val_accuracy'])"
            ]
          },
          "metadata": {},
          "execution_count": 23
        }
      ],
      "source": [
        "history_dict = history.history\n",
        "history_dict.keys()"
      ]
    },
    {
      "cell_type": "markdown",
      "metadata": {
        "id": "mOAiUESnSWzA"
      },
      "source": [
        "#### Plotting the training and validation loss"
      ]
    },
    {
      "cell_type": "code",
      "execution_count": null,
      "metadata": {
        "colab": {
          "base_uri": "https://localhost:8080/",
          "height": 295
        },
        "id": "v8FYYH2ASWzA",
        "outputId": "e1ce6f38-e82c-4fad-bc4e-ef6e466806bc"
      },
      "outputs": [
        {
          "output_type": "display_data",
          "data": {
            "text/plain": [
              "<Figure size 432x288 with 1 Axes>"
            ],
            "image/png": "[encoded data removed]"
          },
          "metadata": {
            "needs_background": "light"
          }
        }
      ],
      "source": [
        "import matplotlib.pyplot as plt\n",
        "history_dict = history.history\n",
        "loss_values = history_dict[\"loss\"]\n",
        "val_loss_values = history_dict[\"val_loss\"]\n",
        "epochs = range(1, len(loss_values) + 1)\n",
        "plt.plot(epochs, loss_values, \"bo\", label=\"Training loss\")\n",
        "plt.plot(epochs, val_loss_values, \"b\", label=\"Validation loss\")\n",
        "plt.title(\"Training and validation loss\")\n",
        "plt.xlabel(\"Epochs\")\n",
        "plt.ylabel(\"Loss\")\n",
        "plt.legend()\n",
        "plt.show()"
      ]
    },
    {
      "cell_type": "markdown",
      "metadata": {
        "id": "Y5dKUKfOSWzA"
      },
      "source": [
        "#### Plotting the training and validation accuracy"
      ]
    },
    {
      "cell_type": "code",
      "execution_count": null,
      "metadata": {
        "colab": {
          "base_uri": "https://localhost:8080/",
          "height": 295
        },
        "id": "MyWdgytcSWzA",
        "outputId": "6a212e85-ba72-4fc8-86a7-b791f9acb761"
      },
      "outputs": [
        {
          "output_type": "display_data",
          "data": {
            "text/plain": [
              "<Figure size 432x288 with 1 Axes>"
            ],
            "image/png": "[encoded data removed]"
          },
          "metadata": {
            "needs_background": "light"
          }
        }
      ],
      "source": [
        "plt.clf()\n",
        "acc = history_dict[\"accuracy\"]\n",
        "val_acc = history_dict[\"val_accuracy\"]\n",
        "plt.plot(epochs, acc, \"bo\", label=\"Training acc\")\n",
        "plt.plot(epochs, val_acc, \"b\", label=\"Validation acc\")\n",
        "plt.title(\"Training and validation accuracy\")\n",
        "plt.xlabel(\"Epochs\")\n",
        "plt.ylabel(\"Accuracy\")\n",
        "plt.legend()\n",
        "plt.show()"
      ]
    },
    {
      "cell_type": "markdown",
      "metadata": {
        "id": "lJetC7rA36VT"
      },
      "source": [
        "### (OPTIONAL) TODO 3\n",
        "\n",
        "Write code to display 2 cases (one false positive, one false negative) where the classifier makes mistakes. Make sure to display both the true value as well as the predicted value.\n",
        "\n",
        "Comment on the mistakes and what you believe might have caused each of them.\n"
      ]
    },
    {
      "cell_type": "code",
      "source": [
        "predicted = model.predict(x_val)\n",
        "\n",
        "pred = y_val\n",
        "\n",
        "wrong = [i for i in range(len(pred)) if pred[i] != predicted[i]]\n",
        "\n",
        "print('Network classified the following', len(wrong), 'test inputs incorrectly:')\n",
        "misclassifications = [predicted[i] for i in wrong]\n",
        "print(\"The two predicted values are\")\n",
        "print(misclassifications[:2])\n",
        "print(\"The two truth values are\")\n",
        "print(predicted[:2])\n"
      ],
      "metadata": {
        "colab": {
          "base_uri": "https://localhost:8080/"
        },
        "id": "EHGcw69pRm14",
        "outputId": "1bc1d605-4285-4ece-e7ea-5445679bacdb"
      },
      "execution_count": null,
      "outputs": [
        {
          "output_type": "stream",
          "name": "stdout",
          "text": [
            "313/313 [==============================] - 1s 4ms/step\n",
            "Network classified the following 9470 test inputs incorrectly:\n",
            "The two predicted values are\n",
            "[array([0.9999949], dtype=float32), array([9.2162474e-05], dtype=float32)]\n",
            "The two truth values are\n",
            "[[9.9999487e-01]\n",
            " [9.2162474e-05]]\n"
          ]
        }
      ]
    },
    {
      "cell_type": "markdown",
      "metadata": {
        "id": "dmlYOsbMxY-d"
      },
      "source": [
        "### (OPTIONAL) TODO 4\n",
        "\n",
        "Write code to try different combinations of:\n",
        "- numbers of hidden layers and units per layer\n",
        "- loss functions\n",
        "- activation functions\n",
        "\n",
        "Please refrain from using better architectures (RNN, LSTM, etc.) and \"advanced\" techniques to curb overfitting (e.g., dropout, batch normalization, weight regularization, etc.)"
      ]
    },
    {
      "cell_type": "markdown",
      "source": [
        "**I have used here a different structured model than the actual one. I have reduced one hidden layer and changed the optimizer from \"rmsprop\" to \"adam\". Now the result varies a bit but not tremendously. We can also see the overfitting here. Please find the attached images below for loss and accuracy.**"
      ],
      "metadata": {
        "id": "liIpASAcflg5"
      }
    },
    {
      "cell_type": "code",
      "source": [
        "from tensorflow import keras\n",
        "from tensorflow.keras import layers\n",
        "\n",
        "\n",
        "model = keras.Sequential([\n",
        "    layers.Dense(16, activation=\"relu\"),\n",
        "    layers.Dense(1, activation=\"sigmoid\")\n",
        "])\n",
        "\n",
        "model.compile(optimizer=\"adam\",\n",
        "              loss=\"binary_crossentropy\",\n",
        "              metrics=[\"accuracy\"])"
      ],
      "metadata": {
        "id": "msLVuYgwYsD6"
      },
      "execution_count": null,
      "outputs": []
    },
    {
      "cell_type": "markdown",
      "source": [
        "![index.png](data:image/png;base64,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)\n",
        "\n",
        "![index2.png](data:image/png;base64,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)"
      ],
      "metadata": {
        "id": "1gDKiwsMfVBj"
      }
    },
    {
      "cell_type": "markdown",
      "metadata": {
        "id": "DC8hWwWXSWzB"
      },
      "source": [
        "### Retraining a model from scratch"
      ]
    },
    {
      "cell_type": "code",
      "execution_count": null,
      "metadata": {
        "colab": {
          "base_uri": "https://localhost:8080/"
        },
        "id": "weIyYseLSWzB",
        "outputId": "cc769fc6-2903-4084-9b0c-7257ffc3cb49"
      },
      "outputs": [
        {
          "output_type": "stream",
          "name": "stdout",
          "text": [
            "Epoch 1/4\n",
            "49/49 [==============================] - 2s 16ms/step - loss: 0.4593 - accuracy: 0.8138\n",
            "Epoch 2/4\n",
            "49/49 [==============================] - 1s 15ms/step - loss: 0.2697 - accuracy: 0.9038\n",
            "Epoch 3/4\n",
            "49/49 [==============================] - 1s 15ms/step - loss: 0.2114 - accuracy: 0.9235\n",
            "Epoch 4/4\n",
            "49/49 [==============================] - 1s 14ms/step - loss: 0.1817 - accuracy: 0.9347\n",
            "782/782 [==============================] - 3s 4ms/step - loss: 0.2882 - accuracy: 0.8864\n"
          ]
        }
      ],
      "source": [
        "model = keras.Sequential([\n",
        "    layers.Dense(16, activation=\"relu\"),\n",
        "    layers.Dense(16, activation=\"relu\"),\n",
        "    layers.Dense(1, activation=\"sigmoid\")\n",
        "])\n",
        "model.compile(optimizer=\"rmsprop\",\n",
        "              loss=\"binary_crossentropy\",\n",
        "              metrics=[\"accuracy\"])\n",
        "model.fit(x_train, y_train, epochs=4, batch_size=512)\n",
        "results = model.evaluate(x_test, y_test)"
      ]
    },
    {
      "cell_type": "code",
      "execution_count": null,
      "metadata": {
        "id": "EqY1f04mSWzB"
      },
      "outputs": [],
      "source": []
    },
    {
      "cell_type": "markdown",
      "metadata": {
        "id": "3D46qt5-SWzB"
      },
      "source": [
        "### Using a trained model to generate predictions on new data"
      ]
    },
    {
      "cell_type": "code",
      "execution_count": null,
      "metadata": {
        "colab": {
          "base_uri": "https://localhost:8080/"
        },
        "id": "ikqtBwDHSWzB",
        "outputId": "f7246f9e-64b0-42ef-fb32-e135b936a5ca"
      },
      "outputs": [
        {
          "output_type": "stream",
          "name": "stdout",
          "text": [
            "782/782 [==============================] - 2s 3ms/step\n"
          ]
        },
        {
          "output_type": "execute_result",
          "data": {
            "text/plain": [
              "array([[0.21967764],\n",
              "       [0.9999058 ],\n",
              "       [0.8199144 ],\n",
              "       ...,\n",
              "       [0.10669003],\n",
              "       [0.06995127],\n",
              "       [0.6334424 ]], dtype=float32)"
            ]
          },
          "metadata": {},
          "execution_count": 23
        }
      ],
      "source": [
        "model.predict(x_test)"
      ]
    },
    {
      "cell_type": "markdown",
      "metadata": {
        "id": "C15mmBXeW3ZG"
      },
      "source": [
        "## PART 2 - Multiclass classification of newswires using the Reuters dataset\n",
        "\n",
        "Once again, we will start with a simple solution using a fully-connected neural network architecture."
      ]
    },
    {
      "cell_type": "markdown",
      "source": [
        "### **Answer for Part 2 Questions**"
      ],
      "metadata": {
        "id": "5u_9tjWWfDsu"
      }
    },
    {
      "cell_type": "markdown",
      "source": [
        "**(1) What type of preprocessing was applied to the raw input data? Why was it necessary to do so?**\n",
        "\n",
        "**Answer:** In this Multi-class classification problem, one-hot encoding was applied to the raw input data. To vectorize the labels, One-hot encoding is a widely used format for categorical data, also called categorical encoding. In this case, one-hot encoding of the labels consists of embedding each label as an all-zero vector with a 1 in place of the label index.\n",
        "\n",
        "We can’t directly feed lists of integers into a neural network. They all have different lengths, but a neural network expects to process contiguous batches of data. Thats why we vectorized the data here.\n",
        "\n",
        "**(2) How many categories are there in this case?**\n",
        "\n",
        "**Answer:** We have a total of 46 categories in this classification problem. Because we have 46 classes, this problem is an instance of multiclass classification, and because each data point should be classified into only one category, the problem is more specifically an instance of single-label multiclass classification.\n",
        "\n",
        "**(3) Does your model suffer from overfitting? If so, what would you suggest doing about it?**\n",
        "\n",
        "**Answer:** This model also suffers from overfitting like the previous example of the binary classification problem. We can see the training loss decrease gradually but the validation loss goes up after 9 epochs and begins to overfit. To get rid of the overfitting we can follow the previous solution such as stopping the training process after 9 epochs. In addition, adding more layers and using different loss functions and activators may impact the training process and can reduce the chances of overfitting.\n",
        "\n",
        "**(4) Is accuracy a good metric of success in this case? Why (not)?**\n",
        "\n",
        "**Answer:** Accuracy is one of the most popular metrics in multi-class classification problems and it is directly computed from the confusion matrix. Also, the accuracy works with both type 1 and type 2 errors. Additionally, Accuracy works on the balanced dataset and here we have 10 examples from each of the 46 categories. In this case, our dataset is a balanced one and the task is a multi-class classification problem, I would say that accuracy is a good metric for this problem."
      ],
      "metadata": {
        "id": "NpTW_FdSfGFI"
      }
    },
    {
      "cell_type": "markdown",
      "metadata": {
        "id": "mlFE0npdxh6j"
      },
      "source": [
        "### The Reuters dataset"
      ]
    },
    {
      "cell_type": "markdown",
      "metadata": {
        "id": "2rlaaGT5xh6j"
      },
      "source": [
        "#### Loading the Reuters dataset"
      ]
    },
    {
      "cell_type": "code",
      "execution_count": null,
      "metadata": {
        "id": "mF_v9mnCxh6k",
        "colab": {
          "base_uri": "https://localhost:8080/"
        },
        "outputId": "48e4ebe9-894d-4cd1-b363-9383c5c4481e"
      },
      "outputs": [
        {
          "output_type": "stream",
          "name": "stdout",
          "text": [
            "Downloading data from https://storage.googleapis.com/tensorflow/tf-keras-datasets/reuters.npz\n",
            "2110848/2110848 [==============================] - 0s 0us/step\n"
          ]
        }
      ],
      "source": [
        "from tensorflow.keras.datasets import reuters\n",
        "(train_data, train_labels), (test_data, test_labels) = reuters.load_data(\n",
        "    num_words=10000)"
      ]
    },
    {
      "cell_type": "code",
      "execution_count": null,
      "metadata": {
        "colab": {
          "base_uri": "https://localhost:8080/"
        },
        "id": "a9HDPrTzxh6k",
        "outputId": "80de4ffd-9330-4547-a3cf-22d73c0bcfd9"
      },
      "outputs": [
        {
          "output_type": "execute_result",
          "data": {
            "text/plain": [
              "8982"
            ]
          },
          "metadata": {},
          "execution_count": 33
        }
      ],
      "source": [
        "len(train_data)"
      ]
    },
    {
      "cell_type": "code",
      "execution_count": null,
      "metadata": {
        "colab": {
          "base_uri": "https://localhost:8080/"
        },
        "id": "chhwyrjsxh6k",
        "outputId": "4e530948-4513-42c3-a8dd-12b5f07a1c6c"
      },
      "outputs": [
        {
          "output_type": "execute_result",
          "data": {
            "text/plain": [
              "2246"
            ]
          },
          "metadata": {},
          "execution_count": 34
        }
      ],
      "source": [
        "len(test_data)"
      ]
    },
    {
      "cell_type": "code",
      "execution_count": null,
      "metadata": {
        "colab": {
          "base_uri": "https://localhost:8080/"
        },
        "id": "6MLEiOe6xh6k",
        "outputId": "3d96eae1-9256-4235-b268-98adfbf058be"
      },
      "outputs": [
        {
          "output_type": "execute_result",
          "data": {
            "text/plain": [
              "[1,\n",
              " 245,\n",
              " 273,\n",
              " 207,\n",
              " 156,\n",
              " 53,\n",
              " 74,\n",
              " 160,\n",
              " 26,\n",
              " 14,\n",
              " 46,\n",
              " 296,\n",
              " 26,\n",
              " 39,\n",
              " 74,\n",
              " 2979,\n",
              " 3554,\n",
              " 14,\n",
              " 46,\n",
              " 4689,\n",
              " 4329,\n",
              " 86,\n",
              " 61,\n",
              " 3499,\n",
              " 4795,\n",
              " 14,\n",
              " 61,\n",
              " 451,\n",
              " 4329,\n",
              " 17,\n",
              " 12]"
            ]
          },
          "metadata": {},
          "execution_count": 35
        }
      ],
      "source": [
        "train_data[10]"
      ]
    },
    {
      "cell_type": "markdown",
      "metadata": {
        "id": "ndgmqtEpxh6k"
      },
      "source": [
        "#### Decoding newswires back to text"
      ]
    },
    {
      "cell_type": "code",
      "execution_count": null,
      "metadata": {
        "id": "ldaiUmBGxh6k",
        "colab": {
          "base_uri": "https://localhost:8080/"
        },
        "outputId": "06b75181-a493-4d18-bc42-cf19f98be7d6"
      },
      "outputs": [
        {
          "output_type": "stream",
          "name": "stdout",
          "text": [
            "Downloading data from https://storage.googleapis.com/tensorflow/tf-keras-datasets/reuters_word_index.json\n",
            "550378/550378 [==============================] - 0s 0us/step\n"
          ]
        }
      ],
      "source": [
        "word_index = reuters.get_word_index()\n",
        "reverse_word_index = dict([(value, key) for (key, value) in word_index.items()])\n",
        "decoded_newswire = \" \".join([reverse_word_index.get(i - 3, \"?\") for i in\n",
        "    train_data[0]])"
      ]
    },
    {
      "cell_type": "code",
      "execution_count": null,
      "metadata": {
        "colab": {
          "base_uri": "https://localhost:8080/"
        },
        "id": "2-khNfkkxh6k",
        "outputId": "ea68349f-3f0d-42b0-d238-a39c3bda3c8c"
      },
      "outputs": [
        {
          "output_type": "execute_result",
          "data": {
            "text/plain": [
              "3"
            ]
          },
          "metadata": {},
          "execution_count": 37
        }
      ],
      "source": [
        "train_labels[10]"
      ]
    },
    {
      "cell_type": "markdown",
      "metadata": {
        "id": "4WwJMB6Gxh6k"
      },
      "source": [
        "### Preparing the data"
      ]
    },
    {
      "cell_type": "markdown",
      "metadata": {
        "id": "yMs-iTejxh6k"
      },
      "source": [
        "#### Encoding the input data"
      ]
    },
    {
      "cell_type": "code",
      "execution_count": null,
      "metadata": {
        "id": "zds63peXxh6k"
      },
      "outputs": [],
      "source": [
        "x_train = vectorize_sequences(train_data)\n",
        "x_test = vectorize_sequences(test_data)"
      ]
    },
    {
      "cell_type": "markdown",
      "metadata": {
        "id": "6bncEBgYxh6k"
      },
      "source": [
        "#### Encoding the labels"
      ]
    },
    {
      "cell_type": "code",
      "execution_count": null,
      "metadata": {
        "id": "srqpJ7ggxh6k"
      },
      "outputs": [],
      "source": [
        "def to_one_hot(labels, dimension=46):\n",
        "    results = np.zeros((len(labels), dimension))\n",
        "    for i, label in enumerate(labels):\n",
        "        results[i, label] = 1.\n",
        "    return results\n",
        "y_train = to_one_hot(train_labels)\n",
        "y_test = to_one_hot(test_labels)"
      ]
    },
    {
      "cell_type": "code",
      "execution_count": null,
      "metadata": {
        "id": "oXv_Du2vxh6k"
      },
      "outputs": [],
      "source": [
        "from tensorflow.keras.utils import to_categorical\n",
        "y_train = to_categorical(train_labels)\n",
        "y_test = to_categorical(test_labels)"
      ]
    },
    {
      "cell_type": "markdown",
      "metadata": {
        "id": "5R4pX8KLxh6k"
      },
      "source": [
        "### Building your model"
      ]
    },
    {
      "cell_type": "markdown",
      "metadata": {
        "id": "uGU5Ex_gxh6k"
      },
      "source": [
        "#### Model definition"
      ]
    },
    {
      "cell_type": "code",
      "execution_count": null,
      "metadata": {
        "id": "lSeVv-voxh6k"
      },
      "outputs": [],
      "source": [
        "model = keras.Sequential([\n",
        "    layers.Dense(64, activation=\"relu\"),\n",
        "    layers.Dense(64, activation=\"relu\"),\n",
        "    layers.Dense(46, activation=\"softmax\")\n",
        "])"
      ]
    },
    {
      "cell_type": "markdown",
      "metadata": {
        "id": "Hg1Y1SpMxh6k"
      },
      "source": [
        "#### Compiling the model"
      ]
    },
    {
      "cell_type": "code",
      "execution_count": null,
      "metadata": {
        "id": "EInD8W2axh6k"
      },
      "outputs": [],
      "source": [
        "model.compile(optimizer=\"rmsprop\",\n",
        "              loss=\"categorical_crossentropy\",\n",
        "              metrics=[\"accuracy\"])"
      ]
    },
    {
      "cell_type": "markdown",
      "metadata": {
        "id": "NaBg251Axh6k"
      },
      "source": [
        "### Validating your approach"
      ]
    },
    {
      "cell_type": "markdown",
      "metadata": {
        "id": "s74Gi5vvxh6k"
      },
      "source": [
        "#### Setting aside a validation set"
      ]
    },
    {
      "cell_type": "code",
      "execution_count": null,
      "metadata": {
        "id": "OjMkDhn-xh6k"
      },
      "outputs": [],
      "source": [
        "x_val = x_train[:1000]\n",
        "partial_x_train = x_train[1000:]\n",
        "y_val = y_train[:1000]\n",
        "partial_y_train = y_train[1000:]"
      ]
    },
    {
      "cell_type": "markdown",
      "metadata": {
        "id": "0eOTJNH_xh6k"
      },
      "source": [
        "#### Training the model"
      ]
    },
    {
      "cell_type": "code",
      "execution_count": null,
      "metadata": {
        "colab": {
          "base_uri": "https://localhost:8080/"
        },
        "id": "-B2WgrGZxh6l",
        "outputId": "08ef0713-5515-440e-fcd3-5ae064ffaf95"
      },
      "outputs": [
        {
          "output_type": "stream",
          "name": "stdout",
          "text": [
            "Epoch 1/20\n",
            "16/16 [==============================] - 2s 43ms/step - loss: 2.6560 - accuracy: 0.4876 - val_loss: 1.8070 - val_accuracy: 0.6160\n",
            "Epoch 2/20\n",
            "16/16 [==============================] - 0s 22ms/step - loss: 1.5300 - accuracy: 0.6879 - val_loss: 1.4055 - val_accuracy: 0.6850\n",
            "Epoch 3/20\n",
            "16/16 [==============================] - 0s 22ms/step - loss: 1.1856 - accuracy: 0.7471 - val_loss: 1.2096 - val_accuracy: 0.7370\n",
            "Epoch 4/20\n",
            "16/16 [==============================] - 0s 26ms/step - loss: 0.9683 - accuracy: 0.7874 - val_loss: 1.0825 - val_accuracy: 0.7600\n",
            "Epoch 5/20\n",
            "16/16 [==============================] - 0s 27ms/step - loss: 0.8005 - accuracy: 0.8259 - val_loss: 1.0151 - val_accuracy: 0.7770\n",
            "Epoch 6/20\n",
            "16/16 [==============================] - 0s 22ms/step - loss: 0.6623 - accuracy: 0.8594 - val_loss: 0.9428 - val_accuracy: 0.7970\n",
            "Epoch 7/20\n",
            "16/16 [==============================] - 0s 23ms/step - loss: 0.5521 - accuracy: 0.8834 - val_loss: 0.9399 - val_accuracy: 0.7990\n",
            "Epoch 8/20\n",
            "16/16 [==============================] - 0s 23ms/step - loss: 0.4602 - accuracy: 0.9023 - val_loss: 0.8938 - val_accuracy: 0.8070\n",
            "Epoch 9/20\n",
            "16/16 [==============================] - 0s 20ms/step - loss: 0.3923 - accuracy: 0.9184 - val_loss: 0.8669 - val_accuracy: 0.8160\n",
            "Epoch 10/20\n",
            "16/16 [==============================] - 0s 20ms/step - loss: 0.3329 - accuracy: 0.9290 - val_loss: 0.8826 - val_accuracy: 0.8150\n",
            "Epoch 11/20\n",
            "16/16 [==============================] - 0s 24ms/step - loss: 0.2842 - accuracy: 0.9376 - val_loss: 0.8613 - val_accuracy: 0.8220\n",
            "Epoch 12/20\n",
            "16/16 [==============================] - 0s 18ms/step - loss: 0.2476 - accuracy: 0.9442 - val_loss: 0.8760 - val_accuracy: 0.8190\n",
            "Epoch 13/20\n",
            "16/16 [==============================] - 0s 17ms/step - loss: 0.2198 - accuracy: 0.9468 - val_loss: 0.8913 - val_accuracy: 0.8150\n",
            "Epoch 14/20\n",
            "16/16 [==============================] - 0s 16ms/step - loss: 0.2020 - accuracy: 0.9491 - val_loss: 0.8744 - val_accuracy: 0.8250\n",
            "Epoch 15/20\n",
            "16/16 [==============================] - 0s 21ms/step - loss: 0.1804 - accuracy: 0.9506 - val_loss: 0.8930 - val_accuracy: 0.8140\n",
            "Epoch 16/20\n",
            "16/16 [==============================] - 0s 20ms/step - loss: 0.1658 - accuracy: 0.9529 - val_loss: 0.9030 - val_accuracy: 0.8140\n",
            "Epoch 17/20\n",
            "16/16 [==============================] - 0s 17ms/step - loss: 0.1579 - accuracy: 0.9536 - val_loss: 0.8958 - val_accuracy: 0.8180\n",
            "Epoch 18/20\n",
            "16/16 [==============================] - 0s 18ms/step - loss: 0.1447 - accuracy: 0.9554 - val_loss: 0.9255 - val_accuracy: 0.8080\n",
            "Epoch 19/20\n",
            "16/16 [==============================] - 0s 17ms/step - loss: 0.1410 - accuracy: 0.9554 - val_loss: 0.9236 - val_accuracy: 0.8150\n",
            "Epoch 20/20\n",
            "16/16 [==============================] - 0s 18ms/step - loss: 0.1327 - accuracy: 0.9564 - val_loss: 0.9277 - val_accuracy: 0.8190\n"
          ]
        }
      ],
      "source": [
        "history = model.fit(partial_x_train,\n",
        "                    partial_y_train,\n",
        "                    epochs=20,\n",
        "                    batch_size=512,\n",
        "                    validation_data=(x_val, y_val))"
      ]
    },
    {
      "cell_type": "markdown",
      "metadata": {
        "id": "Pic3C9saxh6l"
      },
      "source": [
        "#### Plotting the training and validation loss"
      ]
    },
    {
      "cell_type": "code",
      "execution_count": null,
      "metadata": {
        "colab": {
          "base_uri": "https://localhost:8080/",
          "height": 295
        },
        "id": "6YiutR18xh6l",
        "outputId": "4d35402f-7b28-421c-c904-8e16deb251b9"
      },
      "outputs": [
        {
          "output_type": "display_data",
          "data": {
            "text/plain": [
              "<Figure size 432x288 with 1 Axes>"
            ],
            "image/png": "[encoded data removed]"
          },
          "metadata": {
            "needs_background": "light"
          }
        }
      ],
      "source": [
        "loss = history.history[\"loss\"]\n",
        "val_loss = history.history[\"val_loss\"]\n",
        "epochs = range(1, len(loss) + 1)\n",
        "plt.plot(epochs, loss, \"bo\", label=\"Training loss\")\n",
        "plt.plot(epochs, val_loss, \"b\", label=\"Validation loss\")\n",
        "plt.title(\"Training and validation loss\")\n",
        "plt.xlabel(\"Epochs\")\n",
        "plt.ylabel(\"Loss\")\n",
        "plt.legend()\n",
        "plt.show()"
      ]
    },
    {
      "cell_type": "markdown",
      "metadata": {
        "id": "9JmGj8BQxh6l"
      },
      "source": [
        "#### Plotting the training and validation accuracy"
      ]
    },
    {
      "cell_type": "code",
      "execution_count": null,
      "metadata": {
        "colab": {
          "base_uri": "https://localhost:8080/",
          "height": 295
        },
        "id": "qRJH4bWjxh6l",
        "outputId": "9d8c138a-38f3-4465-d2ac-f4abb419688a"
      },
      "outputs": [
        {
          "output_type": "display_data",
          "data": {
            "text/plain": [
              "<Figure size 432x288 with 1 Axes>"
            ],
            "image/png": "[encoded data removed]"
          },
          "metadata": {
            "needs_background": "light"
          }
        }
      ],
      "source": [
        "plt.clf()\n",
        "acc = history.history[\"accuracy\"]\n",
        "val_acc = history.history[\"val_accuracy\"]\n",
        "plt.plot(epochs, acc, \"bo\", label=\"Training accuracy\")\n",
        "plt.plot(epochs, val_acc, \"b\", label=\"Validation accuracy\")\n",
        "plt.title(\"Training and validation accuracy\")\n",
        "plt.xlabel(\"Epochs\")\n",
        "plt.ylabel(\"Accuracy\")\n",
        "plt.legend()\n",
        "plt.show()"
      ]
    },
    {
      "cell_type": "markdown",
      "metadata": {
        "id": "84mqw1BAy2wa"
      },
      "source": [
        "### (OPTIONAL) TODO 5\n",
        "\n",
        "Write code to try different combinations of:\n",
        "- numbers of hidden layers and units per layer\n",
        "\n",
        "Please refrain from using better architectures and \"advanced\" techniques to curb overfitting (e.g., dropout, batch normalization, weight regularization, etc.)"
      ]
    },
    {
      "cell_type": "markdown",
      "source": [
        "**This time I have added two extra dense layers with 64 neurons and a \"relu\" activator. Changed the optimizer from \"rmsprop\" to \"adam\" and also used mean_squared_error as a loss function. Now the model shows much better performance. Please find the attched accuracy and loss plots below**"
      ],
      "metadata": {
        "id": "BSjegmqDhr_x"
      }
    },
    {
      "cell_type": "code",
      "source": [
        "model = keras.Sequential([\n",
        "    layers.Dense(64, activation=\"relu\"),\n",
        "    layers.Dense(64, activation=\"relu\"),\n",
        "    layers.Dense(64, activation=\"relu\"),\n",
        "    layers.Dense(64, activation=\"relu\"),\n",
        "    layers.Dense(46, activation=\"softmax\")\n",
        "])\n",
        "\n",
        "model.compile(optimizer=\"adam\",\n",
        "              loss=\"mean_squared_error\",\n",
        "              metrics=[\"accuracy\"])"
      ],
      "metadata": {
        "id": "bm6gmSr-hE14"
      },
      "execution_count": null,
      "outputs": []
    },
    {
      "cell_type": "markdown",
      "source": [
        "![index.png](data:image/png;base64,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)\n",
        "\n",
        "![index1.png](data:image/png;base64,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)"
      ],
      "metadata": {
        "id": "1ytPtC1JjDqM"
      }
    },
    {
      "cell_type": "markdown",
      "metadata": {
        "id": "UYlIZAhOxh6l"
      },
      "source": [
        "### Retraining a model from scratch"
      ]
    },
    {
      "cell_type": "code",
      "execution_count": null,
      "metadata": {
        "colab": {
          "base_uri": "https://localhost:8080/"
        },
        "id": "Ijowt_xKxh6l",
        "outputId": "64359b61-e7ff-40f0-8351-d3c358c32891"
      },
      "outputs": [
        {
          "output_type": "stream",
          "name": "stdout",
          "text": [
            "Epoch 1/9\n",
            "18/18 [==============================] - 1s 14ms/step - loss: 2.6136 - accuracy: 0.5029\n",
            "Epoch 2/9\n",
            "18/18 [==============================] - 0s 17ms/step - loss: 1.4814 - accuracy: 0.6839\n",
            "Epoch 3/9\n",
            "18/18 [==============================] - 0s 21ms/step - loss: 1.1243 - accuracy: 0.7517\n",
            "Epoch 4/9\n",
            "18/18 [==============================] - 0s 14ms/step - loss: 0.9040 - accuracy: 0.8062\n",
            "Epoch 5/9\n",
            "18/18 [==============================] - 0s 18ms/step - loss: 0.7435 - accuracy: 0.8402\n",
            "Epoch 6/9\n",
            "18/18 [==============================] - 0s 27ms/step - loss: 0.6081 - accuracy: 0.8754\n",
            "Epoch 7/9\n",
            "18/18 [==============================] - 0s 17ms/step - loss: 0.4986 - accuracy: 0.8987\n",
            "Epoch 8/9\n",
            "18/18 [==============================] - 0s 17ms/step - loss: 0.4217 - accuracy: 0.9155\n",
            "Epoch 9/9\n",
            "18/18 [==============================] - 0s 16ms/step - loss: 0.3520 - accuracy: 0.9289\n",
            "71/71 [==============================] - 0s 3ms/step - loss: 0.9124 - accuracy: 0.7916\n"
          ]
        }
      ],
      "source": [
        "model = keras.Sequential([\n",
        "  layers.Dense(64, activation=\"relu\"),\n",
        "  layers.Dense(64, activation=\"relu\"),\n",
        "  layers.Dense(46, activation=\"softmax\")\n",
        "])\n",
        "model.compile(optimizer=\"rmsprop\",\n",
        "              loss=\"categorical_crossentropy\",\n",
        "              metrics=[\"accuracy\"])\n",
        "model.fit(x_train,\n",
        "          y_train,\n",
        "          epochs=9,\n",
        "          batch_size=512)\n",
        "results = model.evaluate(x_test, y_test)"
      ]
    },
    {
      "cell_type": "code",
      "execution_count": null,
      "metadata": {
        "colab": {
          "base_uri": "https://localhost:8080/"
        },
        "id": "kAIVUZb6xh6l",
        "outputId": "d328fd15-4fa9-4e63-f647-f56c860997c9"
      },
      "outputs": [
        {
          "output_type": "execute_result",
          "data": {
            "text/plain": [
              "[0.9123827815055847, 0.7916295528411865]"
            ]
          },
          "metadata": {},
          "execution_count": 48
        }
      ],
      "source": [
        "results"
      ]
    },
    {
      "cell_type": "code",
      "execution_count": null,
      "metadata": {
        "colab": {
          "base_uri": "https://localhost:8080/"
        },
        "id": "HX4pyH29xh6l",
        "outputId": "20e830eb-a643-4ade-c7a7-d0a61359dac6"
      },
      "outputs": [
        {
          "output_type": "execute_result",
          "data": {
            "text/plain": [
              "0.17764915405164738"
            ]
          },
          "metadata": {},
          "execution_count": 49
        }
      ],
      "source": [
        "import copy\n",
        "test_labels_copy = copy.copy(test_labels)\n",
        "np.random.shuffle(test_labels_copy)\n",
        "hits_array = np.array(test_labels) == np.array(test_labels_copy)\n",
        "hits_array.mean()"
      ]
    },
    {
      "cell_type": "markdown",
      "metadata": {
        "id": "l3dqoSqLxh6l"
      },
      "source": [
        "### Generating predictions on new data"
      ]
    },
    {
      "cell_type": "code",
      "execution_count": null,
      "metadata": {
        "colab": {
          "base_uri": "https://localhost:8080/"
        },
        "id": "uYgeNbuqtyXm",
        "outputId": "4fc54c01-3f2d-4f49-f327-ed741b5399ec"
      },
      "outputs": [
        {
          "output_type": "stream",
          "name": "stdout",
          "text": [
            "71/71 [==============================] - 0s 2ms/step\n"
          ]
        }
      ],
      "source": [
        "predictions = model.predict(x_test)"
      ]
    },
    {
      "cell_type": "code",
      "execution_count": null,
      "metadata": {
        "colab": {
          "base_uri": "https://localhost:8080/"
        },
        "id": "wmT-HLN-tyXn",
        "outputId": "506370b5-f63f-48f4-bd03-46c1556b7e9b"
      },
      "outputs": [
        {
          "output_type": "execute_result",
          "data": {
            "text/plain": [
              "(46,)"
            ]
          },
          "metadata": {},
          "execution_count": 51
        }
      ],
      "source": [
        "predictions[0].shape"
      ]
    },
    {
      "cell_type": "code",
      "execution_count": null,
      "metadata": {
        "colab": {
          "base_uri": "https://localhost:8080/"
        },
        "id": "HRZlehzityXp",
        "outputId": "2d8939c8-cdef-439d-d4b9-42285215764d"
      },
      "outputs": [
        {
          "output_type": "execute_result",
          "data": {
            "text/plain": [
              "0.9999998"
            ]
          },
          "metadata": {},
          "execution_count": 52
        }
      ],
      "source": [
        "np.sum(predictions[0])"
      ]
    },
    {
      "cell_type": "code",
      "execution_count": null,
      "metadata": {
        "colab": {
          "base_uri": "https://localhost:8080/"
        },
        "id": "YpKyKUaAtyXp",
        "outputId": "cc97b132-836f-4ce9-d6d1-dc248791c707"
      },
      "outputs": [
        {
          "output_type": "execute_result",
          "data": {
            "text/plain": [
              "3"
            ]
          },
          "metadata": {},
          "execution_count": 53
        }
      ],
      "source": [
        "np.argmax(predictions[0])"
      ]
    },
    {
      "cell_type": "markdown",
      "metadata": {
        "id": "fl1SvjrIxh6m"
      },
      "source": [
        "## PART 3 - Regression for house price estimation using the Boston Housing Price dataset"
      ]
    },
    {
      "cell_type": "markdown",
      "source": [
        "### **Answer for Part 3 Questions**"
      ],
      "metadata": {
        "id": "mbg5xe6b4jEm"
      }
    },
    {
      "cell_type": "markdown",
      "source": [
        "**(1) What type of preprocessing was applied to the raw input data? Why was it necessary to do so?**\n",
        "\n",
        "**Answer:** In this regression problem we used another type of data preprocessing technique which is called Normalization. Data normalization is a process where for each feature in the input data (a column in the input data matrix), we subtract the mean of the feature and divide by the standard deviation, so that the feature is centered around 0 and has a unit standard deviation.\n",
        "\n",
        "It is necessary cause It would be problematic to feed into a neural network values that all take wildly different ranges. The model might be able to automatically adapt to such heterogeneous data, but it would definitely make learning process more difficult. Thats why we used normalization for our input data.\n",
        "\n",
        "**2) Why is this problem a case of regression (rather than classification)?**\n",
        "\n",
        "**Answer:** This problem we dont need to define or make label of the given data. We need to predict rather than classify. This problem we need to predict the house price of Boston depending on its 13 features. Which consists of predicting a continuous value instead of a discrete label. Thats why this is a regression problem not a classification problem.\n",
        "\n",
        "**3) Does your model suffer from overfitting? If so, what would you suggest doing about it?**\n",
        "\n",
        "**Answer:** We can see that the model starts suffering for overfitting after 120–140 epochs as well as the validation MAE stops improving significantly **(this number includes the 10 epochs we omitted)**.\n",
        "\n",
        "To get rid of this issue we can adjust the number of epoch. We can also tune the parameter and can adjust the size of the intermediate layers. In our text book we can see that after adjusting the parameters to pochs=130, batch_size=16, verbose=0, the model imporved a bit.\n",
        "\n",
        "**(4) Is mean absolute error (MAE) a good metric of success in this case? Why (not)?**\n",
        "\n",
        "**Answer:** The MAE score is calculated as the average of the absolute error values. The difference between an expected and predicted value may be positive or negative and is forced to be positive when calculating the MAE. In this regression model, we predicted the house price based on 13 numeric features. And MAE gave us how well our model performed. So it tells about the difference of what is the actual price and what is the predicted price by the regression model, which clearly depicts the performance of the model. That's why I can say that in our regression model, MAE shows the error very reasonably and it can be a good metric of success.\n"
      ],
      "metadata": {
        "id": "0-_58NqE4kzR"
      }
    },
    {
      "cell_type": "markdown",
      "metadata": {
        "id": "OxNY2Tttxh6m"
      },
      "source": [
        "### The Boston Housing Price dataset"
      ]
    },
    {
      "cell_type": "markdown",
      "metadata": {
        "id": "xH8hygQBxh6m"
      },
      "source": [
        "#### Loading the Boston housing dataset"
      ]
    },
    {
      "cell_type": "code",
      "execution_count": null,
      "metadata": {
        "id": "Bw_cuN9_xh6m"
      },
      "outputs": [],
      "source": [
        "from tensorflow.keras.datasets import boston_housing\n",
        "(train_data, train_targets), (test_data, test_targets) = boston_housing.load_data()"
      ]
    },
    {
      "cell_type": "code",
      "execution_count": null,
      "metadata": {
        "colab": {
          "base_uri": "https://localhost:8080/"
        },
        "id": "qcQzcVTTxh6m",
        "outputId": "8d36234f-f3ec-4d19-e90b-804cec0e8971"
      },
      "outputs": [
        {
          "output_type": "execute_result",
          "data": {
            "text/plain": [
              "(404, 13)"
            ]
          },
          "metadata": {},
          "execution_count": 49
        }
      ],
      "source": [
        "train_data.shape"
      ]
    },
    {
      "cell_type": "code",
      "execution_count": null,
      "metadata": {
        "colab": {
          "base_uri": "https://localhost:8080/"
        },
        "id": "mqRzjeWdxh6m",
        "outputId": "f755054d-dbd3-4d7b-88ea-d798796c9755"
      },
      "outputs": [
        {
          "output_type": "execute_result",
          "data": {
            "text/plain": [
              "(102, 13)"
            ]
          },
          "metadata": {},
          "execution_count": 50
        }
      ],
      "source": [
        "test_data.shape"
      ]
    },
    {
      "cell_type": "code",
      "execution_count": null,
      "metadata": {
        "colab": {
          "base_uri": "https://localhost:8080/"
        },
        "id": "2DKZJfIFxh6m",
        "outputId": "8da42657-9fc5-4b2c-80d9-c3eacb60e322"
      },
      "outputs": [
        {
          "output_type": "execute_result",
          "data": {
            "text/plain": [
              "array([15.2, 42.3, 50. , 21.1, 17.7, 18.5, 11.3, 15.6, 15.6, 14.4, 12.1,\n",
              "       17.9, 23.1, 19.9, 15.7,  8.8, 50. , 22.5, 24.1, 27.5, 10.9, 30.8,\n",
              "       32.9, 24. , 18.5, 13.3, 22.9, 34.7, 16.6, 17.5, 22.3, 16.1, 14.9,\n",
              "       23.1, 34.9, 25. , 13.9, 13.1, 20.4, 20. , 15.2, 24.7, 22.2, 16.7,\n",
              "       12.7, 15.6, 18.4, 21. , 30.1, 15.1, 18.7,  9.6, 31.5, 24.8, 19.1,\n",
              "       22. , 14.5, 11. , 32. , 29.4, 20.3, 24.4, 14.6, 19.5, 14.1, 14.3,\n",
              "       15.6, 10.5,  6.3, 19.3, 19.3, 13.4, 36.4, 17.8, 13.5, 16.5,  8.3,\n",
              "       14.3, 16. , 13.4, 28.6, 43.5, 20.2, 22. , 23. , 20.7, 12.5, 48.5,\n",
              "       14.6, 13.4, 23.7, 50. , 21.7, 39.8, 38.7, 22.2, 34.9, 22.5, 31.1,\n",
              "       28.7, 46. , 41.7, 21. , 26.6, 15. , 24.4, 13.3, 21.2, 11.7, 21.7,\n",
              "       19.4, 50. , 22.8, 19.7, 24.7, 36.2, 14.2, 18.9, 18.3, 20.6, 24.6,\n",
              "       18.2,  8.7, 44. , 10.4, 13.2, 21.2, 37. , 30.7, 22.9, 20. , 19.3,\n",
              "       31.7, 32. , 23.1, 18.8, 10.9, 50. , 19.6,  5. , 14.4, 19.8, 13.8,\n",
              "       19.6, 23.9, 24.5, 25. , 19.9, 17.2, 24.6, 13.5, 26.6, 21.4, 11.9,\n",
              "       22.6, 19.6,  8.5, 23.7, 23.1, 22.4, 20.5, 23.6, 18.4, 35.2, 23.1,\n",
              "       27.9, 20.6, 23.7, 28. , 13.6, 27.1, 23.6, 20.6, 18.2, 21.7, 17.1,\n",
              "        8.4, 25.3, 13.8, 22.2, 18.4, 20.7, 31.6, 30.5, 20.3,  8.8, 19.2,\n",
              "       19.4, 23.1, 23. , 14.8, 48.8, 22.6, 33.4, 21.1, 13.6, 32.2, 13.1,\n",
              "       23.4, 18.9, 23.9, 11.8, 23.3, 22.8, 19.6, 16.7, 13.4, 22.2, 20.4,\n",
              "       21.8, 26.4, 14.9, 24.1, 23.8, 12.3, 29.1, 21. , 19.5, 23.3, 23.8,\n",
              "       17.8, 11.5, 21.7, 19.9, 25. , 33.4, 28.5, 21.4, 24.3, 27.5, 33.1,\n",
              "       16.2, 23.3, 48.3, 22.9, 22.8, 13.1, 12.7, 22.6, 15. , 15.3, 10.5,\n",
              "       24. , 18.5, 21.7, 19.5, 33.2, 23.2,  5. , 19.1, 12.7, 22.3, 10.2,\n",
              "       13.9, 16.3, 17. , 20.1, 29.9, 17.2, 37.3, 45.4, 17.8, 23.2, 29. ,\n",
              "       22. , 18. , 17.4, 34.6, 20.1, 25. , 15.6, 24.8, 28.2, 21.2, 21.4,\n",
              "       23.8, 31. , 26.2, 17.4, 37.9, 17.5, 20. ,  8.3, 23.9,  8.4, 13.8,\n",
              "        7.2, 11.7, 17.1, 21.6, 50. , 16.1, 20.4, 20.6, 21.4, 20.6, 36.5,\n",
              "        8.5, 24.8, 10.8, 21.9, 17.3, 18.9, 36.2, 14.9, 18.2, 33.3, 21.8,\n",
              "       19.7, 31.6, 24.8, 19.4, 22.8,  7.5, 44.8, 16.8, 18.7, 50. , 50. ,\n",
              "       19.5, 20.1, 50. , 17.2, 20.8, 19.3, 41.3, 20.4, 20.5, 13.8, 16.5,\n",
              "       23.9, 20.6, 31.5, 23.3, 16.8, 14. , 33.8, 36.1, 12.8, 18.3, 18.7,\n",
              "       19.1, 29. , 30.1, 50. , 50. , 22. , 11.9, 37.6, 50. , 22.7, 20.8,\n",
              "       23.5, 27.9, 50. , 19.3, 23.9, 22.6, 15.2, 21.7, 19.2, 43.8, 20.3,\n",
              "       33.2, 19.9, 22.5, 32.7, 22. , 17.1, 19. , 15. , 16.1, 25.1, 23.7,\n",
              "       28.7, 37.2, 22.6, 16.4, 25. , 29.8, 22.1, 17.4, 18.1, 30.3, 17.5,\n",
              "       24.7, 12.6, 26.5, 28.7, 13.3, 10.4, 24.4, 23. , 20. , 17.8,  7. ,\n",
              "       11.8, 24.4, 13.8, 19.4, 25.2, 19.4, 19.4, 29.1])"
            ]
          },
          "metadata": {},
          "execution_count": 51
        }
      ],
      "source": [
        "train_targets"
      ]
    },
    {
      "cell_type": "markdown",
      "metadata": {
        "id": "mRV06OTNxh6m"
      },
      "source": [
        "### Preparing the data"
      ]
    },
    {
      "cell_type": "markdown",
      "metadata": {
        "id": "NUDEXKrnxh6m"
      },
      "source": [
        "#### Normalizing the data"
      ]
    },
    {
      "cell_type": "code",
      "execution_count": null,
      "metadata": {
        "id": "xTNRwpHZxh6m"
      },
      "outputs": [],
      "source": [
        "mean = train_data.mean(axis=0)\n",
        "train_data -= mean\n",
        "std = train_data.std(axis=0)\n",
        "train_data /= std\n",
        "test_data -= mean\n",
        "test_data /= std"
      ]
    },
    {
      "cell_type": "markdown",
      "metadata": {
        "id": "Ak5QuOrRxh6m"
      },
      "source": [
        "### Building your model"
      ]
    },
    {
      "cell_type": "markdown",
      "metadata": {
        "id": "5_LQDquRxh6m"
      },
      "source": [
        "#### Model definition"
      ]
    },
    {
      "cell_type": "code",
      "execution_count": null,
      "metadata": {
        "id": "EH4VsMNyxh6m"
      },
      "outputs": [],
      "source": [
        "def build_model():\n",
        "    model = keras.Sequential([\n",
        "        layers.Dense(64, activation=\"relu\"),\n",
        "        layers.Dense(64, activation=\"relu\"),\n",
        "        layers.Dense(1)\n",
        "    ])\n",
        "    model.compile(optimizer=\"rmsprop\", loss=\"mse\", metrics=[\"mae\"])\n",
        "    return model"
      ]
    },
    {
      "cell_type": "markdown",
      "metadata": {
        "id": "8_Y_2x1bxh6m"
      },
      "source": [
        "### Validating your approach using K-fold validation"
      ]
    },
    {
      "cell_type": "code",
      "execution_count": null,
      "metadata": {
        "colab": {
          "base_uri": "https://localhost:8080/"
        },
        "id": "lP3j1z76xh6m",
        "outputId": "1fb3c4d9-ea28-4ccb-b821-d48bdf402d4b"
      },
      "outputs": [
        {
          "output_type": "stream",
          "name": "stdout",
          "text": [
            "Processing fold #0\n",
            "Processing fold #1\n",
            "Processing fold #2\n",
            "Processing fold #3\n"
          ]
        }
      ],
      "source": [
        "k = 4\n",
        "num_val_samples = len(train_data) // k\n",
        "num_epochs = 100\n",
        "all_scores = []\n",
        "for i in range(k):\n",
        "    print(f\"Processing fold #{i}\")\n",
        "    val_data = train_data[i * num_val_samples: (i + 1) * num_val_samples]\n",
        "    val_targets = train_targets[i * num_val_samples: (i + 1) * num_val_samples]\n",
        "    partial_train_data = np.concatenate(\n",
        "        [train_data[:i * num_val_samples],\n",
        "         train_data[(i + 1) * num_val_samples:]],\n",
        "        axis=0)\n",
        "    partial_train_targets = np.concatenate(\n",
        "        [train_targets[:i * num_val_samples],\n",
        "         train_targets[(i + 1) * num_val_samples:]],\n",
        "        axis=0)\n",
        "    model = build_model()\n",
        "    model.fit(partial_train_data, partial_train_targets,\n",
        "              epochs=num_epochs, batch_size=16, verbose=0)\n",
        "    val_mse, val_mae = model.evaluate(val_data, val_targets, verbose=0)\n",
        "    all_scores.append(val_mae)"
      ]
    },
    {
      "cell_type": "code",
      "execution_count": null,
      "metadata": {
        "colab": {
          "base_uri": "https://localhost:8080/"
        },
        "id": "nj-3RiYaxh6m",
        "outputId": "863a49ca-076e-4ed1-bbf3-412b2afbc0d1"
      },
      "outputs": [
        {
          "output_type": "execute_result",
          "data": {
            "text/plain": [
              "[1.9040584564208984, 2.4545857906341553, 2.346839427947998, 2.5115411281585693]"
            ]
          },
          "metadata": {},
          "execution_count": 55
        }
      ],
      "source": [
        "all_scores"
      ]
    },
    {
      "cell_type": "code",
      "execution_count": null,
      "metadata": {
        "colab": {
          "base_uri": "https://localhost:8080/"
        },
        "id": "TbaipzZZxh6m",
        "outputId": "1533fc9c-56da-4f67-91ae-8e066b76fd0d"
      },
      "outputs": [
        {
          "output_type": "execute_result",
          "data": {
            "text/plain": [
              "2.3042562007904053"
            ]
          },
          "metadata": {},
          "execution_count": 56
        }
      ],
      "source": [
        "np.mean(all_scores)"
      ]
    },
    {
      "cell_type": "markdown",
      "metadata": {
        "id": "AvBk8lMRxh6m"
      },
      "source": [
        "#### Saving the validation logs at each fold"
      ]
    },
    {
      "cell_type": "code",
      "execution_count": null,
      "metadata": {
        "colab": {
          "base_uri": "https://localhost:8080/"
        },
        "id": "-VaF--Ztxh6m",
        "outputId": "07a914bd-428e-4d66-b6ba-05f0031f29ab"
      },
      "outputs": [
        {
          "output_type": "stream",
          "name": "stdout",
          "text": [
            "Processing fold #0\n",
            "Processing fold #1\n",
            "Processing fold #2\n",
            "Processing fold #3\n"
          ]
        }
      ],
      "source": [
        "num_epochs = 500\n",
        "all_mae_histories = []\n",
        "for i in range(k):\n",
        "    print(f\"Processing fold #{i}\")\n",
        "    val_data = train_data[i * num_val_samples: (i + 1) * num_val_samples]\n",
        "    val_targets = train_targets[i * num_val_samples: (i + 1) * num_val_samples]\n",
        "    partial_train_data = np.concatenate(\n",
        "        [train_data[:i * num_val_samples],\n",
        "         train_data[(i + 1) * num_val_samples:]],\n",
        "        axis=0)\n",
        "    partial_train_targets = np.concatenate(\n",
        "        [train_targets[:i * num_val_samples],\n",
        "         train_targets[(i + 1) * num_val_samples:]],\n",
        "        axis=0)\n",
        "    model = build_model()\n",
        "    history = model.fit(partial_train_data, partial_train_targets,\n",
        "                        validation_data=(val_data, val_targets),\n",
        "                        epochs=num_epochs, batch_size=16, verbose=0)\n",
        "    mae_history = history.history[\"val_mae\"]\n",
        "    all_mae_histories.append(mae_history)"
      ]
    },
    {
      "cell_type": "markdown",
      "metadata": {
        "id": "qxhUlr1bxh6m"
      },
      "source": [
        "#### Building the history of successive mean K-fold validation scores"
      ]
    },
    {
      "cell_type": "code",
      "execution_count": null,
      "metadata": {
        "id": "scyLRwsnxh6m"
      },
      "outputs": [],
      "source": [
        "average_mae_history = [\n",
        "    np.mean([x[i] for x in all_mae_histories]) for i in range(num_epochs)]"
      ]
    },
    {
      "cell_type": "markdown",
      "metadata": {
        "id": "tL1rhvLNxh6m"
      },
      "source": [
        "#### Plotting validation scores"
      ]
    },
    {
      "cell_type": "code",
      "execution_count": null,
      "metadata": {
        "colab": {
          "base_uri": "https://localhost:8080/",
          "height": 283
        },
        "id": "_AtGOs8kxh6n",
        "outputId": "68891ccf-7d2e-48e2-9744-2fdf96b3b84d"
      },
      "outputs": [
        {
          "output_type": "display_data",
          "data": {
            "text/plain": [
              "<Figure size 432x288 with 1 Axes>"
            ],
            "image/png": "[encoded data removed]"
          },
          "metadata": {
            "needs_background": "light"
          }
        }
      ],
      "source": [
        "plt.plot(range(1, len(average_mae_history) + 1), average_mae_history)\n",
        "plt.xlabel(\"Epochs\")\n",
        "plt.ylabel(\"Validation MAE\")\n",
        "plt.show()"
      ]
    },
    {
      "cell_type": "markdown",
      "metadata": {
        "id": "88VzqTeDxh6n"
      },
      "source": [
        "#### Plotting validation scores, excluding the first 10 data points"
      ]
    },
    {
      "cell_type": "code",
      "execution_count": null,
      "metadata": {
        "colab": {
          "base_uri": "https://localhost:8080/",
          "height": 279
        },
        "id": "nJcHbmEjxh6n",
        "outputId": "8d629fdd-0bc9-4536-9139-eee9eb8078a6"
      },
      "outputs": [
        {
          "output_type": "display_data",
          "data": {
            "text/plain": [
              "<Figure size 432x288 with 1 Axes>"
            ],
            "image/png": "[encoded data removed]"
          },
          "metadata": {
            "needs_background": "light"
          }
        }
      ],
      "source": [
        "truncated_mae_history = average_mae_history[10:]\n",
        "plt.plot(range(1, len(truncated_mae_history) + 1), truncated_mae_history)\n",
        "plt.xlabel(\"Epochs\")\n",
        "plt.ylabel(\"Validation MAE\")\n",
        "plt.show()"
      ]
    },
    {
      "cell_type": "markdown",
      "metadata": {
        "id": "64vzjBATxh6n"
      },
      "source": [
        "### Training the final model"
      ]
    },
    {
      "cell_type": "code",
      "execution_count": null,
      "metadata": {
        "colab": {
          "base_uri": "https://localhost:8080/"
        },
        "id": "0VDrjPVZxh6n",
        "outputId": "c65a11dc-d4a5-42fe-aed7-149dc12d57cb"
      },
      "outputs": [
        {
          "output_type": "stream",
          "name": "stdout",
          "text": [
            "4/4 [==============================] - 0s 4ms/step - loss: 16.1227 - mae: 2.5705\n"
          ]
        }
      ],
      "source": [
        "model = build_model()\n",
        "model.fit(train_data, train_targets,\n",
        "          epochs=130, batch_size=16, verbose=0)\n",
        "test_mse_score, test_mae_score = model.evaluate(test_data, test_targets)"
      ]
    },
    {
      "cell_type": "code",
      "execution_count": null,
      "metadata": {
        "colab": {
          "base_uri": "https://localhost:8080/"
        },
        "id": "3hZCLbhbxh6n",
        "outputId": "8de753fd-444f-4e8d-e346-2a3e53216e56"
      },
      "outputs": [
        {
          "output_type": "execute_result",
          "data": {
            "text/plain": [
              "2.5704596042633057"
            ]
          },
          "metadata": {},
          "execution_count": 62
        }
      ],
      "source": [
        "test_mae_score"
      ]
    },
    {
      "cell_type": "markdown",
      "metadata": {
        "id": "DowlbY9Sxh6n"
      },
      "source": [
        "### Generating predictions on new data"
      ]
    },
    {
      "cell_type": "code",
      "execution_count": null,
      "metadata": {
        "colab": {
          "base_uri": "https://localhost:8080/"
        },
        "id": "qSVLepPHxh6n",
        "outputId": "d8bc4d12-2a40-46af-8d5f-9456209e3b10"
      },
      "outputs": [
        {
          "output_type": "stream",
          "name": "stdout",
          "text": [
            "4/4 [==============================] - 0s 3ms/step\n"
          ]
        },
        {
          "output_type": "execute_result",
          "data": {
            "text/plain": [
              "array([7.8704405], dtype=float32)"
            ]
          },
          "metadata": {},
          "execution_count": 63
        }
      ],
      "source": [
        "predictions = model.predict(test_data)\n",
        "predictions[0]"
      ]
    },
    {
      "cell_type": "markdown",
      "metadata": {
        "id": "cNxMzaMt2kp7"
      },
      "source": [
        "### (OPTIONAL) TODO 6\n",
        "\n",
        "Write code to try different combinations of:\n",
        "- K for K-fold validation\n",
        "- number of epochs\n",
        "- number of units per hidden layer\n",
        "- number of hidden layers\n",
        "\n",
        "Please refrain from using better architectures and \"advanced\" techniques to curb overfitting (e.g., dropout, batch normalization, weight regularization, etc.)"
      ]
    },
    {
      "cell_type": "markdown",
      "metadata": {
        "id": "8SoeBbpo3brk"
      },
      "source": [
        "### CONCLUSIONS"
      ]
    },
    {
      "cell_type": "markdown",
      "metadata": {
        "id": "YKuaczBa3_5O"
      },
      "source": [
        "In this project, we learned different types of deep learning problems such as classifications and regression. We implemented both binary classification and multi-class classification, as well as regression. We saw different model structure with different layers and different optimizers. As well as for regression, we used mean absolute error as a loss function. The MAE score is calculated as the average of the absolute error values. The difference between an expected and predicted value may be positive or negative and is forced to be positive when calculating the MAE. So we Learned how to implement deep learning solutions to classical problems in\n",
        "regression and (binary and multiclass) classification using Python, Keras, and TensorFlow. In addition, we saw how to implement, train, and evaluate fully connected neural networks."
      ]
    }
  ],
  "metadata": {
    "accelerator": "GPU",
    "colab": {
      "collapsed_sections": [
        "dxNd2jV5-6qg",
        "3D46qt5-SWzB",
        "AvBk8lMRxh6m"
      ],
      "provenance": [],
      "toc_visible": true,
      "include_colab_link": true
    },
    "kernelspec": {
      "display_name": "Python 3",
      "language": "python",
      "name": "python3"
    },
    "language_info": {
      "codemirror_mode": {
        "name": "ipython",
        "version": 3
      },
      "file_extension": ".py",
      "mimetype": "text/x-python",
      "name": "python",
      "nbconvert_exporter": "python",
      "pygments_lexer": "ipython3",
      "version": "3.6.5"
    }
  },
  "nbformat": 4,
  "nbformat_minor": 0
}